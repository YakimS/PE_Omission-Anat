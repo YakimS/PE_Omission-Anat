{
 "cells": [
  {
   "cell_type": "code",
   "execution_count": 1,
   "metadata": {
    "collapsed": false,
    "pycharm": {
     "name": "#%%\n"
    },
    "tags": []
   },
   "outputs": [],
   "source": [
    "%reset\n",
    "#%matplotlib qt"
   ]
  },
  {
   "cell_type": "code",
   "execution_count": 2,
   "metadata": {
    "collapsed": false,
    "pycharm": {
     "name": "#%%\n"
    }
   },
   "outputs": [
    {
     "data": {
      "text/plain": [
       "0"
      ]
     },
     "execution_count": 2,
     "metadata": {},
     "output_type": "execute_result"
    }
   ],
   "source": [
    "import matplotlib.pyplot as plt\n",
    "import numpy as np\n",
    "import scipy.io\n",
    "import scipy.stats\n",
    "import mne\n",
    "from mne.time_frequency import tfr_morlet\n",
    "from mne.stats import permutation_cluster_1samp_test\n",
    "import gc\n",
    "import os\n",
    "import copy\n",
    "import pickle\n",
    "from os.path import exists\n",
    "import mne\n",
    "import numpy as np\n",
    "from mne import create_info\n",
    "from auxiliary import AuxFuncs\n",
    "from IPython.utils import io\n",
    "\n",
    "gc.collect()"
   ]
  },
  {
   "cell_type": "code",
   "execution_count": 3,
   "metadata": {
    "collapsed": false,
    "pycharm": {
     "name": "#%%\n"
    }
   },
   "outputs": [],
   "source": [
    "epochs_dir = 'C:\\AnatArzData\\YKM_data\\epochs_and_evoked_allSubs'\n",
    "prepro_name = \"referenced\"\n",
    "import_type = \"5Electorodes_plainEEGLAB\"\n",
    "trial_exclution_str = \"_excOulierTrials-3.5\" #\"_excOulierTrials-2.5\""
   ]
  },
  {
   "cell_type": "markdown",
   "metadata": {
    "collapsed": false,
    "pycharm": {
     "name": "#%% md\n"
    }
   },
   "source": [
    "## Import epochs"
   ]
  },
  {
   "cell_type": "code",
   "execution_count": null,
   "metadata": {
    "collapsed": false,
    "pycharm": {
     "name": "#%%\n"
    }
   },
   "outputs": [],
   "source": [
    "import_path = f'{epochs_dir}\\\\{import_type}{trial_exclution_str}.pkl'\n",
    "aux = AuxFuncs(import_path)\n",
    "\n",
    "allEpochs_perCond = aux.allEpochs_condIdDict\n",
    "allEvents_df = aux.allEvents_df\n",
    "c = aux.config\n",
    "times = c['times']\n",
    "time0_i = c['time0_i']\n",
    "\n",
    "fig_output_dir = f\"{c['outputs_dir_path']}/timefreq_clusterPerm\"\n",
    "if not os.path.exists(fig_output_dir):\n",
    "    os.mkdir(fig_output_dir)"
   ]
  },
  {
   "cell_type": "code",
   "execution_count": null,
   "metadata": {
    "collapsed": false,
    "pycharm": {
     "name": "#%%\n"
    }
   },
   "outputs": [],
   "source": [
    "def applyDesign(ax,title=''):\n",
    "    ax.get_figure().patch.set_facecolor('xkcd:white')\n",
    "    ax.set_facecolor('silver')\n",
    "    ax.set_title(title)\n",
    "    ax.legend(loc = 'upper right',prop={'size': 10})\n",
    "    ax.axvline(x=0,color='gray', linestyle='--',label =\"_nolegend_\")\n",
    "    ax.axhline(y=0, color='gray', linestyle='-',label =\"_nolegend_\")\n",
    "    ax.set_ylabel('magnitude')\n",
    "    ax.tick_params(axis='both', which='major', labelsize=14)\n",
    "    ax.set_xlabel('Time (ms)')"
   ]
  },
  {
   "cell_type": "markdown",
   "metadata": {
    "collapsed": false,
    "pycharm": {
     "name": "#%% md\n"
    }
   },
   "source": [
    "## Time-freq functions"
   ]
  },
  {
   "cell_type": "code",
   "execution_count": null,
   "metadata": {
    "collapsed": false,
    "pycharm": {
     "name": "#%%\n"
    }
   },
   "outputs": [],
   "source": [
    "cond_1 = {'TOA_cond':'Rand','Vigilance':'N3'}\n",
    "cond_2 = {'TOA_cond':'Fixed','Vigilance':'N3'}\n",
    "contrast_name = \"allSubs_RandvsFixed_N3\"\n",
    "\n",
    "#### Parameters:\n",
    "# ==================\n",
    "# zscore baseline\n",
    "## Tail is 0, so the statistic is thresholded on both sides of the distribution.\n",
    "baseline_period = (None, 0) ## For timefreq analysis\n",
    "p_value = 0.05 # default 0.05 # for clusters\n",
    "decim = 1# default 2 for testing.. For reals- 1\n",
    "n_permutations=1000 # default 1k for testing. For reals - 10K\n",
    "min_freq = 4\n",
    "freqs = np.arange(min_freq,80, 1)  # define frequencies of interest\n",
    "n_cycles = freqs / min_freq # different number of cycle per frequency\n",
    "\n",
    "tail = 0 # 0 = two-tailed test (for clusters (as we want positive and negative clusters))\n",
    "p_value_pixels = 0.05\n",
    "\n",
    "test_per_voxel='ttest'\n",
    "is_tfr_performAverageBaseline=True"
   ]
  },
  {
   "cell_type": "code",
   "execution_count": null,
   "metadata": {
    "collapsed": false,
    "pycharm": {
     "name": "#%%\n"
    }
   },
   "outputs": [],
   "source": [
    "def plot_clusters_map(ax1,T_obs,ch_idx,tfr_epochs,t_thresh,T_obs_plot):\n",
    "    vmax = np.max(np.abs(T_obs))\n",
    "    vmin = -vmax\n",
    "    ax1.imshow(T_obs[ch_idx], cmap=plt.cm.gray,\n",
    "               extent=[times[0], times[-1], freqs[0], freqs[-1]],\n",
    "               aspect='auto', origin='lower', vmin=vmin, vmax=vmax)\n",
    "    ax1.imshow(T_obs_plot[ch_idx], cmap=plt.cm.RdBu_r,\n",
    "               extent=[times[0], times[-1], freqs[0], freqs[-1]],\n",
    "               aspect='auto', origin='lower', vmin=vmin, vmax=vmax)\n",
    "    #ax1.set_colorbar()\n",
    "    ax1.set_xlabel('Time (ms)')\n",
    "    ax1.set_ylabel('Frequency (Hz)')\n",
    "    ax1.set_title(f'Induced power ({tfr_epochs.ch_names[ch_idx]})\\nThreshold:{t_thresh}\\ncluster p_val={p_value},n_permutation={n_permutations}\\ncontrast:{cond_1};{cond_2}')\n",
    "def plot_elecds_erps(ax2,mean_epochs_time_diff,ch_idx,tfr_epochs):\n",
    "    ax2.plot(times,mean_epochs_time_diff.T,color='blue')\n",
    "    mean_electrods = np.nanmean(mean_epochs_time_diff,axis=0)\n",
    "    ax2.plot(times,mean_electrods,color='yellow',label='mean')\n",
    "    ax2.plot(times,mean_epochs_time_diff[ch_idx,:],label=tfr_epochs.ch_names[ch_idx],color='red')\n",
    "    ax2.legend()\n",
    "    ax2.set_xlim(times[0],times[-1])\n",
    "    applyDesign(ax2,'ERP difference')"
   ]
  },
  {
   "cell_type": "markdown",
   "metadata": {
    "collapsed": false,
    "pycharm": {
     "name": "#%% md\n"
    }
   },
   "source": [
    "## Run many contrasts at once"
   ]
  },
  {
   "cell_type": "code",
   "execution_count": null,
   "metadata": {
    "collapsed": false,
    "pycharm": {
     "name": "#%% md\n"
    }
   },
   "outputs": [
    {
     "ename": "",
     "evalue": "",
     "output_type": "error",
     "traceback": [
      "\u001b[1;31mRunning cells with 'Python 3.9.12 64-bit ('anaconda3')' requires ipykernel package.\n",
      "\u001b[1;31mRun the following command to install 'ipykernel' into the Python environment. \n",
      "\u001b[1;31mCommand: 'c:/Users/Sharon/anaconda3/python.exe -m pip install ipykernel -U --user --force-reinstall'"
     ]
    }
   ],
   "source": [
    "def stat_fun_wilcox(X):\n",
    "    result = scipy.stats.wilcoxon(X)\n",
    "    return result.statistic\n",
    "\n",
    "def getClustersPerConditions_5timesBaseline(c,cond_1,cond_2, contrast_name,cluster_range_index,is_tfr_performAverageBaseline=True,baseline_period=(None, 0),test_per_voxel='ttest'):\n",
    "    if test_per_voxel=='ttest':\n",
    "        test_per_voxel = mne.stats.ttest_1samp_no_p\n",
    "    else:\n",
    "        test_per_voxel = stat_fun_wilcox\n",
    "\n",
    "    epochs_time_diff = []\n",
    "    epochs_power_diff = []\n",
    "    for sub in c['subs']:\n",
    "        currContr_conds1 = cond_1.copy()\n",
    "        currContr_conds1['Subject'] = sub\n",
    "        __, cont_epochs1 = aux.getEvokedPerCondAndElectd(currContr_conds1,allEvents_df,allEpochs_perCond,times, outputType='mne')\n",
    "\n",
    "        if cond_2 == \"baseline\":\n",
    "            baseline_epochs_data = copy.deepcopy(cont_epochs1.get_data())\n",
    "\n",
    "            baseline_orig_data = baseline_epochs_data[:,:,0:time0_i]\n",
    "            baseline_epochs_data[:,:,time0_i:time0_i*2] = baseline_orig_data\n",
    "            baseline_epochs_data[:,:,time0_i*2:time0_i*3] = baseline_orig_data\n",
    "            baseline_epochs_data[:,:,time0_i*3:time0_i*4] = baseline_orig_data\n",
    "            baseline_epochs_data[:,:,time0_i*4:time0_i*5] = baseline_orig_data\n",
    "            baseline_epochs_data[:,:,time0_i*5:] = baseline_orig_data[:,:,:13]\n",
    "\n",
    "            with io.capture_output() as captured: # suppress output\n",
    "                cont_epochs2 = mne.EpochsArray(baseline_epochs_data, aux.info,tmin=-0.1)\n",
    "        else:\n",
    "            currContr_conds2 = cond_2.copy()\n",
    "            currContr_conds2['Subject'] = sub\n",
    "            __, cont_epochs2 = aux.getEvokedPerCondAndElectd(currContr_conds2,allEvents_df,allEpochs_perCond,times, outputType='mne')\n",
    "\n",
    "        if is_tfr_performAverageBaseline:\n",
    "            with io.capture_output() as captured: # suppress output\n",
    "                tfr_epochs1 = tfr_morlet(cont_epochs1, freqs, n_cycles=n_cycles, decim=decim, average=False, return_itc=False)\n",
    "                tfr_epochs2 = tfr_morlet(cont_epochs2, freqs, n_cycles=n_cycles, decim=decim, average=False, return_itc=False)\n",
    "\n",
    "            both_tfr_data = np.concatenate((tfr_epochs1.data,tfr_epochs2.data),axis=0)\n",
    "            both_tfr_data_tfr = copy.deepcopy(tfr_epochs1)\n",
    "            both_tfr_data_tfr.data = both_tfr_data\n",
    "\n",
    "            #Correction is applied to all epoch and channel together in the following way: 1.Calculate the mean signal of the baseline period. 2.Subtract this mean from the entire epoch.\n",
    "            with io.capture_output() as captured: # suppress output\n",
    "                both_tfr_data_tfr.apply_baseline(mode='zscore', baseline=baseline_period)\n",
    "\n",
    "            num_of_cond1_trials = tfr_epochs1.data.shape[0]\n",
    "            epochs_power1 = np.mean(both_tfr_data_tfr.data[:num_of_cond1_trials,:,:,:],axis=(0,1)) # elec, freqs, time\n",
    "            epochs_power2 = np.mean(both_tfr_data_tfr.data[num_of_cond1_trials:,:,:,:],axis=(0,1)) # elec, freqs, time\n",
    "\n",
    "            epochs_time_diff.append(np.mean(cont_epochs1,axis=0) - np.mean(cont_epochs2,axis=0))\n",
    "        else: # apply baseline seperately\n",
    "            tfr_epochs1 = tfr_morlet(cont_epochs1, freqs, n_cycles=n_cycles, decim=decim, average=True, return_itc=False)\n",
    "            tfr_epochs2 = tfr_morlet(cont_epochs2, freqs, n_cycles=n_cycles, decim=decim, average=True, return_itc=False)\n",
    "            tfr_epochs1.apply_baseline(mode='zscore', baseline=baseline_period)\n",
    "            tfr_epochs2.apply_baseline(mode='zscore', baseline=baseline_period)\n",
    "            epochs_power1 = tfr_epochs1.data # elec, freqs, time\n",
    "            epochs_power2 = tfr_epochs2.data # elec, freqs, time\n",
    "\n",
    "            epochs_time_diff.append(np.mean(cont_epochs1.get_data(),axis=0) - np.mean(cont_epochs2.get_data(),axis=0))\n",
    "\n",
    "        means_diff = epochs_power1-epochs_power2\n",
    "        epochs_power_diff.append(means_diff)\n",
    "\n",
    "    # (n_epochs, n_channels, n_freqs, n_times)\n",
    "    epochs_power_diff_arr = np.zeros((len(c['subs']),len(c['electrodes']),len(freqs),len(times)))\n",
    "    for s,subject in enumerate(c['subs']):\n",
    "        epochs_power_diff_arr[s,:,:,:] = epochs_power_diff[s]\n",
    "\n",
    "    #### Define adjacency for statistics\n",
    "    tfr_epochs = tfr_epochs1\n",
    "    sensor_adjacency, ch_names = mne.channels.find_ch_adjacency(tfr_epochs.info,ch_type=None)\n",
    "    use_idx = [ch_names.index(ch_name) for ch_name in tfr_epochs.ch_names]\n",
    "    sensor_adjacency = sensor_adjacency[use_idx][:, use_idx]\n",
    "    assert sensor_adjacency.shape == (len(tfr_epochs.ch_names), len(tfr_epochs.ch_names))\n",
    "    assert epochs_power_diff_arr.shape == (len(c['subs']), len(tfr_epochs.ch_names), len(tfr_epochs.freqs), len(tfr_epochs.times))\n",
    "    adjacency = mne.stats.combine_adjacency(sensor_adjacency, len(tfr_epochs.freqs), len(tfr_epochs.times))\n",
    "    assert adjacency.shape[0] == adjacency.shape[1] == len(tfr_epochs.ch_names) * len(tfr_epochs.freqs) * len(tfr_epochs.times)\n",
    "\n",
    "    ### run cluster permutation\n",
    "    degrees_of_freedom = len(c['subs']) - 1\n",
    "    t_thresh = scipy.stats.t.ppf(1 - p_value_pixels / 2, df=degrees_of_freedom)\n",
    "    T_obs, clusters, cluster_p_values, H0 = permutation_cluster_1samp_test(epochs_power_diff_arr[...,cluster_range_index[0]:cluster_range_index[1]], n_permutations=n_permutations, threshold=t_thresh, tail=tail,  out_type='mask', verbose=True, stat_fun=test_per_voxel)\n",
    "\n",
    "    ############# plot\n",
    "    T_obs_plot = np.nan * np.ones_like(T_obs)\n",
    "    for c, clust_p_val in zip(clusters, cluster_p_values):\n",
    "        if clust_p_val <= p_value:\n",
    "            T_obs_plot[c] = T_obs[c]\n",
    "    mean_epochs_time_diff = np.nanmean(epochs_time_diff,axis=0)\n",
    "\n",
    "    padded_t_obs = np.zeros((len(c['electrodes']), len(freqs),len(times)))\n",
    "    padded_t_obs_plot = np.zeros((len(c['electrodes']), len(freqs),len(times)))\n",
    "    padded_t_obs[:,:,cluster_range_index[0]:cluster_range_index[1]]=T_obs\n",
    "    padded_t_obs_plot[:,:,cluster_range_index[0]:cluster_range_index[1]]=T_obs_plot\n",
    "\n",
    "    for ch_idx, elecd in enumerate(c['electrodes']):\n",
    "        fig, (ax1, ax2) = plt.subplots(2, 1, figsize=(10, 8))\n",
    "        fig.subplots_adjust(left=0.12,bottom= 0.08,right= 0.96, top=0.85, wspace=0.2, hspace=0.3)\n",
    "        plot_clusters_map(ax1,padded_t_obs,ch_idx,tfr_epochs,t_thresh,padded_t_obs_plot)\n",
    "        plot_elecds_erps(ax2,mean_epochs_time_diff,ch_idx,tfr_epochs)\n",
    "        plt.ioff()\n",
    "        plt.savefig(f'{fig_output_dir}/timeFreq_clusters_{contrast_name}_{tfr_epochs.ch_names[ch_idx]}.png',bbox_inches='tight')\n",
    "       \n",
    "       \n",
    "contrasts_5timesBase = {}    \n",
    "contrasts_5timesBase[\"allSubs_RandvsFixed_Wn\"] = {'cond_1':{'TOA_cond':'Rand','Vigilance':'Wn'},'cond_2':{'TOA_cond':'Fixed','Vigilance':'Wn'}}\n",
    "for contrast in contrasts_5timesBase:\n",
    "    cond_1 = contrasts_5timesBase[contrast]['cond_1']\n",
    "    cond_2 = contrasts_5timesBase[contrast]['cond_2']\n",
    "    print(f'Now computeing {cond_1} and {cond_2}')\n",
    "\n",
    "    contrast_name = f\"{contrast.title()}_-{test_per_voxel}\"\n",
    "    getClustersPerConditions_5timesBaseline(c,cond_1, cond_2, contrast_name,cluster_range_index=[time0_i, time0_i*2],is_tfr_performAverageBaseline=is_tfr_performAverageBaseline, test_per_voxel=test_per_voxel) "
   ]
  },
  {
   "cell_type": "code",
   "execution_count": null,
   "metadata": {},
   "outputs": [
    {
     "ename": "",
     "evalue": "",
     "output_type": "error",
     "traceback": [
      "\u001b[1;31mRunning cells with 'Python 3.9.12 64-bit ('anaconda3')' requires ipykernel package.\n",
      "\u001b[1;31mRun the following command to install 'ipykernel' into the Python environment. \n",
      "\u001b[1;31mCommand: 'c:/Users/Sharon/anaconda3/python.exe -m pip install ipykernel -U --user --force-reinstall'"
     ]
    }
   ],
   "source": [
    "np.zeros((len(c['electrodes']), len(freqs),len(times)))"
   ]
  }
 ],
 "metadata": {
  "kernelspec": {
   "display_name": "Python 3.9.6 64-bit",
   "language": "python",
   "name": "python3"
  },
  "language_info": {
   "codemirror_mode": {
    "name": "ipython",
    "version": 3
   },
   "file_extension": ".py",
   "mimetype": "text/x-python",
   "name": "python",
   "nbconvert_exporter": "python",
   "pygments_lexer": "ipython3",
   "version": "3.9.6"
  },
  "vscode": {
   "interpreter": {
    "hash": "946b629e9a35e0bdbfd20594fab2712eb62be0364242a9946815d6a663dae4aa"
   }
  }
 },
 "nbformat": 4,
 "nbformat_minor": 0
}
