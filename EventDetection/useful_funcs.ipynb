{
 "cells": [
  {
   "cell_type": "code",
   "execution_count": 67,
   "metadata": {
    "collapsed": false,
    "pycharm": {
     "name": "#%%\n"
    }
   },
   "outputs": [
    {
     "data": {
      "text/plain": [
       "11"
      ]
     },
     "execution_count": 67,
     "metadata": {},
     "output_type": "execute_result"
    }
   ],
   "source": [
    "## how to df \n",
    "\n",
    "## add row to df and empty df\n",
    "x = pd.DataFrame([], columns = deleted.columns)\n",
    "y= deleted.iloc[[0]]\n",
    "y2= deleted.iloc[[1]]\n",
    "z = pd.concat([x,y])\n",
    "zz = pd.concat([z,y2])\n",
    "display(zz)\n",
    "\n",
    "## delete first row\n",
    "# zz.drop(zz.index[0], axis=0, inplace=True) \n",
    "# display(zz)\n",
    "\n",
    "## get value at i,j\n",
    "print(deleted.iloc[0]['spindleStartTime'])\n",
    "\n",
    "## get column as array\n",
    "arr = np.array(zz['electrode'])\n",
    "print(arr)\n",
    "\n",
    "## replace inplace value in i,j to array:\n",
    "zz.iat[1, zz.columns.get_loc(electrode_column_name)] = arr\n",
    "zz"
   ]
  }
 ],
 "metadata": {
  "kernelspec": {
   "display_name": "Python 3",
   "language": "python",
   "name": "python3"
  },
  "language_info": {
   "codemirror_mode": {
    "name": "ipython",
    "version": 3
   },
   "file_extension": ".py",
   "mimetype": "text/x-python",
   "name": "python",
   "nbconvert_exporter": "python",
   "pygments_lexer": "ipython3",
   "version": "3.8.0"
  },
  "vscode": {
   "interpreter": {
    "hash": "f544ce1a915a9875fad91c894e2c0bcad4b7a79945aa6027ef3ad27810072aa6"
   }
  }
 },
 "nbformat": 4,
 "nbformat_minor": 0
}
