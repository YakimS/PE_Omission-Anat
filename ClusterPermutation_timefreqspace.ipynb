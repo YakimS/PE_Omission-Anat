{
 "cells": [
  {
   "cell_type": "code",
   "execution_count": 1,
   "outputs": [],
   "source": [
    "%reset\n",
    "#%matplotlib qt"
   ],
   "metadata": {
    "collapsed": false,
    "pycharm": {
     "name": "#%%\n"
    }
   }
  },
  {
   "cell_type": "code",
   "execution_count": 11,
   "outputs": [
    {
     "data": {
      "text/plain": "297"
     },
     "execution_count": 11,
     "metadata": {},
     "output_type": "execute_result"
    }
   ],
   "source": [
    "import matplotlib.pyplot as plt\n",
    "import numpy as np\n",
    "import scipy.io\n",
    "import scipy.stats\n",
    "import pandas as pd\n",
    "import pickle\n",
    "from os.path import exists\n",
    "import gc\n",
    "\n",
    "import mne\n",
    "from mne.stats import spatio_temporal_cluster_test, combine_adjacency\n",
    "from mne.datasets import sample\n",
    "from mne.channels import find_ch_adjacency\n",
    "from mne.viz import plot_compare_evokeds\n",
    "from mne.time_frequency import tfr_morlet\n",
    "from mne import stats\n",
    "from mne.time_frequency import tfr_morlet\n",
    "from mne.stats import permutation_cluster_1samp_test\n",
    "from mne.stats import permutation_cluster_test\n",
    "from mne import io\n",
    "\n",
    "gc.collect()"
   ],
   "metadata": {
    "collapsed": false,
    "pycharm": {
     "name": "#%%\n"
    }
   }
  },
  {
   "cell_type": "code",
   "execution_count": 3,
   "outputs": [],
   "source": [
    "epochs_dir = 'C:\\AnatArzData\\YKM_data\\epochs_and_evoked_allSubs'\n",
    "prepro_name = \"referenced\"\n",
    "import_type = \"5Electorodes_plainEEGLAB\"\n",
    "fig_output_dir = \"C:\\\\Users\\Sharon\\OneDrive\\Desktop\\AnatArzi\\scripts\\Python_scripts - Sharons\\mycode\\outputs\""
   ],
   "metadata": {
    "collapsed": false,
    "pycharm": {
     "name": "#%%\n"
    }
   }
  },
  {
   "cell_type": "markdown",
   "source": [],
   "metadata": {
    "collapsed": false,
    "pycharm": {
     "name": "#%% md\n"
    }
   }
  },
  {
   "cell_type": "markdown",
   "source": [
    "## Import epochs"
   ],
   "metadata": {
    "collapsed": false,
    "pycharm": {
     "name": "#%% md\n"
    }
   },
   "execution_count": 1
  },
  {
   "cell_type": "code",
   "execution_count": 4,
   "outputs": [],
   "source": [
    "with open(f'{epochs_dir}\\\\{import_type}.pkl', 'rb') as file:\n",
    "    [allEvents_df, allEpochs_perCond, cfg] = pickle.load(file)\n",
    "\n",
    "cfg['sample_freq'] = 250\n",
    "\n",
    "max_freq  =cfg['sample_freq']/2\n",
    "times = cfg['times']\n",
    "time0_i = np.where(times==0)[0][0]\n",
    "hz_y = np.fft.rfftfreq(len(times[time0_i:]), 1.0/cfg['sample_freq'])"
   ],
   "metadata": {
    "collapsed": false,
    "pycharm": {
     "name": "#%%\n"
    }
   }
  },
  {
   "cell_type": "code",
   "execution_count": 5,
   "outputs": [
    {
     "data": {
      "text/plain": "      Cond_id Subject Vigilance TOA ToneHeight TrialPosition SamplesAmount  \\\n0           0      08        Wn   T        650             0            24   \n1           1      08        Wn   T        650             1            24   \n2           2      08        Wn   T        650             2            24   \n3           3      08        Wn   T        650             3            24   \n4           4      08        Wn   T        650             4            24   \n...       ...     ...       ...  ..        ...           ...           ...   \n30235   30235      38       REM   A       5302             5             0   \n30236   30236      38       REM   A       5302             6             0   \n30237   30237      38       REM   A       5302             7             0   \n30238   30238      38       REM   A       5302             8             0   \n30239   30239      38       REM   A       5302             9             0   \n\n                                        Epoch_eeglab_ids TOA_cond  \n0      [142, 262, 422, 682, 942, 1062, 1262, 1582, 16...        T  \n1      [144, 264, 424, 684, 944, 1064, 1264, 1584, 16...        T  \n2      [146, 266, 426, 686, 946, 1066, 1266, 1586, 16...        T  \n3      [148, 268, 428, 688, 948, 1068, 1268, 1588, 16...        T  \n4      [150, 270, 430, 690, 950, 1070, 1270, 1590, 16...        T  \n...                                                  ...      ...  \n30235                                                 []        A  \n30236                                                 []        A  \n30237                                                 []        A  \n30238                                                 []        A  \n30239                                                 []        A  \n\n[30240 rows x 9 columns]",
      "text/html": "<div>\n<style scoped>\n    .dataframe tbody tr th:only-of-type {\n        vertical-align: middle;\n    }\n\n    .dataframe tbody tr th {\n        vertical-align: top;\n    }\n\n    .dataframe thead th {\n        text-align: right;\n    }\n</style>\n<table border=\"1\" class=\"dataframe\">\n  <thead>\n    <tr style=\"text-align: right;\">\n      <th></th>\n      <th>Cond_id</th>\n      <th>Subject</th>\n      <th>Vigilance</th>\n      <th>TOA</th>\n      <th>ToneHeight</th>\n      <th>TrialPosition</th>\n      <th>SamplesAmount</th>\n      <th>Epoch_eeglab_ids</th>\n      <th>TOA_cond</th>\n    </tr>\n  </thead>\n  <tbody>\n    <tr>\n      <th>0</th>\n      <td>0</td>\n      <td>08</td>\n      <td>Wn</td>\n      <td>T</td>\n      <td>650</td>\n      <td>0</td>\n      <td>24</td>\n      <td>[142, 262, 422, 682, 942, 1062, 1262, 1582, 16...</td>\n      <td>T</td>\n    </tr>\n    <tr>\n      <th>1</th>\n      <td>1</td>\n      <td>08</td>\n      <td>Wn</td>\n      <td>T</td>\n      <td>650</td>\n      <td>1</td>\n      <td>24</td>\n      <td>[144, 264, 424, 684, 944, 1064, 1264, 1584, 16...</td>\n      <td>T</td>\n    </tr>\n    <tr>\n      <th>2</th>\n      <td>2</td>\n      <td>08</td>\n      <td>Wn</td>\n      <td>T</td>\n      <td>650</td>\n      <td>2</td>\n      <td>24</td>\n      <td>[146, 266, 426, 686, 946, 1066, 1266, 1586, 16...</td>\n      <td>T</td>\n    </tr>\n    <tr>\n      <th>3</th>\n      <td>3</td>\n      <td>08</td>\n      <td>Wn</td>\n      <td>T</td>\n      <td>650</td>\n      <td>3</td>\n      <td>24</td>\n      <td>[148, 268, 428, 688, 948, 1068, 1268, 1588, 16...</td>\n      <td>T</td>\n    </tr>\n    <tr>\n      <th>4</th>\n      <td>4</td>\n      <td>08</td>\n      <td>Wn</td>\n      <td>T</td>\n      <td>650</td>\n      <td>4</td>\n      <td>24</td>\n      <td>[150, 270, 430, 690, 950, 1070, 1270, 1590, 16...</td>\n      <td>T</td>\n    </tr>\n    <tr>\n      <th>...</th>\n      <td>...</td>\n      <td>...</td>\n      <td>...</td>\n      <td>...</td>\n      <td>...</td>\n      <td>...</td>\n      <td>...</td>\n      <td>...</td>\n      <td>...</td>\n    </tr>\n    <tr>\n      <th>30235</th>\n      <td>30235</td>\n      <td>38</td>\n      <td>REM</td>\n      <td>A</td>\n      <td>5302</td>\n      <td>5</td>\n      <td>0</td>\n      <td>[]</td>\n      <td>A</td>\n    </tr>\n    <tr>\n      <th>30236</th>\n      <td>30236</td>\n      <td>38</td>\n      <td>REM</td>\n      <td>A</td>\n      <td>5302</td>\n      <td>6</td>\n      <td>0</td>\n      <td>[]</td>\n      <td>A</td>\n    </tr>\n    <tr>\n      <th>30237</th>\n      <td>30237</td>\n      <td>38</td>\n      <td>REM</td>\n      <td>A</td>\n      <td>5302</td>\n      <td>7</td>\n      <td>0</td>\n      <td>[]</td>\n      <td>A</td>\n    </tr>\n    <tr>\n      <th>30238</th>\n      <td>30238</td>\n      <td>38</td>\n      <td>REM</td>\n      <td>A</td>\n      <td>5302</td>\n      <td>8</td>\n      <td>0</td>\n      <td>[]</td>\n      <td>A</td>\n    </tr>\n    <tr>\n      <th>30239</th>\n      <td>30239</td>\n      <td>38</td>\n      <td>REM</td>\n      <td>A</td>\n      <td>5302</td>\n      <td>9</td>\n      <td>0</td>\n      <td>[]</td>\n      <td>A</td>\n    </tr>\n  </tbody>\n</table>\n<p>30240 rows × 9 columns</p>\n</div>"
     },
     "execution_count": 5,
     "metadata": {},
     "output_type": "execute_result"
    }
   ],
   "source": [
    "allEvents_df"
   ],
   "metadata": {
    "collapsed": false,
    "pycharm": {
     "name": "#%%\n"
    }
   }
  },
  {
   "cell_type": "code",
   "execution_count": 6,
   "outputs": [],
   "source": [
    "example_subject = '32'\n",
    "example_epochs_filename = f\"epochs_Wn_s{example_subject}_file\"\n",
    "data_path = 'C:\\AnatArzData\\Data\\\\reref'\n",
    "subject_setfile_wake_n = data_path + '\\s_32_wake_night_referenced.set'\n",
    "\n",
    "if exists(example_epochs_filename):\n",
    "    with open(example_epochs_filename, 'rb') as config_dictionary_file:\n",
    "        epochs_Wn_example_sub = pickle.load(config_dictionary_file)\n",
    "        #print(epochs_Wn_example_sub)\n",
    "else:\n",
    "    epochs_Wn_example_sub = io.read_epochs_eeglab(subject_setfile_wake_n, events=None, event_id=None,eog=(),verbose=None, uint16_codec=None)\n",
    "    with open(example_epochs_filename, 'wb') as epochs_Wn_s_example_file:\n",
    "        pickle.dump(epochs_Wn_example_sub, epochs_Wn_s_example_file)\n",
    "\n",
    "montage = mne.channels.make_standard_montage('GSN-HydroCel-128')\n",
    "epochs_Wn_example_sub_piked = epochs_Wn_example_sub.pick_channels(cfg['ch_names'])\n",
    "epochs_Wn_example_sub_monatged = epochs_Wn_example_sub_piked.set_montage(montage)\n",
    "info = epochs_Wn_example_sub_monatged.info"
   ],
   "metadata": {
    "collapsed": false,
    "pycharm": {
     "name": "#%%\n"
    }
   }
  },
  {
   "cell_type": "code",
   "execution_count": 7,
   "outputs": [],
   "source": [
    "def getEpochsPerCond(cond_df,dataset):\n",
    "    df_minTrials = cond_df[(cond_df.SamplesAmount > 0)] # discard cond with 0 enough samples\n",
    "    keys = (str(key) for key in df_minTrials.Cond_id)\n",
    "    epochs = {str_key: dataset[str_key] for str_key in keys}\n",
    "    return df_minTrials, epochs\n",
    "\n",
    "# output: [#conds, #elect, #y_ax]\n",
    "def getEvokedPerCondAndElectd(constraints,dataset,y_ax,outputType='array',tmin=-0.1):\n",
    "    curr_df =allEvents_df.copy()\n",
    "    # apply constraints\n",
    "    for key in constraints: curr_df = curr_df[(curr_df[key] == constraints[key])]\n",
    "\n",
    "    conds_df, epochsPerCond = getEpochsPerCond(curr_df,dataset)\n",
    "    evoked_perCond_andElectd = np.zeros((len(epochsPerCond),np.size(cfg['electrodes']),len(y_ax)))\n",
    "\n",
    "    for cond_i, cond in enumerate(epochsPerCond):\n",
    "        evoked_perCond_andElectd[cond_i] = np.squeeze(np.nanmean(epochsPerCond[cond],axis=2))\n",
    "\n",
    "    if outputType =='array':\n",
    "        return conds_df, evoked_perCond_andElectd\n",
    "    elif outputType =='mne':\n",
    "        # Epochs array shapr should be: (len(epochs_samps_per_cond),len(electrodes),len(y_ax))\n",
    "        mne_epochs = mne.EpochsArray(evoked_perCond_andElectd, info,tmin=tmin,baseline=baseline)\n",
    "        return conds_df, mne_epochs ## TODO: this is epochs. Maybe we need evoked."
   ],
   "metadata": {
    "collapsed": false,
    "pycharm": {
     "name": "#%%\n"
    }
   }
  },
  {
   "cell_type": "code",
   "execution_count": 8,
   "outputs": [],
   "source": [
    "def applyDesign(ax,title=''):\n",
    "    ax.set_facecolor('silver')\n",
    "    ax.set_title(title)\n",
    "    ax.legend(loc = 'upper right',prop={'size': 10})\n",
    "    ax.axvline(x=0,color='gray', linestyle='--',label =\"_nolegend_\")\n",
    "    ax.axhline(y=0, color='gray', linestyle='-',label =\"_nolegend_\")\n",
    "    ax.set_ylabel('magnitude')\n",
    "    ax.tick_params(axis='both', which='major', labelsize=14)\n",
    "    ax.set_xlabel('Time (ms)')"
   ],
   "metadata": {
    "collapsed": false,
    "pycharm": {
     "name": "#%%\n"
    }
   }
  },
  {
   "cell_type": "markdown",
   "source": [
    "## Time-freq functions"
   ],
   "metadata": {
    "collapsed": false,
    "pycharm": {
     "name": "#%% md\n"
    }
   }
  },
  {
   "cell_type": "code",
   "execution_count": 9,
   "outputs": [],
   "source": [
    "cond_1 = {'TOA_cond':'T','Vigilance':'Wn'}\n",
    "cond_2 = {'TOA_cond':'T','Vigilance':'N2'}\n",
    "contrast_name = \"allSubs_T_WnvsN3\"\n",
    "\n",
    "#### Parameters:\n",
    "# ==================\n",
    "# zscore baseline\n",
    "## Tail is 0, so the statistic is thresholded on both sides of the distribution.\n",
    "baseline = (None, 0) ## For timefreq analysis\n",
    "p_value = 0.05 # default 0.05 # for clusters\n",
    "decim = 1# default 2 for testing.. For reals - 1\n",
    "n_permutations=1000 # default 1k for testing. For reals - 10K\n",
    "min_freq = 4\n",
    "freqs = np.arange(min_freq,80, 1)  # define frequencies of interest\n",
    "n_cycles = freqs / min_freq # different number of cycle per frequency\n",
    "\n",
    "tail = 0 # 0 = two-tailed test (for clusters (as we want positive and negative clusters))\n",
    "p_value_pixels = 0.05"
   ],
   "metadata": {
    "collapsed": false,
    "pycharm": {
     "name": "#%%\n"
    }
   }
  },
  {
   "cell_type": "code",
   "execution_count": 20,
   "outputs": [
    {
     "name": "stdout",
     "output_type": "stream",
     "text": [
      "Could not find a adjacency matrix for the data. Computing adjacency based on Delaunay triangulations.\n",
      "-- number of adjacent vertices : 5\n",
      "<class 'scipy.sparse.csr.csr_matrix'>\n"
     ]
    }
   ],
   "source": [
    "adjacency, ch_names = find_ch_adjacency(epochs_Wn_example_sub.info, ch_type='eeg')\n",
    "print(type(adjacency))  # it's a sparse matrix!"
   ],
   "metadata": {
    "collapsed": false,
    "pycharm": {
     "name": "#%%\n"
    }
   }
  },
  {
   "cell_type": "code",
   "execution_count": null,
   "outputs": [],
   "source": [],
   "metadata": {
    "collapsed": false,
    "pycharm": {
     "name": "#%%\n"
    }
   }
  }
 ],
 "metadata": {
  "kernelspec": {
   "display_name": "Python 3",
   "language": "python",
   "name": "python3"
  },
  "language_info": {
   "codemirror_mode": {
    "name": "ipython",
    "version": 2
   },
   "file_extension": ".py",
   "mimetype": "text/x-python",
   "name": "python",
   "nbconvert_exporter": "python",
   "pygments_lexer": "ipython2",
   "version": "2.7.6"
  }
 },
 "nbformat": 4,
 "nbformat_minor": 0
}