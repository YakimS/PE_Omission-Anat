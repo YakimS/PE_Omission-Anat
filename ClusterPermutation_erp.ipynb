{
 "cells": [
  {
   "cell_type": "code",
   "execution_count": 31,
   "metadata": {
    "collapsed": false,
    "pycharm": {
     "name": "#%%\n"
    }
   },
   "outputs": [],
   "source": [
    "import matplotlib.pyplot as plt\n",
    "import numpy as np\n",
    "import scipy.io\n",
    "import pandas as pd\n",
    "from mne import stats\n",
    "import mne\n",
    "from IPython.utils import io\n",
    "import pickle\n",
    "import os\n",
    "from os.path import exists"
   ]
  },
  {
   "cell_type": "code",
   "execution_count": 32,
   "metadata": {
    "collapsed": false,
    "pycharm": {
     "name": "#%%\n"
    }
   },
   "outputs": [],
   "source": [
    "epochs_dir = 'C:\\AnatArzData\\YKM_data\\epochs_and_evoked_allSubs'\n",
    "prepro_name = \"referenced\"\n",
    "import_type = \"5Electorodes_plainEEGLAB\"\n",
    "trial_exclution_str = \"_excOulierTrials-3.5\" #\"_excOulierTrials-2.5\""
   ]
  },
  {
   "cell_type": "markdown",
   "metadata": {
    "collapsed": false,
    "pycharm": {
     "name": "#%% md\n"
    }
   },
   "source": [
    "## Import epochs"
   ]
  },
  {
   "cell_type": "code",
   "execution_count": 33,
   "metadata": {
    "collapsed": true,
    "pycharm": {
     "name": "#%%\n"
    }
   },
   "outputs": [],
   "source": [
    "class AuxFuncs:\n",
    "    def __init__(self, import_path):\n",
    "        ## import epochs data and meta-data\n",
    "        with open(import_path, 'rb') as file:\n",
    "            [allEvents_df, allEpochs_perCond, cfg] = pickle.load(file)\n",
    "\n",
    "        self.allEpochs_perCond = allEpochs_perCond\n",
    "        self.allEvents_df = allEvents_df\n",
    "        self.cfg = cfg\n",
    "        self.info,self.montage = self.get_subject_info()\n",
    "\n",
    "        self.max_freq =cfg['sample_freq']/2 # for tfr\n",
    "        self.times = cfg['times']\n",
    "        self.time0_i = np.where(self.times==0)[0][0]\n",
    "        self.hz_y = np.fft.rfftfreq(len(self.times[self.time0_i:]), 1.0/cfg['sample_freq'])\n",
    "\n",
    "\n",
    "    def get_subject_info(self, example_subject = '32'):\n",
    "        subject_setfile_wake_n = f'{self.cfg[\"set_files_dir\"]}\\s_{example_subject}_wake_night_referenced.set'\n",
    "        output_file_path = f\"{self.cfg['outputs_dir_path'] }/epochs_Wn_s{example_subject}_file\"\n",
    "\n",
    "        if exists(output_file_path):\n",
    "            with open(output_file_path, 'rb') as config_dictionary_file:\n",
    "                epochs_Wn_example_sub = pickle.load(config_dictionary_file)\n",
    "                #print(epochs_Wn_example_sub)\n",
    "        else:\n",
    "            epochs_Wn_example_sub = mne.io.read_epochs_eeglab(subject_setfile_wake_n, events=None, event_id=None,eog=(),verbose=None, uint16_codec=None)\n",
    "            with open(output_file_path, 'wb') as epochs_Wn_s_example_file:\n",
    "                pickle.dump(epochs_Wn_example_sub, epochs_Wn_s_example_file)\n",
    "\n",
    "        montage = mne.channels.make_standard_montage('GSN-HydroCel-128')\n",
    "        epochs_Wn_example_sub_piked = epochs_Wn_example_sub.pick_channels(self.cfg['ch_names'])\n",
    "        epochs_Wn_example_sub_monatged = epochs_Wn_example_sub_piked.set_montage(montage)\n",
    "        epochs_info = epochs_Wn_example_sub_monatged.info\n",
    "        return epochs_info, epochs_Wn_example_sub_monatged\n",
    "\n",
    "    def getEpochsPerCond(self,cond_df,dataset):\n",
    "        df_minTrials = cond_df[(cond_df.SamplesCount > 0)] # discard cond with 0 enough samples\n",
    "        keys = (str(key) for key in df_minTrials.Cond_id)\n",
    "        epochs_allSamples = {str_key: dataset[str_key] for str_key in keys}\n",
    "        return df_minTrials, epochs_allSamples\n",
    "\n",
    "    # output: [#conds, #elect, #times]\n",
    "    def getEvokedPerCondAndElectd(self, constraints,dataset, y_ax,outputType='array', tmin=-0.1, baseline=(None, 0)):\n",
    "        curr_df = self.allEvents_df.copy()\n",
    "        # apply constraints\n",
    "        for key in constraints: curr_df = curr_df[(curr_df[key] == constraints[key])]\n",
    "\n",
    "        conds_df, epochsPerCond = self.getEpochsPerCond(curr_df,dataset)\n",
    "        evoked_perCond_andElectd = np.zeros((len(epochsPerCond),np.size(self.cfg['electrodes']),np.size(y_ax)))\n",
    "\n",
    "        for cond_i, cond in enumerate(epochsPerCond):\n",
    "            evoked_perCond_andElectd[cond_i] = np.squeeze(np.nanmean(epochsPerCond[cond], axis=2))\n",
    "\n",
    "        if outputType =='array':\n",
    "            return conds_df, evoked_perCond_andElectd\n",
    "        if outputType =='mne':\n",
    "            mne_epochs = mne.EpochsArray(evoked_perCond_andElectd, self.info, tmin=tmin, baseline=baseline)\n",
    "            return conds_df, mne_epochs\n",
    "\n",
    "import_path = f'{epochs_dir}\\\\{import_type}{trial_exclution_str}.pkl'\n",
    "aux = AuxFuncs(import_path)\n",
    "\n",
    "allEpochs_perCond = aux.allEpochs_perCond\n",
    "allEvents_df = aux.allEvents_df\n",
    "cfg = aux.cfg\n",
    "times = aux.times\n",
    "time0_i = aux.time0_i\n",
    "\n",
    "fig_output_dir = f\"{cfg['outputs_dir_path']}/erp_clusterPerm\"\n",
    "if not os.path.exists(fig_output_dir):\n",
    "    os.mkdir(fig_output_dir)"
   ]
  },
  {
   "cell_type": "markdown",
   "metadata": {
    "collapsed": false,
    "pycharm": {
     "name": "#%% md\n"
    }
   },
   "source": [
    "## Clusters and evoked funcs"
   ]
  },
  {
   "cell_type": "code",
   "execution_count": 34,
   "metadata": {
    "collapsed": false,
    "pycharm": {
     "name": "#%%\n"
    }
   },
   "outputs": [],
   "source": [
    "\"\"\" create a df with the clusters details\"\"\"\n",
    "#bonferroni correction (0.05/6)=0.0083\n",
    "def get_clusters_dfs(contrasts, times, cluster_res,p_crit = 0.05):\n",
    "    comparison = []\n",
    "    p_values = []\n",
    "    start = []\n",
    "    end = []\n",
    "    for s,pair in enumerate(contrasts):\n",
    "        comparison_level = []\n",
    "        start_level = []\n",
    "        end_level = []\n",
    "\n",
    "        contrast_str = f\"{pair[0]}_{pair[1]}\"\n",
    "        curr_cluster_equal = cluster_res[contrast_str]['clusters_equal']\n",
    "        curr_cluster_equal_pv = cluster_res[contrast_str]['cluster_equal_pv']\n",
    "        cluster_res[contrast_str]['cl_'] = []\n",
    "\n",
    "        if len(curr_cluster_equal)==0: continue\n",
    "        for i_clu, clu_idx in enumerate(curr_cluster_equal):\n",
    "            clu_idx = clu_idx[0]\n",
    "            comparison_level.append(contrast_str)\n",
    "            start_level.append(times[clu_idx[0]])\n",
    "            end_level.append(times[clu_idx[-1]])\n",
    "            if curr_cluster_equal_pv[i_clu] <= p_crit:\n",
    "                cluster_res[contrast_str]['cl_'].append((times[clu_idx[0]],times[clu_idx[-1]]))\n",
    "        comparison.append(comparison_level)\n",
    "        start.append(start_level)\n",
    "        end.append(end_level)\n",
    "        p_values.append(list(curr_cluster_equal_pv))\n",
    "\n",
    "    # Create dataframe\n",
    "    comparison = np.concatenate(comparison)\n",
    "    p_values = np.concatenate(p_values)\n",
    "    start = np.concatenate(start)\n",
    "    end = np.concatenate(end)\n",
    "    d = {'Comparison': comparison,'p-value': p_values,'start (ms)': start,'end (ms)': end}\n",
    "    clusters = pd.DataFrame(data=d)\n",
    "\n",
    "    sig_clus = clusters.drop(clusters[clusters['p-value']>p_crit].index)\n",
    "    return clusters, sig_clus"
   ]
  },
  {
   "cell_type": "code",
   "execution_count": 35,
   "metadata": {
    "collapsed": false,
    "pycharm": {
     "name": "#%%\n"
    }
   },
   "outputs": [],
   "source": [
    "def get_contrasts_ax(ax, contrasts, contrastsColors,cluster_res):\n",
    "    for s,contrast in enumerate(contrasts):\n",
    "        contrast_str = f\"{contrast[0]}_{contrast[1]}\"\n",
    "        curr_cl = cluster_res[contrast_str]['cl_']\n",
    "        for i in range(len(curr_cl)):\n",
    "            ax.plot([curr_cl[i][0],curr_cl[i][1]], [-2-(s*0.1),-2-(s*0.1)],'-', color = contrastsColors[s][0], linewidth = 2.5)\n",
    "            ax.plot([curr_cl[i][0],curr_cl[i][1]], [-2-(s*0.1),-2-(s*0.1)],'--', color = contrastsColors[s][1], linewidth = 2.5)"
   ]
  },
  {
   "cell_type": "code",
   "execution_count": 36,
   "metadata": {
    "collapsed": false,
    "pycharm": {
     "name": "#%%\n"
    }
   },
   "outputs": [],
   "source": [
    "def stat_fun_wilcox(X):\n",
    "    result = scipy.stats.wilcoxon(X)\n",
    "    return result.statistic\n",
    "\n",
    "def getClustersPerConditions(startTime_i, contrastTypeName,contrasts,conditions,test_per_voxel='ttest'):\n",
    "    if test_per_voxel=='ttest':\n",
    "        test_per_voxel = mne.stats.ttest_1samp_no_p\n",
    "    else:\n",
    "        test_per_voxel = stat_fun_wilcox\n",
    "\n",
    "    cluster_subjs = [] # list (size subs) of list (size pairs) of 138 samps each\n",
    "    for s,subject in enumerate(cfg['subs']):\n",
    "        cluster_pair = []\n",
    "        conditions['Subject'] = subject\n",
    "        for pair in contrasts: # averaged across trials\n",
    "            conditions[contrastTypeName] = pair[0]\n",
    "            conds_df, evoked_perCond_andElectd = aux.getEvokedPerCondAndElectd(conditions,allEpochs_perCond, cfg['times'],outputType='array')\n",
    "            meanOverTrials_first = np.nanmean(evoked_perCond_andElectd,axis=0)\n",
    "\n",
    "            conditions[contrastTypeName] = pair[1]\n",
    "            conds_df, evoked_perCond_andElectd = aux.getEvokedPerCondAndElectd(conditions,allEpochs_perCond, cfg['times'],outputType='array')\n",
    "            meanOverTrials_sec = np.nanmean(evoked_perCond_andElectd,axis=0)\n",
    "\n",
    "            diff_sub_pair_mean = np.nanmean(meanOverTrials_first - meanOverTrials_sec, axis=0)\n",
    "            if ~np.all(diff_sub_pair_mean==0) and ~np.isnan(diff_sub_pair_mean).any():\n",
    "                cluster_pair.append(diff_sub_pair_mean)\n",
    "        cluster_subjs.append(cluster_pair)\n",
    "\n",
    "    \"\"\" Perform cluster permutation (paired t-test) \"\"\"\n",
    "    cluster_res={}\n",
    "    for n, pair in enumerate(contrasts):\n",
    "        curr_pair_res ={}\n",
    "        curr_dif_arr = np.asarray(cluster_subjs)[:,n,startTime_i:]\n",
    "        curr_pair_res['T_obs'], curr_pair_res['clusters_equal'],curr_pair_res['cluster_equal_pv'],curr_pair_res['H0'] = stats.permutation_cluster_1samp_test(curr_dif_arr,n_permutations=1000, buffer_size=None, stat_fun=stat_fun_wilcox)\n",
    "\n",
    "        cluster_res[f\"{pair[0]}_{pair[1]}\"] = curr_pair_res\n",
    "\n",
    "    return cluster_res"
   ]
  },
  {
   "cell_type": "code",
   "execution_count": 37,
   "metadata": {
    "collapsed": false,
    "pycharm": {
     "name": "#%%\n"
    }
   },
   "outputs": [],
   "source": [
    "# def get_evokedPerCond_ax_mneFunc(ax1,df,condName : str, condVaribles, filterConds, graphColors):\n",
    "#     evokeds = {}\n",
    "#     for s,subject in enumerate(subs):\n",
    "#         evokeds[s] = {}\n",
    "#         filterConds['Subject'] = subject\n",
    "#         for val in condVaribles:\n",
    "#             filterConds[condName] = val\n",
    "#             curr_subAndCond_electrOverTime = get_avgOverTrials(df, filterConds)\n",
    "#             curr_subAndCond_electrOverTime /= 1e6\n",
    "#             evokeds[s][val] = mne.EvokedArray(curr_subAndCond_electrOverTime,info,tmin=-0.1)\n",
    "#\n",
    "#     # Edit the data to mne plot format\n",
    "#     evokeds_mnePlotFormat = {}\n",
    "#     for val in condVaribles:\n",
    "#         evokeds_mnePlotFormat[val] = []\n",
    "#         for sub_i in range(len(subs)):\n",
    "#             evokeds_mnePlotFormat[val].append(evokeds[sub_i][val])\n",
    "#\n",
    "#     plot_compare_evokeds(evokeds_mnePlotFormat,combine = 'mean',colors=graphColors,\n",
    "#                          axes=ax1,show=False,truncate_xaxis=False, truncate_yaxis=False,\n",
    "#                          show_sensors = False , legend='upper left')\n",
    "def applyDesign(ax,title='',y_lims=[-3,3]):\n",
    "    fig.patch.set_facecolor('xkcd:white')\n",
    "    ax.set_facecolor('silver')\n",
    "    ax.set_title(title,fontsize = 18, fontweight = 'bold')\n",
    "    ax.legend(loc = 'upper left',prop={'size': 10})\n",
    "    ax.axvline(x=0,color='gray', linestyle='--',label =\"_nolegend_\")\n",
    "    ax.axhline(y=0, color='gray', linestyle='-',label =\"_nolegend_\")\n",
    "    ax.set_ylabel('\\u03BCV', fontsize = 16, fontweight = 'bold')\n",
    "    ax.tick_params(axis='both', which='major', labelsize=14)\n",
    "    ax.set_xlabel('Time (ms)', fontsize = 16, fontweight = 'bold')\n",
    "    ax.set_xlim([-100,450])\n",
    "    ax.set_ylim(y_lims)\n",
    "    ax.text(-0.02, y_lims[1], 'stimulus', rotation=90, va='center', fontsize = 13)\n",
    "\n",
    "def get_evokedPerCond_ax(ax1,df,condName : str, condVaribles, filterConds, graphColors):\n",
    "    all_evokeds = np.zeros((len(cfg['subs']),len(condVaribles) , len(times)))\n",
    "    for s,subject in enumerate(cfg['subs']):\n",
    "        filterConds['Subject'] = subject\n",
    "        for v,val in enumerate(condVaribles):\n",
    "            filterConds[condName] = val\n",
    "\n",
    "            conds_df, evoked_perCond_andElectd = aux.getEvokedPerCondAndElectd(filterConds,allEpochs_perCond, cfg['times'],outputType='array')\n",
    "            curr_subAndCond_electrOverTime = np.nanmean(evoked_perCond_andElectd,axis=0)\n",
    "            all_evokeds[s,v,:] = np.nanmean(curr_subAndCond_electrOverTime,axis=0)\n",
    "\n",
    "    mean_ = np.nanmean(all_evokeds,axis=0)\n",
    "    std_ = np.nanstd(all_evokeds/np.sqrt(all_evokeds.shape[0]),axis=0)\n",
    "\n",
    "    ax1.plot(times,mean_.T)\n",
    "    for v,val in enumerate(condVaribles):\n",
    "        ax1.fill_between(times,mean_[v]+std_[v] ,mean_[v]-std_[v], color=graphColors[v],alpha=0.1,label =\"_nolegend_\")\n",
    "        ax1.plot(times,mean_[v],label = condVaribles[v],color=graphColors[v])\n",
    "    return ax1"
   ]
  },
  {
   "cell_type": "markdown",
   "metadata": {
    "collapsed": false,
    "pycharm": {
     "name": "#%% md\n"
    }
   },
   "source": [
    "# Resutls"
   ]
  },
  {
   "cell_type": "code",
   "execution_count": 38,
   "metadata": {
    "collapsed": false,
    "pycharm": {
     "name": "#%%\n"
    }
   },
   "outputs": [],
   "source": [
    "contrasts = [['Wn','N2'],['Wn','N3'],['Wn','REM'],['N2','N3'],['N2','REM'],['REM','N3']]\n",
    "contrastsColors = [['blue', 'orange'], ['blue', 'green'], ['blue', 'red'], ['orange', 'green'], ['orange', 'red'], ['red', 'green']]\n",
    "contrastTypeName = 'Vigilance'\n",
    "contrast_seperateVal = ['Wn','N2','N3','REM']\n",
    "contrasts_sep_colors = ['blue', 'orange', 'green', 'red']"
   ]
  },
  {
   "cell_type": "code",
   "execution_count": 39,
   "metadata": {
    "collapsed": false,
    "pycharm": {
     "name": "#%%\n"
    }
   },
   "outputs": [
    {
     "ename": "ValueError",
     "evalue": "Sample x must be one-dimensional.",
     "output_type": "error",
     "traceback": [
      "\u001B[1;31m---------------------------------------------------------------------------\u001B[0m",
      "\u001B[1;31mValueError\u001B[0m                                Traceback (most recent call last)",
      "Input \u001B[1;32mIn [39]\u001B[0m, in \u001B[0;36m<cell line: 1>\u001B[1;34m()\u001B[0m\n\u001B[0;32m      5\u001B[0m \u001B[38;5;66;03m### get df cluster info\u001B[39;00m\n\u001B[0;32m      6\u001B[0m \u001B[38;5;28;01mwith\u001B[39;00m io\u001B[38;5;241m.\u001B[39mcapture_output() \u001B[38;5;28;01mas\u001B[39;00m captured: \u001B[38;5;66;03m# suppress output\u001B[39;00m\n\u001B[1;32m----> 7\u001B[0m     cluster_res \u001B[38;5;241m=\u001B[39m \u001B[43mgetClustersPerConditions\u001B[49m\u001B[43m(\u001B[49m\u001B[43mtime0_i\u001B[49m\u001B[43m,\u001B[49m\u001B[43mcontrastTypeName\u001B[49m\u001B[43m,\u001B[49m\u001B[43mcontrasts\u001B[49m\u001B[43m,\u001B[49m\u001B[43mfilters\u001B[49m\u001B[43m,\u001B[49m\u001B[43mtest_per_voxel\u001B[49m\u001B[38;5;241;43m=\u001B[39;49m\u001B[38;5;124;43m'\u001B[39;49m\u001B[38;5;124;43mttest\u001B[39;49m\u001B[38;5;124;43m'\u001B[39;49m\u001B[43m)\u001B[49m\n\u001B[0;32m      8\u001B[0m     all_clust_df, sig_clust_df \u001B[38;5;241m=\u001B[39m get_clusters_dfs(contrasts,times[time0_i:],cluster_res)\n\u001B[0;32m      9\u001B[0m display(all_clust_df)\n",
      "Input \u001B[1;32mIn [36]\u001B[0m, in \u001B[0;36mgetClustersPerConditions\u001B[1;34m(startTime_i, contrastTypeName, contrasts, conditions, test_per_voxel)\u001B[0m\n\u001B[0;32m     32\u001B[0m     curr_pair_res \u001B[38;5;241m=\u001B[39m{}\n\u001B[0;32m     33\u001B[0m     curr_dif_arr \u001B[38;5;241m=\u001B[39m np\u001B[38;5;241m.\u001B[39masarray(cluster_subjs)[:,n,startTime_i:]\n\u001B[1;32m---> 34\u001B[0m     curr_pair_res[\u001B[38;5;124m'\u001B[39m\u001B[38;5;124mT_obs\u001B[39m\u001B[38;5;124m'\u001B[39m], curr_pair_res[\u001B[38;5;124m'\u001B[39m\u001B[38;5;124mclusters_equal\u001B[39m\u001B[38;5;124m'\u001B[39m],curr_pair_res[\u001B[38;5;124m'\u001B[39m\u001B[38;5;124mcluster_equal_pv\u001B[39m\u001B[38;5;124m'\u001B[39m],curr_pair_res[\u001B[38;5;124m'\u001B[39m\u001B[38;5;124mH0\u001B[39m\u001B[38;5;124m'\u001B[39m] \u001B[38;5;241m=\u001B[39m \u001B[43mstats\u001B[49m\u001B[38;5;241;43m.\u001B[39;49m\u001B[43mpermutation_cluster_1samp_test\u001B[49m\u001B[43m(\u001B[49m\u001B[43mcurr_dif_arr\u001B[49m\u001B[43m,\u001B[49m\u001B[43mn_permutations\u001B[49m\u001B[38;5;241;43m=\u001B[39;49m\u001B[38;5;241;43m1000\u001B[39;49m\u001B[43m,\u001B[49m\u001B[43m \u001B[49m\u001B[43mbuffer_size\u001B[49m\u001B[38;5;241;43m=\u001B[39;49m\u001B[38;5;28;43;01mNone\u001B[39;49;00m\u001B[43m,\u001B[49m\u001B[43m \u001B[49m\u001B[43mstat_fun\u001B[49m\u001B[38;5;241;43m=\u001B[39;49m\u001B[43mstat_fun_wilcox\u001B[49m\u001B[43m)\u001B[49m\n\u001B[0;32m     36\u001B[0m     cluster_res[\u001B[38;5;124mf\u001B[39m\u001B[38;5;124m\"\u001B[39m\u001B[38;5;132;01m{\u001B[39;00mpair[\u001B[38;5;241m0\u001B[39m]\u001B[38;5;132;01m}\u001B[39;00m\u001B[38;5;124m_\u001B[39m\u001B[38;5;132;01m{\u001B[39;00mpair[\u001B[38;5;241m1\u001B[39m]\u001B[38;5;132;01m}\u001B[39;00m\u001B[38;5;124m\"\u001B[39m] \u001B[38;5;241m=\u001B[39m curr_pair_res\n\u001B[0;32m     38\u001B[0m \u001B[38;5;28;01mreturn\u001B[39;00m cluster_res\n",
      "File \u001B[1;32m<decorator-gen-332>:12\u001B[0m, in \u001B[0;36mpermutation_cluster_1samp_test\u001B[1;34m(X, threshold, n_permutations, tail, stat_fun, adjacency, n_jobs, seed, max_step, exclude, step_down_p, t_power, out_type, check_disjoint, buffer_size, verbose)\u001B[0m\n",
      "File \u001B[1;32m~\\anaconda3\\lib\\site-packages\\mne\\stats\\cluster_level.py:1207\u001B[0m, in \u001B[0;36mpermutation_cluster_1samp_test\u001B[1;34m(X, threshold, n_permutations, tail, stat_fun, adjacency, n_jobs, seed, max_step, exclude, step_down_p, t_power, out_type, check_disjoint, buffer_size, verbose)\u001B[0m\n\u001B[0;32m   1137\u001B[0m \u001B[38;5;124;03m\"\"\"Non-parametric cluster-level paired t-test.\u001B[39;00m\n\u001B[0;32m   1138\u001B[0m \n\u001B[0;32m   1139\u001B[0m \u001B[38;5;124;03mParameters\u001B[39;00m\n\u001B[1;32m   (...)\u001B[0m\n\u001B[0;32m   1204\u001B[0m \u001B[38;5;124;03m.. footbibliography::\u001B[39;00m\n\u001B[0;32m   1205\u001B[0m \u001B[38;5;124;03m\"\"\"\u001B[39;00m\n\u001B[0;32m   1206\u001B[0m stat_fun, threshold \u001B[38;5;241m=\u001B[39m _check_fun(X, stat_fun, threshold, tail)\n\u001B[1;32m-> 1207\u001B[0m \u001B[38;5;28;01mreturn\u001B[39;00m \u001B[43m_permutation_cluster_test\u001B[49m\u001B[43m(\u001B[49m\n\u001B[0;32m   1208\u001B[0m \u001B[43m    \u001B[49m\u001B[43mX\u001B[49m\u001B[38;5;241;43m=\u001B[39;49m\u001B[43m[\u001B[49m\u001B[43mX\u001B[49m\u001B[43m]\u001B[49m\u001B[43m,\u001B[49m\u001B[43m \u001B[49m\u001B[43mthreshold\u001B[49m\u001B[38;5;241;43m=\u001B[39;49m\u001B[43mthreshold\u001B[49m\u001B[43m,\u001B[49m\u001B[43m \u001B[49m\u001B[43mn_permutations\u001B[49m\u001B[38;5;241;43m=\u001B[39;49m\u001B[43mn_permutations\u001B[49m\u001B[43m,\u001B[49m\u001B[43m \u001B[49m\u001B[43mtail\u001B[49m\u001B[38;5;241;43m=\u001B[39;49m\u001B[43mtail\u001B[49m\u001B[43m,\u001B[49m\n\u001B[0;32m   1209\u001B[0m \u001B[43m    \u001B[49m\u001B[43mstat_fun\u001B[49m\u001B[38;5;241;43m=\u001B[39;49m\u001B[43mstat_fun\u001B[49m\u001B[43m,\u001B[49m\u001B[43m \u001B[49m\u001B[43madjacency\u001B[49m\u001B[38;5;241;43m=\u001B[39;49m\u001B[43madjacency\u001B[49m\u001B[43m,\u001B[49m\u001B[43m \u001B[49m\u001B[43mn_jobs\u001B[49m\u001B[38;5;241;43m=\u001B[39;49m\u001B[43mn_jobs\u001B[49m\u001B[43m,\u001B[49m\u001B[43m \u001B[49m\u001B[43mseed\u001B[49m\u001B[38;5;241;43m=\u001B[39;49m\u001B[43mseed\u001B[49m\u001B[43m,\u001B[49m\n\u001B[0;32m   1210\u001B[0m \u001B[43m    \u001B[49m\u001B[43mmax_step\u001B[49m\u001B[38;5;241;43m=\u001B[39;49m\u001B[43mmax_step\u001B[49m\u001B[43m,\u001B[49m\u001B[43m \u001B[49m\u001B[43mexclude\u001B[49m\u001B[38;5;241;43m=\u001B[39;49m\u001B[43mexclude\u001B[49m\u001B[43m,\u001B[49m\u001B[43m \u001B[49m\u001B[43mstep_down_p\u001B[49m\u001B[38;5;241;43m=\u001B[39;49m\u001B[43mstep_down_p\u001B[49m\u001B[43m,\u001B[49m\n\u001B[0;32m   1211\u001B[0m \u001B[43m    \u001B[49m\u001B[43mt_power\u001B[49m\u001B[38;5;241;43m=\u001B[39;49m\u001B[43mt_power\u001B[49m\u001B[43m,\u001B[49m\u001B[43m \u001B[49m\u001B[43mout_type\u001B[49m\u001B[38;5;241;43m=\u001B[39;49m\u001B[43mout_type\u001B[49m\u001B[43m,\u001B[49m\u001B[43m \u001B[49m\u001B[43mcheck_disjoint\u001B[49m\u001B[38;5;241;43m=\u001B[39;49m\u001B[43mcheck_disjoint\u001B[49m\u001B[43m,\u001B[49m\n\u001B[0;32m   1212\u001B[0m \u001B[43m    \u001B[49m\u001B[43mbuffer_size\u001B[49m\u001B[38;5;241;43m=\u001B[39;49m\u001B[43mbuffer_size\u001B[49m\u001B[43m)\u001B[49m\n",
      "File \u001B[1;32m~\\anaconda3\\lib\\site-packages\\mne\\stats\\cluster_level.py:874\u001B[0m, in \u001B[0;36m_permutation_cluster_test\u001B[1;34m(X, threshold, n_permutations, tail, stat_fun, adjacency, n_jobs, seed, max_step, exclude, step_down_p, t_power, out_type, check_disjoint, buffer_size)\u001B[0m\n\u001B[0;32m    870\u001B[0m     \u001B[38;5;28;01mraise\u001B[39;00m \u001B[38;5;167;01mValueError\u001B[39;00m(\u001B[38;5;124m'\u001B[39m\u001B[38;5;124mexclude must be the same shape as X[0]\u001B[39m\u001B[38;5;124m'\u001B[39m)\n\u001B[0;32m    872\u001B[0m \u001B[38;5;66;03m# Step 1: Calculate t-stat for original data\u001B[39;00m\n\u001B[0;32m    873\u001B[0m \u001B[38;5;66;03m# -------------------------------------------------------------\u001B[39;00m\n\u001B[1;32m--> 874\u001B[0m t_obs \u001B[38;5;241m=\u001B[39m \u001B[43mstat_fun\u001B[49m\u001B[43m(\u001B[49m\u001B[38;5;241;43m*\u001B[39;49m\u001B[43mX\u001B[49m\u001B[43m)\u001B[49m\n\u001B[0;32m    875\u001B[0m _validate_type(t_obs, np\u001B[38;5;241m.\u001B[39mndarray, \u001B[38;5;124m'\u001B[39m\u001B[38;5;124mreturn value of stat_fun\u001B[39m\u001B[38;5;124m'\u001B[39m)\n\u001B[0;32m    876\u001B[0m logger\u001B[38;5;241m.\u001B[39minfo(\u001B[38;5;124m'\u001B[39m\u001B[38;5;124mstat_fun(H1): min=\u001B[39m\u001B[38;5;132;01m%f\u001B[39;00m\u001B[38;5;124m max=\u001B[39m\u001B[38;5;132;01m%f\u001B[39;00m\u001B[38;5;124m'\u001B[39m \u001B[38;5;241m%\u001B[39m (np\u001B[38;5;241m.\u001B[39mmin(t_obs), np\u001B[38;5;241m.\u001B[39mmax(t_obs)))\n",
      "Input \u001B[1;32mIn [36]\u001B[0m, in \u001B[0;36mstat_fun_wilcox\u001B[1;34m(X)\u001B[0m\n\u001B[0;32m      1\u001B[0m \u001B[38;5;28;01mdef\u001B[39;00m \u001B[38;5;21mstat_fun_wilcox\u001B[39m(X):\n\u001B[1;32m----> 2\u001B[0m     result \u001B[38;5;241m=\u001B[39m \u001B[43mscipy\u001B[49m\u001B[38;5;241;43m.\u001B[39;49m\u001B[43mstats\u001B[49m\u001B[38;5;241;43m.\u001B[39;49m\u001B[43mwilcoxon\u001B[49m\u001B[43m(\u001B[49m\u001B[43mX\u001B[49m\u001B[43m)\u001B[49m\n\u001B[0;32m      3\u001B[0m     \u001B[38;5;28;01mreturn\u001B[39;00m result\u001B[38;5;241m.\u001B[39mstatistic\n",
      "File \u001B[1;32m~\\anaconda3\\lib\\site-packages\\scipy\\stats\\morestats.py:3123\u001B[0m, in \u001B[0;36mwilcoxon\u001B[1;34m(x, y, zero_method, correction, alternative, mode)\u001B[0m\n\u001B[0;32m   3121\u001B[0m     d \u001B[38;5;241m=\u001B[39m asarray(x)\n\u001B[0;32m   3122\u001B[0m     \u001B[38;5;28;01mif\u001B[39;00m d\u001B[38;5;241m.\u001B[39mndim \u001B[38;5;241m>\u001B[39m \u001B[38;5;241m1\u001B[39m:\n\u001B[1;32m-> 3123\u001B[0m         \u001B[38;5;28;01mraise\u001B[39;00m \u001B[38;5;167;01mValueError\u001B[39;00m(\u001B[38;5;124m'\u001B[39m\u001B[38;5;124mSample x must be one-dimensional.\u001B[39m\u001B[38;5;124m'\u001B[39m)\n\u001B[0;32m   3124\u001B[0m \u001B[38;5;28;01melse\u001B[39;00m:\n\u001B[0;32m   3125\u001B[0m     x, y \u001B[38;5;241m=\u001B[39m \u001B[38;5;28mmap\u001B[39m(asarray, (x, y))\n",
      "\u001B[1;31mValueError\u001B[0m: Sample x must be one-dimensional."
     ]
    }
   ],
   "source": [
    "for TOA_cond in ['T','Rand','Fixed']:\n",
    "    filters= {'TOA_cond':TOA_cond}\n",
    "    filters_string = f\"{filters}\"\n",
    "\n",
    "    ### get df cluster info\n",
    "    with io.capture_output() as captured: # suppress output\n",
    "        cluster_res = getClustersPerConditions(time0_i,contrastTypeName,contrasts,filters,test_per_voxel='ttest')\n",
    "        all_clust_df, sig_clust_df = get_clusters_dfs(contrasts,times[time0_i:],cluster_res)\n",
    "    display(all_clust_df)\n",
    "    display(sig_clust_df)\n",
    "\n",
    "    ### plot clusters\n",
    "    fig,ax1 = plt.subplots(1, 1, figsize=(10, 5))\n",
    "    fig.patch.set_facecolor('xkcd:white')\n",
    "    ax1 = get_evokedPerCond_ax(ax1, allEvents_df, contrastTypeName, contrast_seperateVal, filters, contrasts_sep_colors)\n",
    "    get_contrasts_ax(ax1, contrasts, contrastsColors,cluster_res)\n",
    "    applyDesign(ax1,f'Temporal cluster permutation\\n{filters_string} \\noutliers:{cfg[\"outlier_subs\"]}')\n",
    "\n",
    "    plt.savefig(f'{fig_output_dir}/{TOA_cond}_allValidSubs_perVigi_5CentElect_wilcox.png')\n",
    "    plt.show()"
   ]
  },
  {
   "cell_type": "code",
   "execution_count": null,
   "metadata": {
    "collapsed": false,
    "pycharm": {
     "name": "#%%\n"
    }
   },
   "outputs": [],
   "source": [
    "contrasts_sep_colors = ['#0f0f0f','#2f0f0f','#4f0f0f','#6f0f0f','#8f0f0f','#af0f0f','#cf0f0f','#ef0f0f','#ff0f0f']\n",
    "contrastsColors = [[contrasts_sep_colors[0], contrasts_sep_colors[1]],\n",
    "                   [contrasts_sep_colors[0], contrasts_sep_colors[2]],\n",
    "                   [contrasts_sep_colors[0], contrasts_sep_colors[3]],\n",
    "                   [contrasts_sep_colors[0], contrasts_sep_colors[4]],\n",
    "                   [contrasts_sep_colors[0], contrasts_sep_colors[5]],\n",
    "                   [contrasts_sep_colors[0], contrasts_sep_colors[6]],\n",
    "                   [contrasts_sep_colors[0], contrasts_sep_colors[7]],\n",
    "                   [contrasts_sep_colors[0], contrasts_sep_colors[8]]]\n",
    "contrastTypeName = 'ToneHeight'\n",
    "contrasts = [['650','845'],['650','1098'],['650','1428'],['650','1856'],['650','2413'],['650','3137'],['650','4079'],['650','5302']]\n",
    "contrast_seperateVal = ['650','845','1098','1428','1856','2413','3137','4079','5302']\n",
    "\n",
    "for TOA_cond in ['T','Rand','Fixed']:\n",
    "    filters= {'TOA_cond':TOA_cond}\n",
    "    filters_string = f\"{filters}\"\n",
    "\n",
    "    ### get df cluster info\n",
    "    with io.capture_output() as captured: # suppress output\n",
    "        cluster_res = getClustersPerConditions(time0_i,contrastTypeName,contrasts,filters)\n",
    "        all_clust_df, sig_clust_df = get_clusters_dfs(contrasts,times[time0_i:],cluster_res)\n",
    "        display(all_clust_df)\n",
    "        display(sig_clust_df)\n",
    "    ### plot clusters\n",
    "    fig,ax1 = plt.subplots(1, 1, figsize=(10, 5))\n",
    "    ax1 = get_evokedPerCond_ax(ax1, allEvents_df, contrastTypeName, contrast_seperateVal, filters, contrasts_sep_colors)\n",
    "    get_contrasts_ax(ax1, contrasts, contrastsColors,cluster_res)\n",
    "    applyDesign(ax1,f'Temporal cluster permutation\\n{filters_string} \\noutliers:{cfg[\"outlier_subs\"]}')\n",
    "    plt.savefig(f'{fig_output_dir}/{TOA_cond}_allValidSubs_perToneH_5CentElect.png')"
   ]
  },
  {
   "cell_type": "code",
   "execution_count": null,
   "metadata": {
    "collapsed": false,
    "pycharm": {
     "name": "#%%\n"
    }
   },
   "outputs": [],
   "source": [
    "contrasts = [['T','Rand'],['T','Fixed'],['Rand','Fixed']]\n",
    "contrastsColors = [ ['blue', 'pink'], ['blue', 'purple'],['purple', 'pink']]\n",
    "contrastTypeName = 'TOA_cond'\n",
    "contrast_seperateVal = ['T','Rand','Fixed']\n",
    "contrasts_sep_colors = ['blue','pink','purple']\n",
    "\n",
    "for vigilance in cfg['vigi_states']:\n",
    "    filters= {'Vigilance':vigilance}\n",
    "    filters_string = f\"{filters}\"\n",
    "\n",
    "    ### get df cluster info\n",
    "    with io.capture_output() as captured: # suppress output\n",
    "        cluster_res = getClustersPerConditions(time0_i,contrastTypeName,contrasts,filters)\n",
    "        all_clust_df, sig_clust_df = get_clusters_dfs(contrasts,times[time0_i:],cluster_res)\n",
    "        display(all_clust_df)\n",
    "        display(sig_clust_df)\n",
    "\n",
    "    ### plot clusters\n",
    "    fig,ax1 = plt.subplots(1, 1, figsize=(10, 5))\n",
    "    ax1 = get_evokedPerCond_ax(ax1, allEvents_df, contrastTypeName, contrast_seperateVal, filters, contrasts_sep_colors)\n",
    "    get_contrasts_ax(ax1, contrasts, contrastsColors,cluster_res)\n",
    "    applyDesign(ax1,f'Temporal cluster permutation\\n{filters_string} \\noutliers:{cfg[\"outlier_subs\"]}')\n",
    "    plt.savefig(f'{fig_output_dir}/{vigilance}_allValidSubs_perTOACond_5CentElect.png')"
   ]
  }
 ],
 "metadata": {
  "kernelspec": {
   "display_name": "Python 3.9.6 64-bit",
   "language": "python",
   "name": "python3"
  },
  "language_info": {
   "codemirror_mode": {
    "name": "ipython",
    "version": 3
   },
   "file_extension": ".py",
   "mimetype": "text/x-python",
   "name": "python",
   "nbconvert_exporter": "python",
   "pygments_lexer": "ipython3",
   "version": "3.9.6"
  },
  "vscode": {
   "interpreter": {
    "hash": "946b629e9a35e0bdbfd20594fab2712eb62be0364242a9946815d6a663dae4aa"
   }
  }
 },
 "nbformat": 4,
 "nbformat_minor": 0
}