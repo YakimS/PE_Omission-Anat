{
 "cells": [
  {
   "cell_type": "code",
   "execution_count": 1,
   "outputs": [],
   "source": [
    "%reset\n",
    "#%matplotlib qt"
   ],
   "metadata": {
    "collapsed": false,
    "pycharm": {
     "name": "#%%\n"
    }
   }
  },
  {
   "cell_type": "code",
   "execution_count": 16,
   "outputs": [],
   "source": [
    "import matplotlib.pyplot as plt\n",
    "import numpy as np\n",
    "import scipy.io\n",
    "import pandas as pd\n",
    "import mne\n",
    "from mne.time_frequency import tfr_morlet\n",
    "from mne.stats import permutation_cluster_test\n",
    "from mne import io\n",
    "import pickle\n",
    "from os.path import exists"
   ],
   "metadata": {
    "collapsed": false,
    "pycharm": {
     "name": "#%%\n"
    }
   }
  },
  {
   "cell_type": "code",
   "execution_count": 3,
   "outputs": [],
   "source": [
    "all_subjects = np.array(\n",
    "    ['08', '09', '10','11', '12','13', '14', '15', '16','17', '19', '20', '21', '23', '24', '25', '26', '27', '28', '29', '30', '31', '32', '33', '34','35', '36', '37', '38'])\n",
    "outlier_subs = ['12','14','15','17','27','30','34','36']\n",
    "valid_subs = np.delete(all_subjects,np.isin(all_subjects,outlier_subs))\n",
    "subs = valid_subs\n",
    "\n",
    "subjectWithAllData = '08' # this subjects data will serve as a template for the data df\n",
    "\n",
    "sfreq=250 ## the maxfreq should be sfreq/2\n",
    "\n",
    "electrodes = [4,5,10,79,84]\n",
    "ch_names = ['E6','E7','E13','E106','E112']\n",
    "\n",
    "epochs_dir = 'C:\\AnatArzData\\YKM_data\\epochs_and_evoked_allSubs'\n",
    "prepro_name = \"referenced\""
   ],
   "metadata": {
    "collapsed": false,
    "pycharm": {
     "name": "#%%\n"
    }
   }
  },
  {
   "cell_type": "code",
   "execution_count": 17,
   "outputs": [],
   "source": [
    "example_epochs_filename = \"epochs_Wn_s32_file\"\n",
    "data_path = 'C:\\AnatArzData\\Data\\\\rerefrenced'\n",
    "subject_setfile_wake_n = data_path + '\\s_32_wake_night_referenced.set'\n",
    "\n",
    "if exists(example_epochs_filename):\n",
    "    with open('epochs_Wn_s32_file', 'rb') as config_dictionary_file:\n",
    "        epochs_Wn_s32_ = pickle.load(config_dictionary_file)\n",
    "        #print(epochs_Wn_s32_)\n",
    "else:\n",
    "    epochs_Wn_s32 = io.read_epochs_eeglab(subject_setfile_wake_n, events=None, event_id=None,eog=(),verbose=None, uint16_codec=None)\n",
    "    with open(example_epochs_filename, 'wb') as epochs_Wn_s32_file:\n",
    "        pickle.dump(epochs_Wn_s32, epochs_Wn_s32_file)"
   ],
   "metadata": {
    "collapsed": false,
    "pycharm": {
     "name": "#%%\n"
    }
   }
  },
  {
   "cell_type": "markdown",
   "source": [],
   "metadata": {
    "collapsed": false,
    "pycharm": {
     "name": "#%% md\n"
    }
   }
  },
  {
   "cell_type": "code",
   "execution_count": 5,
   "outputs": [],
   "source": [
    "montage = mne.channels.make_standard_montage('GSN-HydroCel-128')\n",
    "epochs_Wn_s32_piked = epochs_Wn_s32.pick_channels(ch_names)\n",
    "epochs_Wn_s32_monatged = epochs_Wn_s32_piked.set_montage(montage)\n",
    "info = epochs_Wn_s32_monatged.info"
   ],
   "metadata": {
    "collapsed": false,
    "pycharm": {
     "name": "#%%\n"
    }
   }
  },
  {
   "cell_type": "markdown",
   "source": [
    "## Import epochs"
   ],
   "metadata": {
    "collapsed": false,
    "pycharm": {
     "name": "#%% md\n"
    }
   },
   "execution_count": 1
  },
  {
   "cell_type": "code",
   "execution_count": 6,
   "metadata": {
    "collapsed": true,
    "pycharm": {
     "name": "#%%\n"
    }
   },
   "outputs": [],
   "source": [
    "def getSubEpochsdata(sub_num):\n",
    "    sub_load_filepath = f'{epochs_dir}\\\\epochs_sub{sub_num}_{prepro_name}_withElectorodes.mat'\n",
    "    try:\n",
    "        matlabImport = scipy.io.loadmat(sub_load_filepath, simplify_cells=True)\n",
    "    except Exception:\n",
    "        print(f'Error importing sub file at: {sub_load_filepath}')\n",
    "        return\n",
    "\n",
    "    epochs = matlabImport[\n",
    "        'currSubEpochs']  # dim: vigilStage, elect, T/O/A, height , trialNum, sampleNum_in_cond ,timeSamples\n",
    "    epochs = np.delete(epochs, 1, axis=0)  # reduce N1\n",
    "    times = matlabImport['times']\n",
    "    TOA = matlabImport['TOA']\n",
    "    toneHieghts = matlabImport['toneHieghts']\n",
    "\n",
    "    trialnums = matlabImport['trialnums']\n",
    "    vigilance_states = matlabImport['vigilance_states']\n",
    "    vigilance_states = np.delete(vigilance_states, 1)  # reduce N1\n",
    "\n",
    "    electrodes = matlabImport['electrodes'] - 1 # matlab starts counting from 1 and not 0\n",
    "    sleep_states = matlabImport['sleep_states']\n",
    "    sleep_states_eeglab = matlabImport['sleep_states_eeglab']\n",
    "    wake_states = matlabImport['wake_states']\n",
    "    vigilance_states_eeglab = matlabImport['vigilance_states_eeglab']\n",
    "\n",
    "    return epochs, vigilance_states, electrodes,TOA, toneHieghts, trialnums, times\n",
    "\n",
    "epochs, vigilance_states, electrodes, TOA, toneHeights, trialnums, times = getSubEpochsdata(subjectWithAllData)"
   ]
  },
  {
   "cell_type": "code",
   "execution_count": 7,
   "outputs": [],
   "source": [
    "def getAllSubsEpochsDataAndMeta():\n",
    "    epochs, vigilance_states, electrodes, TOA, toneHeights, trialnums, times = getSubEpochsdata(subjectWithAllData)\n",
    "\n",
    "    # get the columns for the conditions table\n",
    "    numOfRows = len(subs) * len(vigilance_states) * len(toneHeights) * len(TOA) * len(trialnums)\n",
    "    metadata = np.zeros((numOfRows, 7), dtype=object)\n",
    "\n",
    "    # populate table and with subject's conditions metadata and create an eeg data dictionary with condition as key\n",
    "    full_data = {}\n",
    "    curr_row_num = 0\n",
    "    for sub_i, sub in enumerate(subs):\n",
    "        try:\n",
    "            epochs, vigilance_states, electrodes, TOA, toneHieghts, trialnums, times = getSubEpochsdata(sub)\n",
    "        except TypeError:\n",
    "            continue\n",
    "        for ss_i, ss in enumerate(vigilance_states):\n",
    "            for toneTy_i, toneTy in enumerate(TOA):\n",
    "                for toneHi_i, toneHi in enumerate(toneHieghts):\n",
    "                    for trial_i, trial in enumerate(trialnums):\n",
    "                        curr_cond_epochs = epochs[ss_i, : ,toneTy_i, toneHi_i, trial_i, :, :]\n",
    "                        curr_cond_epochs = curr_cond_epochs[~np.all(curr_cond_epochs == 0, axis=2)]  # removes 0 fillers rows\n",
    "                        curr_cond_epochs=curr_cond_epochs.reshape((np.size(electrodes), -1,np.size(times)))\n",
    "                        full_data[f\"{curr_row_num}\"] = curr_cond_epochs\n",
    "                        sample_in_cond = curr_cond_epochs.shape[1]\n",
    "                        metadata[curr_row_num, :] = [curr_row_num, sub, ss, toneTy, toneHi, trial, sample_in_cond]\n",
    "\n",
    "                        curr_row_num += 1\n",
    "\n",
    "    metadata = metadata[~np.all(metadata == 0, axis=1)]  # removes 0 fillers rows\n",
    "    full_df = pd.DataFrame(metadata, columns=['Cond_id', 'Subject', 'Vigilance', 'TOA', 'ToneHeight', 'TrialPosition', 'SamplesAmount'])\n",
    "\n",
    "    return full_data, full_df\n",
    "\n",
    "full_data, full_df = getAllSubsEpochsDataAndMeta()"
   ],
   "metadata": {
    "collapsed": false,
    "pycharm": {
     "name": "#%%\n"
    }
   }
  },
  {
   "cell_type": "code",
   "execution_count": 8,
   "outputs": [],
   "source": [
    "## add auxiliary columns\n",
    "\n",
    "def TOA_type(row):\n",
    "    if row['TOA'] == 'O' and (row['TrialPosition'] == '6' or row['TrialPosition'] == '7' or row['TrialPosition'] == '8'):\n",
    "        return 'Rand'\n",
    "    elif row['TOA'] == 'O' and row['TrialPosition']=='9':\n",
    "        return 'Fixed'\n",
    "    else:\n",
    "        return row['TOA']\n",
    "full_df['TOA_cond'] = full_df.apply(lambda row: TOA_type(row), axis=1)"
   ],
   "metadata": {
    "collapsed": false,
    "pycharm": {
     "name": "#%%\n"
    }
   }
  },
  {
   "cell_type": "code",
   "execution_count": 9,
   "outputs": [
    {
     "data": {
      "text/plain": "      Cond_id Subject Vigilance TOA ToneHeight TrialPosition SamplesAmount  \\\n0           0      08        Wn   T        650             0            24   \n1           1      08        Wn   T        650             1            24   \n2           2      08        Wn   T        650             2            24   \n3           3      08        Wn   T        650             3            24   \n4           4      08        Wn   T        650             4            24   \n...       ...     ...       ...  ..        ...           ...           ...   \n22675   22675      38       REM   A       5302             5             0   \n22676   22676      38       REM   A       5302             6             0   \n22677   22677      38       REM   A       5302             7             0   \n22678   22678      38       REM   A       5302             8             0   \n22679   22679      38       REM   A       5302             9             0   \n\n      TOA_cond  \n0            T  \n1            T  \n2            T  \n3            T  \n4            T  \n...        ...  \n22675        A  \n22676        A  \n22677        A  \n22678        A  \n22679        A  \n\n[22680 rows x 8 columns]",
      "text/html": "<div>\n<style scoped>\n    .dataframe tbody tr th:only-of-type {\n        vertical-align: middle;\n    }\n\n    .dataframe tbody tr th {\n        vertical-align: top;\n    }\n\n    .dataframe thead th {\n        text-align: right;\n    }\n</style>\n<table border=\"1\" class=\"dataframe\">\n  <thead>\n    <tr style=\"text-align: right;\">\n      <th></th>\n      <th>Cond_id</th>\n      <th>Subject</th>\n      <th>Vigilance</th>\n      <th>TOA</th>\n      <th>ToneHeight</th>\n      <th>TrialPosition</th>\n      <th>SamplesAmount</th>\n      <th>TOA_cond</th>\n    </tr>\n  </thead>\n  <tbody>\n    <tr>\n      <th>0</th>\n      <td>0</td>\n      <td>08</td>\n      <td>Wn</td>\n      <td>T</td>\n      <td>650</td>\n      <td>0</td>\n      <td>24</td>\n      <td>T</td>\n    </tr>\n    <tr>\n      <th>1</th>\n      <td>1</td>\n      <td>08</td>\n      <td>Wn</td>\n      <td>T</td>\n      <td>650</td>\n      <td>1</td>\n      <td>24</td>\n      <td>T</td>\n    </tr>\n    <tr>\n      <th>2</th>\n      <td>2</td>\n      <td>08</td>\n      <td>Wn</td>\n      <td>T</td>\n      <td>650</td>\n      <td>2</td>\n      <td>24</td>\n      <td>T</td>\n    </tr>\n    <tr>\n      <th>3</th>\n      <td>3</td>\n      <td>08</td>\n      <td>Wn</td>\n      <td>T</td>\n      <td>650</td>\n      <td>3</td>\n      <td>24</td>\n      <td>T</td>\n    </tr>\n    <tr>\n      <th>4</th>\n      <td>4</td>\n      <td>08</td>\n      <td>Wn</td>\n      <td>T</td>\n      <td>650</td>\n      <td>4</td>\n      <td>24</td>\n      <td>T</td>\n    </tr>\n    <tr>\n      <th>...</th>\n      <td>...</td>\n      <td>...</td>\n      <td>...</td>\n      <td>...</td>\n      <td>...</td>\n      <td>...</td>\n      <td>...</td>\n      <td>...</td>\n    </tr>\n    <tr>\n      <th>22675</th>\n      <td>22675</td>\n      <td>38</td>\n      <td>REM</td>\n      <td>A</td>\n      <td>5302</td>\n      <td>5</td>\n      <td>0</td>\n      <td>A</td>\n    </tr>\n    <tr>\n      <th>22676</th>\n      <td>22676</td>\n      <td>38</td>\n      <td>REM</td>\n      <td>A</td>\n      <td>5302</td>\n      <td>6</td>\n      <td>0</td>\n      <td>A</td>\n    </tr>\n    <tr>\n      <th>22677</th>\n      <td>22677</td>\n      <td>38</td>\n      <td>REM</td>\n      <td>A</td>\n      <td>5302</td>\n      <td>7</td>\n      <td>0</td>\n      <td>A</td>\n    </tr>\n    <tr>\n      <th>22678</th>\n      <td>22678</td>\n      <td>38</td>\n      <td>REM</td>\n      <td>A</td>\n      <td>5302</td>\n      <td>8</td>\n      <td>0</td>\n      <td>A</td>\n    </tr>\n    <tr>\n      <th>22679</th>\n      <td>22679</td>\n      <td>38</td>\n      <td>REM</td>\n      <td>A</td>\n      <td>5302</td>\n      <td>9</td>\n      <td>0</td>\n      <td>A</td>\n    </tr>\n  </tbody>\n</table>\n<p>22680 rows × 8 columns</p>\n</div>"
     },
     "execution_count": 9,
     "metadata": {},
     "output_type": "execute_result"
    }
   ],
   "source": [
    "full_df"
   ],
   "metadata": {
    "collapsed": false,
    "pycharm": {
     "name": "#%%\n"
    }
   }
  },
  {
   "cell_type": "code",
   "execution_count": 10,
   "outputs": [],
   "source": [
    "def getAllSampData(df):\n",
    "    df_minTrials = df[(df.SamplesAmount > 0)] # discard cond with 0 enough samples\n",
    "\n",
    "    minTrials_cond_keys = np.asarray([str (i) for i in df_minTrials['Cond_id']])\n",
    "    epochs_allSamples = {}\n",
    "    evokeds_allSamples = {}\n",
    "\n",
    "    for key in minTrials_cond_keys:\n",
    "        epochs_allSamples[key] = full_data[key]\n",
    "        evokeds_allSamples[key] = np.mean(full_data[key],axis=0)\n",
    "    return df_minTrials, epochs_allSamples, evokeds_allSamples"
   ],
   "metadata": {
    "collapsed": false,
    "pycharm": {
     "name": "#%%\n"
    }
   }
  },
  {
   "cell_type": "code",
   "execution_count": 11,
   "outputs": [],
   "source": [
    "# def get_evokedPerCond_ax_mneFunc(ax1,df,condName : str, condVaribles, filterConds, graphColors):\n",
    "#     evokeds = {}\n",
    "#     for s,subject in enumerate(subs):\n",
    "#         evokeds[s] = {}\n",
    "#         filterConds['Subject'] = subject\n",
    "#         for val in condVaribles:\n",
    "#             filterConds[condName] = val\n",
    "#             curr_subAndCond_electrOverTime = get_avgOverTrials(df, filterConds)\n",
    "#             curr_subAndCond_electrOverTime /= 1e6\n",
    "#             evokeds[s][val] = mne.EvokedArray(curr_subAndCond_electrOverTime,info,tmin=-0.1)\n",
    "#\n",
    "#     # Edit the data to mne plot format\n",
    "#     evokeds_mnePlotFormat = {}\n",
    "#     for val in condVaribles:\n",
    "#         evokeds_mnePlotFormat[val] = []\n",
    "#         for sub_i in range(len(subs)):\n",
    "#             evokeds_mnePlotFormat[val].append(evokeds[sub_i][val])\n",
    "#\n",
    "#     plot_compare_evokeds(evokeds_mnePlotFormat,combine = 'mean',colors=graphColors,\n",
    "#                          axes=ax1,show=False,truncate_xaxis=False, truncate_yaxis=False,\n",
    "#                          show_sensors = False , legend='upper left')\n",
    "def applyDesign(ax,title=''):\n",
    "    ax.set_facecolor('silver')\n",
    "    ax.set_title(title,fontsize = 18, fontweight = 'bold')\n",
    "    ax.legend(loc = 'upper right',prop={'size': 10})\n",
    "    ax.axvline(x=0,color='gray', linestyle='--',label =\"_nolegend_\")\n",
    "    ax.axhline(y=0, color='gray', linestyle='-',label =\"_nolegend_\")\n",
    "    ax.set_ylabel('magnitude', fontsize = 16, fontweight = 'bold')\n",
    "    ax.tick_params(axis='both', which='major', labelsize=14)\n",
    "    ax.set_xlabel('Frequency (Hz)', fontsize = 16, fontweight = 'bold')"
   ],
   "metadata": {
    "collapsed": false,
    "pycharm": {
     "name": "#%%\n"
    }
   }
  },
  {
   "cell_type": "code",
   "execution_count": 25,
   "outputs": [],
   "source": [
    "def get_mneEpochs_in_cond(df, conditions):\n",
    "    curr_df =df.copy()\n",
    "    for key in conditions:\n",
    "        curr_df = curr_df[(curr_df[key] == conditions[key])]\n",
    "    currDf_samps, epochs_samps_per_cond, evokeds_samps = getAllSampData(curr_df)\n",
    "\n",
    "    epochsArray_in_cond = np.zeros((len(electrodes),len(epochs_samps_per_cond),len(times)))\n",
    "\n",
    "    for s, samps_in_subcond in enumerate(epochs_samps_per_cond.values()):\n",
    "        mean_samps_in_subcond = np.mean(samps_in_subcond,axis=1)\n",
    "        epochsArray_in_cond[:,s,:] = mean_samps_in_subcond\n",
    "\n",
    "    epochs_arr = np.reshape(epochsArray_in_cond,((len(epochs_samps_per_cond),len(electrodes),len(times))))\n",
    "    mne_epochs = mne.EpochsArray(1e-6*epochs_arr, info,tmin=-0.1)\n",
    "\n",
    "    return mne_epochs"
   ],
   "metadata": {
    "collapsed": false,
    "pycharm": {
     "name": "#%%\n"
    }
   }
  },
  {
   "cell_type": "markdown",
   "source": [
    "## Time-freq functions"
   ],
   "metadata": {
    "collapsed": false,
    "pycharm": {
     "name": "#%% md\n"
    }
   }
  },
  {
   "cell_type": "code",
   "execution_count": 39,
   "outputs": [],
   "source": [
    "n_cycles = 0.5 # trade off between the time vs. freq precision. The more, the better the Freq\n",
    "p_crit = 0.05\n",
    "freqs = np.arange(3, 35, 2)  # define frequencies of interest\n",
    "\n",
    "def time_freq_clustr_perm(conds_1,conds_2,freqs,channel):\n",
    "    average = channel == 'mean'\n",
    "    mne_epochs_1 = get_mneEpochs_in_cond(full_df, conds_1)\n",
    "    mne_epochs_2 = get_mneEpochs_in_cond(full_df, conds_2)\n",
    "\n",
    "    tfr_epochs_1 = tfr_morlet(mne_epochs_1, freqs,n_cycles=n_cycles,return_itc=False, average=average)\n",
    "    tfr_epochs_2 = tfr_morlet(mne_epochs_2, freqs,n_cycles=n_cycles, return_itc=False, average=average)\n",
    "    tfr_epochs_1.apply_baseline(mode='logratio', baseline=(None, 0)) # TODO: mode='ratio'??\n",
    "    tfr_epochs_2.apply_baseline(mode='logratio', baseline=(None, 0))\n",
    "    if channel == 'mean':\n",
    "        epochs_power_1 = tfr_epochs_1.data\n",
    "        epochs_power_2 = tfr_epochs_2.data\n",
    "    else:\n",
    "        epochs_power_1 = tfr_epochs_1.data[:, channel, :, :]\n",
    "        epochs_power_2 = tfr_epochs_2.data[:, channel, :, :]\n",
    "\n",
    "\n",
    "    # n_conditions = 2\n",
    "    # n_observations = epochs_power_1.shape[0] +epochs_power_2.shape[0]\n",
    "    # dfn = n_conditions - 1  # degrees of freedom numerator\n",
    "    # dfd = n_observations - n_conditions  # degrees of freedom denominator\n",
    "    # thresh = scipy.stats.f.ppf(1 - p_crit, dfn=dfn, dfd=dfd)  # F distribution\n",
    "\n",
    "    threshold = None # The so-called “cluster forming threshold” in the form of a test statistic (note: this is not an alpha level / “p-value”). If None, an F-threshold will be chosen automatically that corresponds to a p-value of 0.05 for the given number of observations (only valid when using an F-statistic).\n",
    "    F_obs, clusters, cluster_p_values, H0 = permutation_cluster_test([epochs_power_1, epochs_power_2], out_type='mask',n_permutations=1000, threshold=threshold, tail=0)\n",
    "    print(f\"F_obs:{F_obs}\\nclusters:{clusters}\\ncluster_p_values:{cluster_p_values}\\nH0:{H0}\")\n",
    "\n",
    "    \"\"\"plot_timefreq\"\"\"\n",
    "    # fig1, ax1 = plt.subplots(1, 1, figsize=(17, 3))\n",
    "    # fig2, ax2 = plt.subplots(1, 1, figsize=(12, 3))\n",
    "    fig1, (ax1, ax2) = plt.subplots(2, 1, figsize=(10, 4))\n",
    "    fig1.subplots_adjust(0.12, 0.08, 0.96, 0.94, 0.2, 0.43)\n",
    "\n",
    "    # Compute the difference in evoked to determine which was greater since\n",
    "    # we used a 1-way ANOVA which tested for a difference in population means\n",
    "    evoked_power_1 = epochs_power_1.mean(axis=0)\n",
    "    evoked_power_2 = epochs_power_2.mean(axis=0)\n",
    "    evoked_power_contrast = evoked_power_1 - evoked_power_2\n",
    "    signs = np.sign(evoked_power_contrast)\n",
    "\n",
    "    # Create new stats image with only significant clusters\n",
    "    F_obs_plot = np.nan * np.ones_like(F_obs)\n",
    "    for c, p_val in zip(clusters, cluster_p_values):\n",
    "        if p_val <= p_crit: F_obs_plot[c] = F_obs[c] * signs[c]\n",
    "\n",
    "    ax1.imshow(F_obs, extent=[times[0], times[-1], freqs[0], freqs[-1]],  aspect='auto', origin='lower', cmap='gray')\n",
    "    max_F = np.nanmax(abs(F_obs_plot))\n",
    "    im = ax1.imshow(F_obs_plot, extent=[times[0], times[-1], freqs[0], freqs[-1]], aspect='auto', origin='lower', cmap='RdBu_r', vmin=-max_F, vmax=max_F)\n",
    "    ax1.set_xlabel('Time (ms)')\n",
    "    ax1.set_ylabel('Frequency (Hz)')\n",
    "    ax1.set_title(f'Induced power - ({ch_names})')\n",
    "    #fig1.colorbar(im, ax=ax1)\n",
    "\n",
    "    # plot evoked\n",
    "    evoked_condition_1 = mne_epochs_1.average()\n",
    "    evoked_condition_2 = mne_epochs_2.average()\n",
    "    evoked_contrast = mne.combine_evoked([evoked_condition_1, evoked_condition_2], weights=[1, -1],)\n",
    "    evoked_contrast.plot(axes=ax2, time_unit='ms')\n",
    "\n",
    "def time_freq_cond(conds_1,freqs,channel):\n",
    "    mne_epochs_1 = get_mneEpochs_in_cond(full_df, conds_1)\n",
    "    mne_epochs_1.plot_psd_topomap(ch_type='eeg', normalize=False)\n",
    "    power, itc = tfr_morlet(mne_epochs_1, freqs=freqs, n_cycles=n_cycles, use_fft=True,\n",
    "                            return_itc=True, decim=1)\n",
    "\n",
    "    baseline = (times[0], 0)\n",
    "    power.plot_topo(baseline=baseline, mode='logratio', title='Average power')\n",
    "    #power.plot([0], baseline=(times[0], 0), mode='logratio', title=ch_names[0])\n",
    "\n",
    "    fig, axis = plt.subplots(1, 2, figsize=(7, 4))\n",
    "    power.plot_topomap(ch_type='eeg', tmin=0, tmax=times[-1], fmin=freqs[0], fmax=freqs[-1],\n",
    "                       baseline=baseline, mode='logratio', axes=axis[0],\n",
    "                       title='Alpha', show=False)\n",
    "    power.plot_topomap(ch_type='eeg', tmin=0, tmax=times[-1], fmin=freqs[0], fmax=freqs[-1],\n",
    "                       baseline=baseline, mode='logratio', axes=axis[1],\n",
    "                       title='Beta', show=False)\n",
    "    mne.viz.tight_layout()\n",
    "    plt.show()"
   ],
   "metadata": {
    "collapsed": false,
    "pycharm": {
     "name": "#%%\n"
    }
   }
  },
  {
   "cell_type": "markdown",
   "source": [
    "# Resutls"
   ],
   "metadata": {
    "collapsed": false,
    "pycharm": {
     "name": "#%% md\n"
    }
   }
  },
  {
   "cell_type": "code",
   "execution_count": 40,
   "outputs": [
    {
     "name": "stdout",
     "output_type": "stream",
     "text": [
      "Not setting metadata\n",
      "1869 matching events found\n",
      "No baseline correction applied\n",
      "0 projection items activated\n",
      "0 bad epochs dropped\n",
      "Not setting metadata\n",
      "543 matching events found\n",
      "No baseline correction applied\n",
      "0 projection items activated\n",
      "0 bad epochs dropped\n",
      "Applying baseline correction (mode: logratio)\n",
      "Applying baseline correction (mode: logratio)\n",
      "Using a threshold of 5.317655\n",
      "stat_fun(H1): min=0.000014 max=5445.549900\n",
      "Running initial clustering\n",
      "Found 9 clusters\n",
      "Permuting 999 times...\n"
     ]
    },
    {
     "name": "stderr",
     "output_type": "stream",
     "text": [
      "C:\\Users\\Sharon\\AppData\\Local\\Temp\\ipykernel_8576\\3699246272.py:29: RuntimeWarning: Ignoring argument \"tail\", performing 1-tailed F-test\n",
      "  F_obs, clusters, cluster_p_values, H0 = permutation_cluster_test([epochs_power_1, epochs_power_2], out_type='mask',n_permutations=1000, threshold=threshold, tail=0)\n"
     ]
    },
    {
     "data": {
      "text/plain": "  0%|          |  : 0/999 [00:00<?,       ?it/s]",
      "application/vnd.jupyter.widget-view+json": {
       "version_major": 2,
       "version_minor": 0,
       "model_id": "0888f75f12ca4e8ebd0ea1919a22ee10"
      }
     },
     "metadata": {},
     "output_type": "display_data"
    },
    {
     "name": "stdout",
     "output_type": "stream",
     "text": [
      "Computing cluster p-values\n",
      "Done.\n",
      "F_obs:[[3.73049078e-01 1.93177434e+00 2.68336684e+00 ... 1.19448041e+02\n",
      "  1.16627821e+02 1.10039179e+02]\n",
      " [4.29507877e+01 2.02649895e+01 4.65329721e-03 ... 5.47587420e+01\n",
      "  7.12760760e+01 5.18491401e+01]\n",
      " [8.92777911e+00 3.32575510e+01 2.43347524e+00 ... 5.98055473e+01\n",
      "  5.96078674e+01 1.70839301e+01]\n",
      " ...\n",
      " [2.21526935e+01 9.72611187e+00 1.28590528e+00 ... 2.42759850e-02\n",
      "  9.80286479e-02 2.79915337e-04]\n",
      " [2.34253632e+01 8.84007678e+00 1.28838461e+00 ... 2.72666863e-02\n",
      "  2.79780512e-01 5.33623551e-04]\n",
      " [2.44009739e+01 8.22062887e+00 1.32426992e+00 ... 2.54279998e-02\n",
      "  4.55435108e-01 4.90221132e-03]]\n",
      "clusters:[array([[False, False, False, ..., False, False, False],\n",
      "       [False, False, False, ..., False, False, False],\n",
      "       [False, False, False, ..., False, False, False],\n",
      "       ...,\n",
      "       [False, False, False, ..., False, False, False],\n",
      "       [False, False, False, ..., False, False, False],\n",
      "       [False, False, False, ..., False, False, False]]), array([[False, False, False, ..., False, False, False],\n",
      "       [False, False, False, ..., False, False, False],\n",
      "       [False, False, False, ..., False, False, False],\n",
      "       ...,\n",
      "       [False, False, False, ..., False, False, False],\n",
      "       [False, False, False, ..., False, False, False],\n",
      "       [False, False, False, ..., False, False, False]]), array([[False, False, False, ...,  True,  True,  True],\n",
      "       [False, False, False, ...,  True,  True,  True],\n",
      "       [False, False, False, ...,  True,  True,  True],\n",
      "       ...,\n",
      "       [False, False, False, ..., False, False, False],\n",
      "       [False, False, False, ..., False, False, False],\n",
      "       [False, False, False, ..., False, False, False]]), array([[False, False, False, ..., False, False, False],\n",
      "       [ True,  True, False, ..., False, False, False],\n",
      "       [ True,  True, False, ..., False, False, False],\n",
      "       ...,\n",
      "       [ True,  True, False, ..., False, False, False],\n",
      "       [ True,  True, False, ..., False, False, False],\n",
      "       [ True,  True, False, ..., False, False, False]]), array([[False, False, False, ..., False, False, False],\n",
      "       [False, False, False, ..., False, False, False],\n",
      "       [False, False, False, ..., False, False, False],\n",
      "       ...,\n",
      "       [False, False, False, ..., False, False, False],\n",
      "       [False, False, False, ..., False, False, False],\n",
      "       [False, False, False, ..., False, False, False]]), array([[False, False, False, ..., False, False, False],\n",
      "       [False, False, False, ..., False, False, False],\n",
      "       [False, False, False, ..., False, False, False],\n",
      "       ...,\n",
      "       [False, False, False, ..., False, False, False],\n",
      "       [False, False, False, ..., False, False, False],\n",
      "       [False, False, False, ..., False, False, False]]), array([[False, False, False, ..., False, False, False],\n",
      "       [False, False, False, ..., False, False, False],\n",
      "       [False, False, False, ..., False, False, False],\n",
      "       ...,\n",
      "       [False, False, False, ..., False, False, False],\n",
      "       [False, False, False, ..., False, False, False],\n",
      "       [False, False, False, ..., False, False, False]]), array([[False, False, False, ..., False, False, False],\n",
      "       [False, False, False, ..., False, False, False],\n",
      "       [False, False, False, ..., False, False, False],\n",
      "       ...,\n",
      "       [False, False, False, ..., False, False, False],\n",
      "       [False, False, False, ..., False, False, False],\n",
      "       [False, False, False, ..., False, False, False]]), array([[False, False, False, ..., False, False, False],\n",
      "       [False, False, False, ..., False, False, False],\n",
      "       [False, False, False, ..., False, False, False],\n",
      "       ...,\n",
      "       [False, False, False, ..., False, False, False],\n",
      "       [False, False, False, ..., False, False, False],\n",
      "       [False, False, False, ..., False, False, False]])]\n",
      "cluster_p_values:[0.056 0.029 0.008 0.166 0.038 0.463 0.323 0.793 0.933]\n",
      "H0:[2.37461772e+05 1.35617402e+02 1.68104363e+01 1.39546138e+01\n",
      " 6.80467251e+02 4.08824463e+02 5.93650300e+01 1.51923650e+02\n",
      " 9.86300297e+01 6.49997640e+02 9.89800984e+01 6.31513033e+02\n",
      " 3.49041366e+01 9.21288182e+01 1.77369712e+03 1.07931345e+02\n",
      " 1.61768884e+02 0.00000000e+00 2.80036843e+01 6.03488328e+02\n",
      " 6.03488328e+02 2.72725371e+03 5.30002997e+01 3.02503132e+02\n",
      " 6.57310525e+01 7.44952796e+01 2.16175885e+02 5.57870713e+01\n",
      " 1.10094765e+01 6.57310525e+01 4.10292156e+01 8.20191195e+02\n",
      " 1.29152838e+03 4.31087569e+01 9.21288182e+01 0.00000000e+00\n",
      " 1.45558679e+02 6.45270092e+01 1.18997841e+01 1.32585414e+02\n",
      " 3.68513332e+02 1.65880171e+01 6.80467251e+02 1.09748251e+02\n",
      " 1.07119552e+02 3.37063566e+01 4.47374533e+02 4.31087569e+01\n",
      " 3.54618861e+02 2.52178995e+02 5.64157026e+01 1.47307593e+01\n",
      " 2.30588464e+02 2.35411578e+02 1.68104363e+01 2.30588464e+02\n",
      " 7.16486313e+01 5.57870713e+01 1.45558679e+02 4.18163023e+02\n",
      " 1.31059970e+01 2.45443096e+01 8.80704417e+01 4.03249005e+01\n",
      " 4.47374533e+02 4.65267356e+02 2.57565040e+02 3.02503132e+02\n",
      " 1.51923650e+02 6.69194042e+01 6.34168468e+01 1.18876005e+02\n",
      " 6.31513033e+02 8.07461521e+01 1.61768884e+02 0.00000000e+00\n",
      " 7.73259128e+01 2.45443096e+01 2.36559502e+01 1.29531890e+01\n",
      " 3.98707815e+02 4.66514266e+02 7.93113458e+01 5.83676172e+02\n",
      " 8.07828899e+01 7.00511722e+01 2.30588464e+02 2.52178995e+02\n",
      " 1.12411630e+02 2.37461772e+05 2.09439150e+02 5.30002997e+01\n",
      " 4.24370899e+01 2.33978308e+02 3.02503132e+02 1.35617402e+02\n",
      " 0.00000000e+00 4.02049031e+02 3.55183388e+01 3.55183388e+01\n",
      " 3.78969287e+01 1.18876005e+02 5.93650300e+01 4.62221807e+01\n",
      " 0.00000000e+00 1.32585414e+02 5.57870713e+01 2.81205517e+02\n",
      " 7.15859766e+01 1.22492481e+02 1.51923650e+02 1.22492481e+02\n",
      " 1.22492481e+02 0.00000000e+00 3.98707815e+02 6.31513033e+02\n",
      " 2.55184684e+02 1.68104363e+01 8.07461521e+01 1.61768884e+02\n",
      " 2.37461772e+05 3.80568602e+01 2.81205517e+02 1.39546138e+01\n",
      " 1.71856107e+02 7.16486313e+01 2.75840824e+01 6.31513033e+02\n",
      " 1.29531890e+01 6.87068850e+02 8.70320312e+01 2.33978308e+02\n",
      " 2.13176546e+02 1.65880171e+01 2.22589903e+01 8.70320312e+01\n",
      " 3.50963094e+02 8.07461521e+01 4.66514266e+02 1.04864712e+02\n",
      " 5.83676172e+02 1.29531890e+01 1.09748251e+02 5.27695301e+02\n",
      " 5.82346711e+00 2.37461772e+05 2.47215079e+01 3.54618861e+02\n",
      " 2.52178995e+02 3.25161671e+02 1.61797531e+02 3.68513332e+02\n",
      " 1.77369712e+03 3.08895572e+02 1.47307593e+01 2.72725371e+03\n",
      " 1.29152838e+03 3.49041366e+01 4.66514266e+02 2.30588464e+02\n",
      " 3.80568602e+01 2.37461772e+05 0.00000000e+00 9.89800984e+01\n",
      " 5.93650300e+01 5.93650300e+01 1.22492481e+02 6.87068850e+02\n",
      " 4.20466761e+01 1.47307593e+01 2.75840824e+01 2.75840824e+01\n",
      " 4.24370899e+01 1.65880171e+01 1.39806887e+02 6.57310525e+01\n",
      " 2.75840824e+01 6.34168468e+01 2.13176546e+02 8.07828899e+01\n",
      " 0.00000000e+00 2.72725371e+03 2.45443096e+01 3.30662852e+02\n",
      " 2.22589903e+01 4.20466761e+01 2.75840824e+01 3.02503132e+02\n",
      " 1.04864712e+02 4.20466761e+01 3.37063566e+01 9.86300297e+01\n",
      " 1.31059970e+01 1.35617402e+02 4.18163023e+02 1.12411630e+02\n",
      " 9.89800984e+01 2.45443096e+01 6.49997640e+02 8.07461521e+01\n",
      " 9.89800984e+01 1.36585162e+02 8.07461521e+01 2.80036843e+01\n",
      " 1.31059970e+01 1.41067661e+02 3.50963094e+02 4.03249005e+01\n",
      " 4.10292156e+01 1.77369712e+03 3.08895572e+02 5.32886822e+02\n",
      " 1.09583322e+03 0.00000000e+00 5.64157026e+01 4.08824463e+02\n",
      " 1.35617402e+02 7.73259128e+01 1.07119552e+02 4.47374533e+02\n",
      " 3.80568602e+01 1.51923650e+02 1.35617402e+02 7.15859766e+01\n",
      " 1.37588382e+02 1.07119552e+02 5.93650300e+01 7.93113458e+01\n",
      " 1.71856107e+02 2.80036843e+01 2.52178995e+02 6.45270092e+01\n",
      " 1.29152838e+03 0.00000000e+00 2.33978308e+02 6.13232082e+00\n",
      " 5.32886822e+02 4.02049031e+02 6.34168468e+01 7.44952796e+01\n",
      " 1.18876005e+02 3.37063566e+01 1.09748251e+02 6.49997640e+02\n",
      " 1.22492481e+02 8.07828899e+01 2.37461772e+05 0.00000000e+00\n",
      " 4.65267356e+02 1.45558679e+02 3.30662852e+02 2.72725371e+03\n",
      " 2.57565040e+02 1.39806887e+02 3.98707815e+02 4.62221807e+01\n",
      " 8.20191195e+02 7.44952796e+01 3.50963094e+02 2.45443096e+01\n",
      " 2.45443096e+01 3.08895572e+02 4.55781363e+01 0.00000000e+00\n",
      " 1.09583322e+03 4.24370899e+01 0.00000000e+00 8.70320312e+01\n",
      " 1.47307593e+01 8.07828899e+01 1.10094765e+01 0.00000000e+00\n",
      " 3.25161671e+02 1.10094765e+01 1.05289137e+02 6.13232082e+00\n",
      " 1.12411630e+02 2.35411578e+02 1.22492481e+02 1.65880171e+01\n",
      " 1.39546138e+01 1.04864712e+02 4.55781363e+01 8.20191195e+02\n",
      " 6.69194042e+01 4.66514266e+02 1.39546138e+01 6.31513033e+02\n",
      " 1.19190676e+01 1.07119552e+02 2.57565040e+02 1.39806887e+02\n",
      " 1.51923650e+02 1.23782569e+02 1.37588382e+02 1.47307593e+01\n",
      " 4.18163023e+02 6.03488328e+02 7.44952796e+01 1.54572012e+02\n",
      " 7.15859766e+01 1.39546138e+01 4.55781363e+01 2.13176546e+02\n",
      " 4.66514266e+02 9.89800984e+01 3.78969287e+01 4.03249005e+01\n",
      " 1.45558679e+02 3.68513332e+02 1.35617402e+02 1.07119552e+02\n",
      " 2.37461772e+05 4.47374533e+02 1.39806887e+02 6.80467251e+02\n",
      " 6.34168468e+01 1.07119552e+02 1.52174530e+02 3.54618861e+02\n",
      " 1.35617402e+02 1.22492481e+02 1.23782569e+02 0.00000000e+00\n",
      " 2.47215079e+01 6.69194042e+01 2.33978308e+02 1.07931345e+02\n",
      " 2.33978308e+02 4.18163023e+02 7.16486313e+01 5.82346711e+00\n",
      " 1.61768884e+02 5.25312983e+02 2.55184684e+02 8.70320312e+01\n",
      " 1.14116358e+02 3.98707815e+02 3.25161671e+02 3.68513332e+02\n",
      " 1.52174530e+02 1.18876005e+02 3.80568602e+01 1.61797531e+02\n",
      " 7.93113458e+01 3.54618861e+02 5.57870713e+01 6.31513033e+02\n",
      " 2.47215079e+01 3.30662852e+02 3.80568602e+01 1.47307593e+01\n",
      " 7.44952796e+01 1.18876005e+02 4.65267356e+02 9.21288182e+01\n",
      " 1.36585162e+02 0.00000000e+00 1.31059970e+01 1.39806887e+02\n",
      " 1.39806887e+02 4.24370899e+01 3.55183388e+01 2.22589903e+01\n",
      " 4.55781363e+01 3.37063566e+01 1.39546138e+01 1.32585414e+02\n",
      " 6.69194042e+01 6.57310525e+01 1.07931345e+02 1.04864712e+02\n",
      " 1.04864712e+02 1.23782569e+02 1.71856107e+02 2.72725371e+03\n",
      " 1.41067661e+02 1.32585414e+02 3.55183388e+01 1.52174530e+02\n",
      " 2.35411578e+02 5.83676172e+02 1.22683719e+03 2.72725371e+03\n",
      " 5.25312983e+02 2.16175885e+02 2.13176546e+02 1.35617402e+02\n",
      " 3.50963094e+02 1.37588382e+02 1.77369712e+03 6.34168468e+01\n",
      " 3.68513332e+02 4.18163023e+02 5.25312983e+02 8.70320312e+01\n",
      " 6.45270092e+01 6.87068850e+02 2.35411578e+02 8.07828899e+01\n",
      " 1.23067468e+02 1.37588382e+02 5.32886822e+02 3.55183388e+01\n",
      " 2.37461772e+05 2.81205517e+02 1.47307593e+01 1.10094765e+01\n",
      " 3.68513332e+02 2.22589903e+01 1.09748251e+02 2.47215079e+01\n",
      " 5.57870713e+01 1.47307593e+01 1.39806887e+02 3.78969287e+01\n",
      " 1.39806887e+02 1.68104363e+01 4.65267356e+02 0.00000000e+00\n",
      " 1.07119552e+02 3.68513332e+02 2.78093094e+03 2.57565040e+02\n",
      " 1.04864712e+02 0.00000000e+00 4.10292156e+01 5.82346711e+00\n",
      " 7.00511722e+01 3.30662852e+02 1.19190676e+01 1.47307593e+01\n",
      " 2.75840824e+01 1.52174530e+02 4.31087569e+01 8.07828899e+01\n",
      " 6.49997640e+02 2.22589903e+01 4.24370899e+01 6.45270092e+01\n",
      " 1.29531890e+01 3.54618861e+02 4.02049031e+02 0.00000000e+00\n",
      " 2.81357252e+02 1.39806887e+02 1.71856107e+02 9.21288182e+01\n",
      " 1.71856107e+02 2.33978308e+02 1.39806887e+02 2.52178995e+02\n",
      " 1.77369712e+03 5.32886822e+02 7.00511722e+01 1.19190676e+01\n",
      " 7.93113458e+01 6.45270092e+01 6.57310525e+01 1.29152838e+03\n",
      " 0.00000000e+00 6.80467251e+02 1.09748251e+02 0.00000000e+00\n",
      " 4.66514266e+02 1.77369712e+03 6.80467251e+02 5.57870713e+01\n",
      " 3.78969287e+01 3.80568602e+01 1.18876005e+02 1.45558679e+02\n",
      " 3.80568602e+01 2.45443096e+01 1.39806887e+02 5.64157026e+01\n",
      " 5.93650300e+01 9.86300297e+01 4.08824463e+02 0.00000000e+00\n",
      " 9.21288182e+01 4.20466761e+01 9.21288182e+01 1.10094765e+01\n",
      " 1.77369712e+03 8.07461521e+01 6.49997640e+02 1.04864712e+02\n",
      " 4.08824463e+02 1.45558679e+02 1.37588382e+02 1.18997841e+01\n",
      " 6.87068850e+02 2.52178995e+02 1.35617402e+02 5.82346711e+00\n",
      " 1.61797531e+02 8.07828899e+01 1.19190676e+01 1.32585414e+02\n",
      " 1.07931345e+02 2.36559502e+01 4.65267356e+02 4.31087569e+01\n",
      " 6.49997640e+02 1.39546138e+01 3.37063566e+01 1.18997841e+01\n",
      " 8.20191195e+02 2.30588464e+02 3.25161671e+02 1.61797531e+02\n",
      " 7.00511722e+01 1.37588382e+02 1.31059970e+01 5.64157026e+01\n",
      " 6.57310525e+01 1.04864712e+02 2.81205517e+02 2.35411578e+02\n",
      " 8.20191195e+02 1.14116358e+02 6.49997640e+02 2.45443096e+01\n",
      " 5.93650300e+01 4.55781363e+01 1.07119552e+02 1.54572012e+02\n",
      " 6.69194042e+01 2.37461772e+05 1.18997841e+01 1.15279932e+02\n",
      " 8.07461521e+01 2.80036843e+01 6.80467251e+02 3.54618861e+02\n",
      " 2.16175885e+02 2.22589903e+01 1.07119552e+02 4.10292156e+01\n",
      " 1.07119552e+02 7.15859766e+01 7.73259128e+01 1.23782569e+02\n",
      " 2.37461772e+05 2.81205517e+02 3.30662852e+02 4.55781363e+01\n",
      " 1.47307593e+01 0.00000000e+00 1.35617402e+02 1.61768884e+02\n",
      " 3.49041366e+01 1.18876005e+02 4.65267356e+02 8.07828899e+01\n",
      " 9.86300297e+01 2.72725371e+03 2.22589903e+01 6.87068850e+02\n",
      " 1.22683719e+03 8.07828899e+01 6.34168468e+01 0.00000000e+00\n",
      " 1.45558679e+02 1.65880171e+01 5.25312983e+02 1.37588382e+02\n",
      " 8.07461521e+01 3.50963094e+02 2.30588464e+02 3.80568602e+01\n",
      " 4.34426560e+02 1.71856107e+02 0.00000000e+00 4.55781363e+01\n",
      " 1.07931345e+02 6.34168468e+01 1.36585162e+02 1.10094765e+01\n",
      " 6.49997640e+02 2.45443096e+01 8.07828899e+01 7.00511722e+01\n",
      " 3.54618861e+02 1.36585162e+02 5.93650300e+01 4.02049031e+02\n",
      " 2.22589903e+01 1.22492481e+02 0.00000000e+00 1.18876005e+02\n",
      " 1.18997841e+01 7.15859766e+01 0.00000000e+00 4.03249005e+01\n",
      " 2.72725371e+03 1.18997841e+01 3.37063566e+01 3.54618861e+02\n",
      " 1.29531890e+01 4.03249005e+01 1.29152838e+03 1.22683719e+03\n",
      " 6.13232082e+00 2.80036843e+01 6.69194042e+01 5.64157026e+01\n",
      " 0.00000000e+00 2.55184684e+02 8.07461521e+01 1.09748251e+02\n",
      " 7.15859766e+01 4.02049031e+02 7.93113458e+01 1.07931345e+02\n",
      " 1.39806887e+02 1.12411630e+02 4.02049031e+02 2.55184684e+02\n",
      " 2.33978308e+02 2.52178995e+02 4.20466761e+01 2.57565040e+02\n",
      " 3.02503132e+02 4.31087569e+01 2.33978308e+02 2.13176546e+02\n",
      " 1.04864712e+02 1.09583322e+03 1.51923650e+02 3.80568602e+01\n",
      " 1.51923650e+02 6.80467251e+02 1.22683719e+03 2.45443096e+01\n",
      " 7.73259128e+01 3.02503132e+02 2.40809422e+01 1.41067661e+02\n",
      " 3.02503132e+02 6.57310525e+01 8.07828899e+01 2.57565040e+02\n",
      " 1.18876005e+02 3.78969287e+01 2.81205517e+02 5.64157026e+01\n",
      " 7.93113458e+01 6.87068850e+02 5.83676172e+02 1.71856107e+02\n",
      " 8.80704417e+01 1.31059970e+01 3.49041366e+01 1.31059970e+01\n",
      " 8.70320312e+01 1.71856107e+02 2.81205517e+02 8.70320312e+01\n",
      " 0.00000000e+00 3.08895572e+02 1.61768884e+02 2.33978308e+02\n",
      " 2.81205517e+02 3.37063566e+01 9.89800984e+01 6.80467251e+02\n",
      " 4.34426560e+02 6.34168468e+01 7.16486313e+01 1.36585162e+02\n",
      " 6.13232082e+00 4.02049031e+02 1.39546138e+01 6.34168468e+01\n",
      " 1.41067661e+02 0.00000000e+00 5.64157026e+01 6.31513033e+02\n",
      " 0.00000000e+00 8.07461521e+01 6.31513033e+02 0.00000000e+00\n",
      " 1.09583322e+03 0.00000000e+00 1.05289137e+02 6.03488328e+02\n",
      " 0.00000000e+00 5.25312983e+02 4.62221807e+01 8.07828899e+01\n",
      " 1.80231360e+01 1.29531890e+01 1.18997841e+01 1.37588382e+02\n",
      " 1.07931345e+02 2.35411578e+02 1.41067661e+02 5.30002997e+01\n",
      " 1.45558679e+02 1.22683719e+03 8.20191195e+02 7.93113458e+01\n",
      " 1.61797531e+02 5.32886822e+02 7.00511722e+01 9.21288182e+01\n",
      " 3.30662852e+02 1.61768884e+02 1.47307593e+01 7.73259128e+01\n",
      " 6.03488328e+02 4.08824463e+02 1.19190676e+01 4.65267356e+02\n",
      " 3.80568602e+01 2.55184684e+02 2.30588464e+02 0.00000000e+00\n",
      " 2.16175885e+02 4.18163023e+02 6.80467251e+02 2.81205517e+02\n",
      " 6.57310525e+01 5.57870713e+01 1.19190676e+01 2.72725371e+03\n",
      " 1.29531890e+01 1.10094765e+01 5.57870713e+01 1.05289137e+02\n",
      " 1.19190676e+01 5.57870713e+01 4.10292156e+01 5.82346711e+00\n",
      " 1.32585414e+02 5.30002997e+01 7.00511722e+01 2.09439150e+02\n",
      " 2.37461772e+05 3.02503132e+02 2.36559502e+01 4.10292156e+01\n",
      " 5.27695301e+02 1.71856107e+02 7.15859766e+01 1.51923650e+02\n",
      " 9.89800984e+01 1.39806887e+02 1.68104363e+01 6.87068850e+02\n",
      " 1.47307593e+01 2.37461772e+05 5.32886822e+02 6.31513033e+02\n",
      " 1.31059970e+01 4.02049031e+02 2.37461772e+05 3.37063566e+01\n",
      " 2.22589903e+01 8.20191195e+02 1.52174530e+02 1.09583322e+03\n",
      " 1.07931345e+02 2.45443096e+01 1.47307593e+01 1.12411630e+02\n",
      " 7.93113458e+01 2.22589903e+01 4.02049031e+02 8.07828899e+01\n",
      " 2.09439150e+02 2.45443096e+01 1.52174530e+02 5.57870713e+01\n",
      " 1.18876005e+02 6.13232082e+00 2.55184684e+02 2.78093094e+03\n",
      " 1.12411630e+02 3.25161671e+02 2.09439150e+02 9.21288182e+01\n",
      " 1.47307593e+01 5.25312983e+02 1.77369712e+03 2.57565040e+02\n",
      " 1.54572012e+02 4.03249005e+01 2.16175885e+02 1.39806887e+02\n",
      " 1.10094765e+01 1.23067468e+02 1.07931345e+02 1.23782569e+02\n",
      " 1.35617402e+02 1.39546138e+01 6.31513033e+02 2.22589903e+01\n",
      " 1.12411630e+02 4.31087569e+01 9.86300297e+01 7.73259128e+01\n",
      " 2.72725371e+03 0.00000000e+00 6.80467251e+02 1.41067661e+02\n",
      " 1.14116358e+02 1.19190676e+01 4.47374533e+02 1.23782569e+02\n",
      " 1.65880171e+01 1.04864712e+02 1.52174530e+02 2.55184684e+02\n",
      " 0.00000000e+00 7.00511722e+01 4.10292156e+01 2.40809422e+01\n",
      " 3.30662852e+02 8.07828899e+01 7.73259128e+01 2.55184684e+02\n",
      " 6.03488328e+02 3.49041366e+01 2.36559502e+01 2.36559502e+01\n",
      " 5.27695301e+02 6.31513033e+02 6.13232082e+00 4.66514266e+02\n",
      " 1.61797531e+02 1.47307593e+01 1.23067468e+02 3.55183388e+01\n",
      " 4.62221807e+01 3.08895572e+02 1.71856107e+02 7.15859766e+01\n",
      " 2.13176546e+02 0.00000000e+00 3.37063566e+01 1.22683719e+03\n",
      " 2.13176546e+02 1.22492481e+02 3.98707815e+02 7.93113458e+01\n",
      " 6.57310525e+01 1.39546138e+01 1.12411630e+02 1.07931345e+02\n",
      " 9.86300297e+01 1.51923650e+02 1.07931345e+02 1.39546138e+01\n",
      " 7.16486313e+01 1.68104363e+01 2.33978308e+02 1.22492481e+02\n",
      " 4.65267356e+02 1.29531890e+01 0.00000000e+00 2.75840824e+01\n",
      " 1.19190676e+01 0.00000000e+00 2.72725371e+03 5.83676172e+02\n",
      " 4.20466761e+01 5.27695301e+02 3.80568602e+01 1.32585414e+02\n",
      " 1.10094765e+01 1.29531890e+01 5.27695301e+02 5.25312983e+02\n",
      " 5.57870713e+01 8.80704417e+01 4.08824463e+02 1.32585414e+02\n",
      " 3.25161671e+02 1.45558679e+02 2.72725371e+03 5.83676172e+02\n",
      " 5.30002997e+01 6.31513033e+02 1.71856107e+02 4.47374533e+02\n",
      " 3.08895572e+02 1.65880171e+01 2.81357252e+02 1.31059970e+01\n",
      " 2.75840824e+01 3.78969287e+01 1.41067661e+02 1.22683719e+03\n",
      " 5.30002997e+01 0.00000000e+00 0.00000000e+00 1.15279932e+02\n",
      " 8.07461521e+01 1.05289137e+02 1.23782569e+02 1.07931345e+02\n",
      " 2.57565040e+02 1.45558679e+02 7.00511722e+01 3.68513332e+02\n",
      " 1.65880171e+01 9.86300297e+01 6.45270092e+01 2.09439150e+02\n",
      " 3.50963094e+02 1.14116358e+02 6.57310525e+01 4.62221807e+01\n",
      " 1.37588382e+02 1.65880171e+01 4.18163023e+02 2.55184684e+02\n",
      " 0.00000000e+00 7.15859766e+01 7.16486313e+01 1.39806887e+02\n",
      " 1.22492481e+02 7.16486313e+01 8.20191195e+02 2.09439150e+02\n",
      " 4.24370899e+01 7.00511722e+01 7.15859766e+01 7.16486313e+01\n",
      " 6.34168468e+01 5.57870713e+01 1.77369712e+03 3.37063566e+01\n",
      " 2.47215079e+01 1.36585162e+02 2.30588464e+02 2.78093094e+03\n",
      " 9.86300297e+01 2.13176546e+02 2.13176546e+02 8.07828899e+01\n",
      " 1.54572012e+02 4.34426560e+02 6.49997640e+02 1.10094765e+01\n",
      " 2.78093094e+03 2.09439150e+02 2.81357252e+02 2.45443096e+01\n",
      " 3.37063566e+01 2.55184684e+02 4.62221807e+01 2.33978308e+02\n",
      " 9.21288182e+01 1.07931345e+02 2.55184684e+02 0.00000000e+00\n",
      " 5.32886822e+02 8.07461521e+01 5.82346711e+00 1.22492481e+02\n",
      " 2.80036843e+01 6.80467251e+02 7.15859766e+01 4.55781363e+01\n",
      " 1.23782569e+02 4.55781363e+01 1.23782569e+02 1.45558679e+02\n",
      " 1.18876005e+02 6.45270092e+01 4.03249005e+01 4.08824463e+02\n",
      " 1.36585162e+02 6.69194042e+01 4.55781363e+01 6.57310525e+01\n",
      " 2.80036843e+01 8.80704417e+01 1.45558679e+02 1.47307593e+01\n",
      " 3.02503132e+02 7.93113458e+01 1.29152838e+03 1.45558679e+02\n",
      " 5.32886822e+02 2.81205517e+02 1.09748251e+02 1.47307593e+01\n",
      " 5.82346711e+00 1.52174530e+02 7.15859766e+01 1.51923650e+02\n",
      " 4.62221807e+01 7.15859766e+01 3.25161671e+02 3.80568602e+01]\n"
     ]
    },
    {
     "data": {
      "text/plain": "<Figure size 720x288 with 2 Axes>",
      "image/png": "[encoded data removed]"
     },
     "metadata": {
      "needs_background": "light"
     },
     "output_type": "display_data"
    }
   ],
   "source": [
    "%matplotlib inline\n",
    "conds_1 = {'TOA_cond':'T','Vigilance':'Wn'}\n",
    "conds_2 = {'TOA_cond':'Rand','Vigilance':'Wn'}\n",
    "time_freq_clustr_perm(conds_1,conds_2,freqs,'mean')"
   ],
   "metadata": {
    "collapsed": false,
    "pycharm": {
     "name": "#%%\n"
    }
   }
  },
  {
   "cell_type": "code",
   "execution_count": 42,
   "outputs": [
    {
     "name": "stdout",
     "output_type": "stream",
     "text": [
      "Not setting metadata\n",
      "1869 matching events found\n",
      "No baseline correction applied\n",
      "0 projection items activated\n",
      "0 bad epochs dropped\n",
      "    Using multitaper spectrum estimation with 7 DPSS windows\n"
     ]
    },
    {
     "name": "stderr",
     "output_type": "stream",
     "text": [
      "C:\\Users\\Sharon\\anaconda3\\Lib\\site-packages\\mne\\viz\\topomap.py:244: MatplotlibDeprecationWarning: Auto-removal of grids by pcolor() and pcolormesh() is deprecated since 3.5 and will be removed two minor releases later; please call grid(False) first.\n",
      "  cbar = plt.colorbar(im, cax=cax, format=format)\n",
      "C:\\Users\\Sharon\\anaconda3\\Lib\\site-packages\\mne\\viz\\topomap.py:244: MatplotlibDeprecationWarning: Auto-removal of grids by pcolor() and pcolormesh() is deprecated since 3.5 and will be removed two minor releases later; please call grid(False) first.\n",
      "  cbar = plt.colorbar(im, cax=cax, format=format)\n",
      "C:\\Users\\Sharon\\anaconda3\\Lib\\site-packages\\mne\\viz\\topomap.py:244: MatplotlibDeprecationWarning: Auto-removal of grids by pcolor() and pcolormesh() is deprecated since 3.5 and will be removed two minor releases later; please call grid(False) first.\n",
      "  cbar = plt.colorbar(im, cax=cax, format=format)\n",
      "C:\\Users\\Sharon\\anaconda3\\Lib\\site-packages\\mne\\viz\\topomap.py:244: MatplotlibDeprecationWarning: Auto-removal of grids by pcolor() and pcolormesh() is deprecated since 3.5 and will be removed two minor releases later; please call grid(False) first.\n",
      "  cbar = plt.colorbar(im, cax=cax, format=format)\n",
      "C:\\Users\\Sharon\\anaconda3\\Lib\\site-packages\\mne\\viz\\topomap.py:244: MatplotlibDeprecationWarning: Auto-removal of grids by pcolor() and pcolormesh() is deprecated since 3.5 and will be removed two minor releases later; please call grid(False) first.\n",
      "  cbar = plt.colorbar(im, cax=cax, format=format)\n"
     ]
    },
    {
     "name": "stdout",
     "output_type": "stream",
     "text": [
      "Applying baseline correction (mode: logratio)\n"
     ]
    },
    {
     "name": "stderr",
     "output_type": "stream",
     "text": [
      "C:\\Users\\Sharon\\anaconda3\\Lib\\site-packages\\mne\\viz\\topo.py:230: MatplotlibDeprecationWarning: Auto-removal of grids by pcolor() and pcolormesh() is deprecated since 3.5 and will be removed two minor releases later; please call grid(False) first.\n",
      "  cb = fig.colorbar(sm, ax=axes, pad=0.025, fraction=0.075, shrink=0.5,\n"
     ]
    },
    {
     "name": "stdout",
     "output_type": "stream",
     "text": [
      "Applying baseline correction (mode: logratio)\n",
      "Applying baseline correction (mode: logratio)\n"
     ]
    },
    {
     "name": "stderr",
     "output_type": "stream",
     "text": [
      "C:\\Users\\Sharon\\anaconda3\\Lib\\site-packages\\mne\\viz\\topomap.py:244: MatplotlibDeprecationWarning: Auto-removal of grids by pcolor() and pcolormesh() is deprecated since 3.5 and will be removed two minor releases later; please call grid(False) first.\n",
      "  cbar = plt.colorbar(im, cax=cax, format=format)\n",
      "C:\\Users\\Sharon\\anaconda3\\Lib\\site-packages\\mne\\viz\\topomap.py:244: MatplotlibDeprecationWarning: Auto-removal of grids by pcolor() and pcolormesh() is deprecated since 3.5 and will be removed two minor releases later; please call grid(False) first.\n",
      "  cbar = plt.colorbar(im, cax=cax, format=format)\n"
     ]
    }
   ],
   "source": [
    "%matplotlib qt\n",
    "conds_1 = {'TOA_cond':'T','Vigilance':'Wn'}\n",
    "time_freq_cond(conds_1,freqs,'mean')"
   ],
   "metadata": {
    "collapsed": false,
    "pycharm": {
     "name": "#%%\n"
    }
   }
  }
 ],
 "metadata": {
  "kernelspec": {
   "display_name": "Python 3",
   "language": "python",
   "name": "python3"
  },
  "language_info": {
   "codemirror_mode": {
    "name": "ipython",
    "version": 2
   },
   "file_extension": ".py",
   "mimetype": "text/x-python",
   "name": "python",
   "nbconvert_exporter": "python",
   "pygments_lexer": "ipython2",
   "version": "2.7.6"
  }
 },
 "nbformat": 4,
 "nbformat_minor": 0
}