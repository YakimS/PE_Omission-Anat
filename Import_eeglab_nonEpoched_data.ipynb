{
 "cells": [
  {
   "cell_type": "code",
   "execution_count": 41,
   "metadata": {
    "collapsed": false,
    "pycharm": {
     "name": "#%%\n"
    }
   },
   "outputs": [],
   "source": [
    "%reset"
   ]
  },
  {
   "cell_type": "code",
   "execution_count": 42,
   "metadata": {
    "collapsed": false,
    "pycharm": {
     "name": "#%%\n"
    }
   },
   "outputs": [],
   "source": [
    "import matplotlib.pyplot as plt\n",
    "import numpy as np\n",
    "import scipy.io\n",
    "import pandas as pd\n",
    "import pickle\n",
    "import copy\n",
    "import pandas as pd\n",
    "from tqdm.notebook import tqdm_notebook\n",
    "import os"
   ]
  },
  {
   "cell_type": "code",
   "execution_count": 43,
   "metadata": {
    "collapsed": false,
    "pycharm": {
     "name": "#%%\n"
    }
   },
   "outputs": [],
   "source": [
    "mat_dir = 'C:\\\\Users\\\\User\\\\Cloud-Drive\\\\BigFiles\\\\OmissionExpOutput\\\\\\\\imported_eventDetectionChan\\\\filter0.35'\n",
    "prepro_name = \"imported\"\n",
    "import_type = \"eventDetectionChan\"\n",
    "dir_scoring = \"C:\\\\Users\\\\User\\\\Cloud-Drive\\\\BigFiles\\\\AnatArzData\\\\Data\\\\FinalScores\""
   ]
  },
  {
   "cell_type": "code",
   "execution_count": 44,
   "metadata": {
    "collapsed": false,
    "pycharm": {
     "name": "#%%\n"
    }
   },
   "outputs": [],
   "source": [
    "all_subjects = np.array(\n",
    "    ['08', '09', '10','11', '12','13', '14', '15', '16','17', '19', '20', '21', '23', '24', '25', '26', '27', '28', '29', '30', '31', '32', '33', '34','35', '36', '37', '38'])\n",
    "outlier_subs_major_exp_fault = ['12','18','22']\n",
    "valid_subs = np.delete(all_subjects,np.isin(all_subjects,outlier_subs_major_exp_fault))\n",
    "subs = valid_subs\n",
    "\n",
    "cfg = {}\n",
    "cfg['outputs_dir_path'] =  'C:\\\\Users\\\\User\\\\Cloud-Drive\\\\BigFiles\\\\OmissionExpOutput'\n",
    "cfg['mat_files_dir'] =  mat_dir\n",
    "\n",
    "cfg['prepro_name'] = prepro_name\n",
    "cfg['electrodes_names'] = np.asarray(['E6','E7','E13','E106','E112'])\n",
    "cfg['subs'] = valid_subs\n",
    "cfg['outlier_subs'] = outlier_subs_major_exp_fault"
   ]
  },
  {
   "cell_type": "code",
   "execution_count": 45,
   "metadata": {},
   "outputs": [],
   "source": [
    "all_files_dic = {}\n",
    "for sub in subs:\n",
    "    for sleep_i in np.arange(1,6):\n",
    "        sub_load_filepath = f\"{cfg['mat_files_dir']}\\sub{sub}_sleep{sleep_i}_{prepro_name}_{import_type}.mat\"\n",
    "        try: \n",
    "            matlabImport = scipy.io.loadmat(sub_load_filepath, simplify_cells=True)\n",
    "            all_files_dic[f'{sub}_{sleep_i}'] = {}\n",
    "            all_files_dic[f'{sub}_{sleep_i}']['events'] = pd.DataFrame(matlabImport['subEvents'])\n",
    "            all_files_dic[f'{sub}_{sleep_i}']['data'] = matlabImport[f'subData']\n",
    "            all_files_dic[f'{sub}_{sleep_i}']['subnum'] = sub\n",
    "            all_files_dic[f'{sub}_{sleep_i}']['filenum'] = sleep_i\n",
    "\n",
    "            datafile_scoring = f\"{dir_scoring}\\s_{sub}_{sleep_i}\"\n",
    "            readEx = pd.read_excel(f'{datafile_scoring}.xlsx',header=None) # header =None is important, otherwise the scoring will be shifted\n",
    "            all_files_dic[f'{sub}_{sleep_i}']['scoring'] = [x[0] for x in readEx.to_numpy()]\n",
    "\n",
    "        except Exception: continue #print(f'Error importing sub file at: {sub_load_filepath}')\n",
    "\n",
    "\n",
    "cfg['sample_freq'] = matlabImport[f'samplefreq']\n",
    "cfg['electrodes_names'] = matlabImport[f'chansNames']"
   ]
  },
  {
   "cell_type": "code",
   "execution_count": 50,
   "metadata": {},
   "outputs": [
    {
     "data": {
      "text/plain": [
       "5"
      ]
     },
     "execution_count": 50,
     "metadata": {},
     "output_type": "execute_result"
    }
   ],
   "source": [
    "len(all_files_dic[f'32_2']['scoring'][0:20])\n",
    "all_files_dic[f'32_2']['scoring'][96]"
   ]
  },
  {
   "cell_type": "markdown",
   "metadata": {
    "collapsed": false,
    "pycharm": {
     "name": "#%% md\n"
    }
   },
   "source": [
    "## Save"
   ]
  },
  {
   "cell_type": "code",
   "execution_count": 47,
   "metadata": {
    "collapsed": false,
    "pycharm": {
     "name": "#%%\n"
    }
   },
   "outputs": [],
   "source": [
    "with open(f'{mat_dir}\\\\{import_type}.pkl', 'wb') as file:\n",
    "    pickle.dump([all_files_dic, cfg], file)\n",
    "\n",
    "# Load\n",
    "# with open(f'{epochs_dir}\\\\{import_type}_allEvents_df.pkl', 'rb') as file:\n",
    "#     _allEvents_df = pickle.load(file)\n",
    "# with open(f'{epochs_dir}\\\\{import_type}_allEpochs.pkl', 'rb') as file:\n",
    "#     _allEpochs_perCond = pickle.load(file)"
   ]
  }
 ],
 "metadata": {
  "kernelspec": {
   "display_name": "Python 3",
   "language": "python",
   "name": "python3"
  },
  "language_info": {
   "codemirror_mode": {
    "name": "ipython",
    "version": 3
   },
   "file_extension": ".py",
   "mimetype": "text/x-python",
   "name": "python",
   "nbconvert_exporter": "python",
   "pygments_lexer": "ipython3",
   "version": "3.8.0"
  },
  "vscode": {
   "interpreter": {
    "hash": "f544ce1a915a9875fad91c894e2c0bcad4b7a79945aa6027ef3ad27810072aa6"
   }
  }
 },
 "nbformat": 4,
 "nbformat_minor": 0
}
