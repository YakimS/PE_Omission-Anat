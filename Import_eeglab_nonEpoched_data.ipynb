{
 "cells": [
  {
   "cell_type": "code",
   "execution_count": 1,
   "metadata": {
    "collapsed": false,
    "pycharm": {
     "name": "#%%\n"
    }
   },
   "outputs": [],
   "source": [
    "%reset"
   ]
  },
  {
   "cell_type": "code",
   "execution_count": 2,
   "metadata": {
    "collapsed": false,
    "pycharm": {
     "name": "#%%\n"
    }
   },
   "outputs": [],
   "source": [
    "import matplotlib.pyplot as plt\n",
    "import numpy as np\n",
    "import scipy.io\n",
    "import pandas as pd\n",
    "import pickle\n",
    "import copy\n",
    "import pandas as pd\n",
    "from tqdm.notebook import tqdm_notebook\n",
    "import os"
   ]
  },
  {
   "cell_type": "code",
   "execution_count": 3,
   "metadata": {
    "collapsed": false,
    "pycharm": {
     "name": "#%%\n"
    }
   },
   "outputs": [],
   "source": [
    "mat_dir = 'D:\\\\AnatArziData\\\\OExpOut\\\\eventDetection\\\\try2\\\\imported_eventDetectionChan\\\\no_filters\\\\imported_scoringPrepro_mats'\n",
    "out_dir = 'D:\\\\AnatArziData\\\\OExpOut\\\\eventDetection\\\\try2\\\\imported_eventDetectionChan\\\\no_filters\\\\pkls'\n",
    "prepro_name = \"imported\"\n",
    "import_type = \"eventDetectionChan\"\n",
    "dir_scoring = \"C:\\\\Users\\\\User\\\\OneDrive - huji.ac.il\\\\AnatArzData\\\\Data\\\\FinalScores\""
   ]
  },
  {
   "cell_type": "code",
   "execution_count": 4,
   "metadata": {
    "collapsed": false,
    "pycharm": {
     "name": "#%%\n"
    }
   },
   "outputs": [],
   "source": [
    "all_subjects = np.array(['01','02','03','04','05','06','07','08', '09', '10','11', '12','13', '14', '15', '16','17','18', '19', '20', '21','22','23','24', '25', '26', '27', '28', '29', '30', '31', '32', '33', '34','35', '36','37','38'])\n",
    "\n",
    "outlier_subs_major_exp_fault = ['18']\n",
    "valid_subs = np.delete(all_subjects,np.isin(all_subjects,outlier_subs_major_exp_fault))\n",
    "\n",
    "cfg = {}\n",
    "cfg['outputs_dir_path'] =  'C:\\\\Users\\\\User\\\\Cloud-Drive\\\\BigFiles\\\\OmissionExpOutput'\n",
    "cfg['mat_files_dir'] =  mat_dir\n",
    "\n",
    "cfg['prepro_name'] = prepro_name\n",
    "cfg['subs'] = valid_subs\n",
    "cfg['outlier_subs'] = outlier_subs_major_exp_fault"
   ]
  },
  {
   "cell_type": "markdown",
   "metadata": {
    "collapsed": false,
    "pycharm": {
     "name": "#%% md\n"
    }
   },
   "source": [
    "## Save - all subjects, in 10 subs butches"
   ]
  },
  {
   "cell_type": "code",
   "execution_count": 28,
   "metadata": {},
   "outputs": [],
   "source": [
    "# save in parts\n",
    "parts = [[0,10],[11,20],[20,30],[30,valid_subs.size]]\n",
    "\n",
    "for i_part, part in enumerate(parts):\n",
    "    subs = valid_subs[part[0]:part[1]]\n",
    "    all_files_dic = {}\n",
    "    for sub in subs:\n",
    "        for sleep_i in np.arange(1,7):\n",
    "            sub_load_filepath = f\"{cfg['mat_files_dir']}\\\\sub{sub}_sleep{sleep_i}_{prepro_name}_{import_type}.mat\"\n",
    "            try: \n",
    "                matlabImport = scipy.io.loadmat(sub_load_filepath, simplify_cells=True)\n",
    "                all_files_dic[f'{sub}_{sleep_i}'] = {}\n",
    "                all_files_dic[f'{sub}_{sleep_i}']['events'] = pd.DataFrame(matlabImport['subEvents'])\n",
    "                all_files_dic[f'{sub}_{sleep_i}']['data'] = matlabImport[f'subData']\n",
    "                all_files_dic[f'{sub}_{sleep_i}']['subnum'] = sub\n",
    "                all_files_dic[f'{sub}_{sleep_i}']['filenum'] = sleep_i\n",
    "\n",
    "                datafile_scoring = f\"{dir_scoring}\\\\s_{sub}_{sleep_i}\"\n",
    "                readEx = pd.read_excel(f'{datafile_scoring}.xlsx',header=None) # \"header =None\" is important, otherwise the scoring will be shifted\n",
    "                all_files_dic[f'{sub}_{sleep_i}']['scoring'] = [x[0] for x in readEx.to_numpy()]\n",
    "\n",
    "                cfg['sample_freq'] = matlabImport[f'samplefreq']\n",
    "                cfg['electrodes_names'] = matlabImport[f'chansNames']\n",
    "\n",
    "            except Exception: continue #print(f'Error importing sub file at: {sub_load_filepath}')\n",
    "    with open(f'{out_dir}\\\\{import_type}_{i_part}.pkl', 'wb') as file:\n",
    "        pickle.dump([all_files_dic, cfg], file)"
   ]
  },
  {
   "cell_type": "code",
   "execution_count": 23,
   "metadata": {
    "collapsed": false,
    "pycharm": {
     "name": "#%%\n"
    }
   },
   "outputs": [],
   "source": [
    "# with open(f'{mat_dir}\\\\{import_type}_1-10.pkl', 'wb') as file:\n",
    "#     pickle.dump([all_files_dic, cfg], file)\n",
    "\n",
    "# Load\n",
    "# with open(f'{epochs_dir}\\\\{import_type}_allEvents_df.pkl', 'rb') as file:\n",
    "#     _allEvents_df = pickle.load(file)\n",
    "# with open(f'{epochs_dir}\\\\{import_type}_allEpochs.pkl', 'rb') as file:\n",
    "#     _allEpochs_perCond = pickle.load(file)"
   ]
  },
  {
   "cell_type": "markdown",
   "metadata": {},
   "source": [
    "## Save - file per subject"
   ]
  },
  {
   "cell_type": "code",
   "execution_count": 6,
   "metadata": {},
   "outputs": [],
   "source": [
    "subs = all_subjects #np.array(['30','31','32','33','34','35','36','37','38'])\n",
    "subs =  np.array(['13'])\n",
    "\n",
    "for sub in subs:\n",
    "    for sleep_i in np.arange(1,7):\n",
    "        file_dic = {}\n",
    "        sub_load_filepath = f\"{cfg['mat_files_dir']}\\\\sub{sub}_sleep{sleep_i}_{prepro_name}_{import_type}.mat\"\n",
    "        try: \n",
    "            matlabImport = scipy.io.loadmat(sub_load_filepath, simplify_cells=True)\n",
    "        except Exception: continue #print(f'Error importing sub file at: {sub_load_filepath}')\n",
    "        file_dic[f'{sub}_{sleep_i}'] = {}\n",
    "        file_dic[f'{sub}_{sleep_i}']['events'] = pd.DataFrame(matlabImport['subEvents'])\n",
    "        file_dic[f'{sub}_{sleep_i}']['data'] = matlabImport[f'subData']\n",
    "        file_dic[f'{sub}_{sleep_i}']['subnum'] = sub\n",
    "        file_dic[f'{sub}_{sleep_i}']['filenum'] = sleep_i\n",
    "\n",
    "        datafile_scoring = f\"{dir_scoring}\\\\s_{sub}_{sleep_i}\"\n",
    "        readEx = pd.read_excel(f'{datafile_scoring}.xlsx',header=None) # \"header =None\" is important, otherwise the scoring will be shifted\n",
    "        file_dic[f'{sub}_{sleep_i}']['scoring'] = [x[0] for x in readEx.to_numpy()]\n",
    "\n",
    "        cfg['sample_freq'] = matlabImport[f'samplefreq']\n",
    "        cfg['electrodes_names'] = matlabImport[f'chansNames']\n",
    "        \n",
    "        with open(f'{out_dir}\\\\{import_type}_sub-{sub}_sleep-{sleep_i}.pkl', 'wb') as file:\n",
    "            pickle.dump([file_dic, cfg], file)"
   ]
  }
 ],
 "metadata": {
  "kernelspec": {
   "display_name": "Python 3",
   "language": "python",
   "name": "python3"
  },
  "language_info": {
   "codemirror_mode": {
    "name": "ipython",
    "version": 3
   },
   "file_extension": ".py",
   "mimetype": "text/x-python",
   "name": "python",
   "nbconvert_exporter": "python",
   "pygments_lexer": "ipython3",
   "version": "3.8.0"
  },
  "vscode": {
   "interpreter": {
    "hash": "f544ce1a915a9875fad91c894e2c0bcad4b7a79945aa6027ef3ad27810072aa6"
   }
  }
 },
 "nbformat": 4,
 "nbformat_minor": 0
}
