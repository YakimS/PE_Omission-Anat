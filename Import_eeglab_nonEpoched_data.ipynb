{
 "cells": [
  {
   "cell_type": "code",
   "execution_count": 52,
   "metadata": {
    "collapsed": false,
    "pycharm": {
     "name": "#%%\n"
    }
   },
   "outputs": [],
   "source": [
    "%reset"
   ]
  },
  {
   "cell_type": "code",
   "execution_count": 53,
   "metadata": {
    "collapsed": false,
    "pycharm": {
     "name": "#%%\n"
    }
   },
   "outputs": [],
   "source": [
    "import matplotlib.pyplot as plt\n",
    "import numpy as np\n",
    "import scipy.io\n",
    "import pandas as pd\n",
    "import pickle\n",
    "import copy\n",
    "import pandas as pd\n",
    "from tqdm.notebook import tqdm_notebook\n",
    "import os"
   ]
  },
  {
   "cell_type": "code",
   "execution_count": 54,
   "metadata": {
    "collapsed": false,
    "pycharm": {
     "name": "#%%\n"
    }
   },
   "outputs": [],
   "source": [
    "mat_dir = 'C:\\\\Users\\\\User\\\\Cloud-Drive\\\\BigFiles\\\\OmissionExpOutput\\\\\\\\imported_eventDetectionChan\\\\filter0.35'\n",
    "prepro_name = \"imported\"\n",
    "import_type = \"eventDetectionChan\"\n",
    "dir_scoring = \"C:\\\\Users\\\\User\\\\Cloud-Drive\\\\BigFiles\\\\AnatArzData\\\\Data\\\\FinalScores\""
   ]
  },
  {
   "cell_type": "code",
   "execution_count": 55,
   "metadata": {
    "collapsed": false,
    "pycharm": {
     "name": "#%%\n"
    }
   },
   "outputs": [],
   "source": [
    "all_subjects = np.array(\n",
    "    ['08', '09', '10','11', '12','13', '14', '15', '16','17', '19', '20', '21', '23', '24', '25', '26', '27', '28', '29', '30', '31', '32', '33', '34','35', '36', '37', '38'])\n",
    "outlier_subs_major_exp_fault = ['12','18','22']\n",
    "valid_subs = np.delete(all_subjects,np.isin(all_subjects,outlier_subs_major_exp_fault))\n",
    "subs = valid_subs\n",
    "\n",
    "cfg = {}\n",
    "cfg['outputs_dir_path'] =  'C:\\\\Users\\\\User\\\\Cloud-Drive\\\\BigFiles\\\\OmissionExpOutput'\n",
    "cfg['mat_files_dir'] =  mat_dir\n",
    "\n",
    "cfg['prepro_name'] = prepro_name\n",
    "cfg['electrodes_names'] = np.asarray(['E6','E7','E13','E106','E112'])\n",
    "cfg['subs'] = valid_subs\n",
    "cfg['outlier_subs'] = outlier_subs_major_exp_fault"
   ]
  },
  {
   "cell_type": "code",
   "execution_count": 56,
   "metadata": {},
   "outputs": [
    {
     "name": "stdout",
     "output_type": "stream",
     "text": [
      "Error importing sub file at: C:\\Users\\User\\Cloud-Drive\\BigFiles\\OmissionExpOutput\\\\imported_eventDetectionChan\\filter0.35\\sub08_sleep1_imported_eventDetectionChan.mat\n",
      "Error importing sub file at: C:\\Users\\User\\Cloud-Drive\\BigFiles\\OmissionExpOutput\\\\imported_eventDetectionChan\\filter0.35\\sub08_sleep2_imported_eventDetectionChan.mat\n",
      "Error importing sub file at: C:\\Users\\User\\Cloud-Drive\\BigFiles\\OmissionExpOutput\\\\imported_eventDetectionChan\\filter0.35\\sub08_sleep3_imported_eventDetectionChan.mat\n",
      "Error importing sub file at: C:\\Users\\User\\Cloud-Drive\\BigFiles\\OmissionExpOutput\\\\imported_eventDetectionChan\\filter0.35\\sub08_sleep4_imported_eventDetectionChan.mat\n",
      "Error importing sub file at: C:\\Users\\User\\Cloud-Drive\\BigFiles\\OmissionExpOutput\\\\imported_eventDetectionChan\\filter0.35\\sub08_sleep5_imported_eventDetectionChan.mat\n",
      "Error importing sub file at: C:\\Users\\User\\Cloud-Drive\\BigFiles\\OmissionExpOutput\\\\imported_eventDetectionChan\\filter0.35\\sub09_sleep1_imported_eventDetectionChan.mat\n",
      "Error importing sub file at: C:\\Users\\User\\Cloud-Drive\\BigFiles\\OmissionExpOutput\\\\imported_eventDetectionChan\\filter0.35\\sub09_sleep2_imported_eventDetectionChan.mat\n",
      "Error importing sub file at: C:\\Users\\User\\Cloud-Drive\\BigFiles\\OmissionExpOutput\\\\imported_eventDetectionChan\\filter0.35\\sub09_sleep3_imported_eventDetectionChan.mat\n",
      "Error importing sub file at: C:\\Users\\User\\Cloud-Drive\\BigFiles\\OmissionExpOutput\\\\imported_eventDetectionChan\\filter0.35\\sub09_sleep4_imported_eventDetectionChan.mat\n",
      "Error importing sub file at: C:\\Users\\User\\Cloud-Drive\\BigFiles\\OmissionExpOutput\\\\imported_eventDetectionChan\\filter0.35\\sub09_sleep5_imported_eventDetectionChan.mat\n",
      "Error importing sub file at: C:\\Users\\User\\Cloud-Drive\\BigFiles\\OmissionExpOutput\\\\imported_eventDetectionChan\\filter0.35\\sub10_sleep1_imported_eventDetectionChan.mat\n",
      "Error importing sub file at: C:\\Users\\User\\Cloud-Drive\\BigFiles\\OmissionExpOutput\\\\imported_eventDetectionChan\\filter0.35\\sub10_sleep2_imported_eventDetectionChan.mat\n",
      "Error importing sub file at: C:\\Users\\User\\Cloud-Drive\\BigFiles\\OmissionExpOutput\\\\imported_eventDetectionChan\\filter0.35\\sub10_sleep3_imported_eventDetectionChan.mat\n",
      "Error importing sub file at: C:\\Users\\User\\Cloud-Drive\\BigFiles\\OmissionExpOutput\\\\imported_eventDetectionChan\\filter0.35\\sub10_sleep4_imported_eventDetectionChan.mat\n",
      "Error importing sub file at: C:\\Users\\User\\Cloud-Drive\\BigFiles\\OmissionExpOutput\\\\imported_eventDetectionChan\\filter0.35\\sub10_sleep5_imported_eventDetectionChan.mat\n",
      "Error importing sub file at: C:\\Users\\User\\Cloud-Drive\\BigFiles\\OmissionExpOutput\\\\imported_eventDetectionChan\\filter0.35\\sub11_sleep1_imported_eventDetectionChan.mat\n",
      "Error importing sub file at: C:\\Users\\User\\Cloud-Drive\\BigFiles\\OmissionExpOutput\\\\imported_eventDetectionChan\\filter0.35\\sub11_sleep2_imported_eventDetectionChan.mat\n",
      "Error importing sub file at: C:\\Users\\User\\Cloud-Drive\\BigFiles\\OmissionExpOutput\\\\imported_eventDetectionChan\\filter0.35\\sub11_sleep3_imported_eventDetectionChan.mat\n",
      "Error importing sub file at: C:\\Users\\User\\Cloud-Drive\\BigFiles\\OmissionExpOutput\\\\imported_eventDetectionChan\\filter0.35\\sub11_sleep4_imported_eventDetectionChan.mat\n",
      "Error importing sub file at: C:\\Users\\User\\Cloud-Drive\\BigFiles\\OmissionExpOutput\\\\imported_eventDetectionChan\\filter0.35\\sub11_sleep5_imported_eventDetectionChan.mat\n",
      "Error importing sub file at: C:\\Users\\User\\Cloud-Drive\\BigFiles\\OmissionExpOutput\\\\imported_eventDetectionChan\\filter0.35\\sub13_sleep1_imported_eventDetectionChan.mat\n",
      "Error importing sub file at: C:\\Users\\User\\Cloud-Drive\\BigFiles\\OmissionExpOutput\\\\imported_eventDetectionChan\\filter0.35\\sub13_sleep2_imported_eventDetectionChan.mat\n",
      "Error importing sub file at: C:\\Users\\User\\Cloud-Drive\\BigFiles\\OmissionExpOutput\\\\imported_eventDetectionChan\\filter0.35\\sub13_sleep3_imported_eventDetectionChan.mat\n",
      "Error importing sub file at: C:\\Users\\User\\Cloud-Drive\\BigFiles\\OmissionExpOutput\\\\imported_eventDetectionChan\\filter0.35\\sub13_sleep4_imported_eventDetectionChan.mat\n",
      "Error importing sub file at: C:\\Users\\User\\Cloud-Drive\\BigFiles\\OmissionExpOutput\\\\imported_eventDetectionChan\\filter0.35\\sub13_sleep5_imported_eventDetectionChan.mat\n",
      "Error importing sub file at: C:\\Users\\User\\Cloud-Drive\\BigFiles\\OmissionExpOutput\\\\imported_eventDetectionChan\\filter0.35\\sub14_sleep1_imported_eventDetectionChan.mat\n",
      "Error importing sub file at: C:\\Users\\User\\Cloud-Drive\\BigFiles\\OmissionExpOutput\\\\imported_eventDetectionChan\\filter0.35\\sub14_sleep2_imported_eventDetectionChan.mat\n",
      "Error importing sub file at: C:\\Users\\User\\Cloud-Drive\\BigFiles\\OmissionExpOutput\\\\imported_eventDetectionChan\\filter0.35\\sub14_sleep3_imported_eventDetectionChan.mat\n",
      "Error importing sub file at: C:\\Users\\User\\Cloud-Drive\\BigFiles\\OmissionExpOutput\\\\imported_eventDetectionChan\\filter0.35\\sub14_sleep4_imported_eventDetectionChan.mat\n",
      "Error importing sub file at: C:\\Users\\User\\Cloud-Drive\\BigFiles\\OmissionExpOutput\\\\imported_eventDetectionChan\\filter0.35\\sub14_sleep5_imported_eventDetectionChan.mat\n",
      "Error importing sub file at: C:\\Users\\User\\Cloud-Drive\\BigFiles\\OmissionExpOutput\\\\imported_eventDetectionChan\\filter0.35\\sub15_sleep1_imported_eventDetectionChan.mat\n",
      "Error importing sub file at: C:\\Users\\User\\Cloud-Drive\\BigFiles\\OmissionExpOutput\\\\imported_eventDetectionChan\\filter0.35\\sub15_sleep2_imported_eventDetectionChan.mat\n",
      "Error importing sub file at: C:\\Users\\User\\Cloud-Drive\\BigFiles\\OmissionExpOutput\\\\imported_eventDetectionChan\\filter0.35\\sub15_sleep3_imported_eventDetectionChan.mat\n",
      "Error importing sub file at: C:\\Users\\User\\Cloud-Drive\\BigFiles\\OmissionExpOutput\\\\imported_eventDetectionChan\\filter0.35\\sub15_sleep4_imported_eventDetectionChan.mat\n",
      "Error importing sub file at: C:\\Users\\User\\Cloud-Drive\\BigFiles\\OmissionExpOutput\\\\imported_eventDetectionChan\\filter0.35\\sub15_sleep5_imported_eventDetectionChan.mat\n",
      "Error importing sub file at: C:\\Users\\User\\Cloud-Drive\\BigFiles\\OmissionExpOutput\\\\imported_eventDetectionChan\\filter0.35\\sub16_sleep1_imported_eventDetectionChan.mat\n",
      "Error importing sub file at: C:\\Users\\User\\Cloud-Drive\\BigFiles\\OmissionExpOutput\\\\imported_eventDetectionChan\\filter0.35\\sub16_sleep2_imported_eventDetectionChan.mat\n",
      "Error importing sub file at: C:\\Users\\User\\Cloud-Drive\\BigFiles\\OmissionExpOutput\\\\imported_eventDetectionChan\\filter0.35\\sub16_sleep3_imported_eventDetectionChan.mat\n",
      "Error importing sub file at: C:\\Users\\User\\Cloud-Drive\\BigFiles\\OmissionExpOutput\\\\imported_eventDetectionChan\\filter0.35\\sub16_sleep4_imported_eventDetectionChan.mat\n",
      "Error importing sub file at: C:\\Users\\User\\Cloud-Drive\\BigFiles\\OmissionExpOutput\\\\imported_eventDetectionChan\\filter0.35\\sub16_sleep5_imported_eventDetectionChan.mat\n",
      "Error importing sub file at: C:\\Users\\User\\Cloud-Drive\\BigFiles\\OmissionExpOutput\\\\imported_eventDetectionChan\\filter0.35\\sub17_sleep1_imported_eventDetectionChan.mat\n",
      "Error importing sub file at: C:\\Users\\User\\Cloud-Drive\\BigFiles\\OmissionExpOutput\\\\imported_eventDetectionChan\\filter0.35\\sub17_sleep2_imported_eventDetectionChan.mat\n",
      "Error importing sub file at: C:\\Users\\User\\Cloud-Drive\\BigFiles\\OmissionExpOutput\\\\imported_eventDetectionChan\\filter0.35\\sub17_sleep3_imported_eventDetectionChan.mat\n",
      "Error importing sub file at: C:\\Users\\User\\Cloud-Drive\\BigFiles\\OmissionExpOutput\\\\imported_eventDetectionChan\\filter0.35\\sub17_sleep4_imported_eventDetectionChan.mat\n",
      "Error importing sub file at: C:\\Users\\User\\Cloud-Drive\\BigFiles\\OmissionExpOutput\\\\imported_eventDetectionChan\\filter0.35\\sub17_sleep5_imported_eventDetectionChan.mat\n",
      "Error importing sub file at: C:\\Users\\User\\Cloud-Drive\\BigFiles\\OmissionExpOutput\\\\imported_eventDetectionChan\\filter0.35\\sub19_sleep1_imported_eventDetectionChan.mat\n",
      "Error importing sub file at: C:\\Users\\User\\Cloud-Drive\\BigFiles\\OmissionExpOutput\\\\imported_eventDetectionChan\\filter0.35\\sub19_sleep2_imported_eventDetectionChan.mat\n",
      "Error importing sub file at: C:\\Users\\User\\Cloud-Drive\\BigFiles\\OmissionExpOutput\\\\imported_eventDetectionChan\\filter0.35\\sub19_sleep3_imported_eventDetectionChan.mat\n",
      "Error importing sub file at: C:\\Users\\User\\Cloud-Drive\\BigFiles\\OmissionExpOutput\\\\imported_eventDetectionChan\\filter0.35\\sub19_sleep4_imported_eventDetectionChan.mat\n",
      "Error importing sub file at: C:\\Users\\User\\Cloud-Drive\\BigFiles\\OmissionExpOutput\\\\imported_eventDetectionChan\\filter0.35\\sub19_sleep5_imported_eventDetectionChan.mat\n",
      "Error importing sub file at: C:\\Users\\User\\Cloud-Drive\\BigFiles\\OmissionExpOutput\\\\imported_eventDetectionChan\\filter0.35\\sub20_sleep1_imported_eventDetectionChan.mat\n",
      "Error importing sub file at: C:\\Users\\User\\Cloud-Drive\\BigFiles\\OmissionExpOutput\\\\imported_eventDetectionChan\\filter0.35\\sub20_sleep2_imported_eventDetectionChan.mat\n",
      "Error importing sub file at: C:\\Users\\User\\Cloud-Drive\\BigFiles\\OmissionExpOutput\\\\imported_eventDetectionChan\\filter0.35\\sub20_sleep3_imported_eventDetectionChan.mat\n",
      "Error importing sub file at: C:\\Users\\User\\Cloud-Drive\\BigFiles\\OmissionExpOutput\\\\imported_eventDetectionChan\\filter0.35\\sub20_sleep4_imported_eventDetectionChan.mat\n",
      "Error importing sub file at: C:\\Users\\User\\Cloud-Drive\\BigFiles\\OmissionExpOutput\\\\imported_eventDetectionChan\\filter0.35\\sub20_sleep5_imported_eventDetectionChan.mat\n",
      "Error importing sub file at: C:\\Users\\User\\Cloud-Drive\\BigFiles\\OmissionExpOutput\\\\imported_eventDetectionChan\\filter0.35\\sub21_sleep1_imported_eventDetectionChan.mat\n",
      "Error importing sub file at: C:\\Users\\User\\Cloud-Drive\\BigFiles\\OmissionExpOutput\\\\imported_eventDetectionChan\\filter0.35\\sub21_sleep2_imported_eventDetectionChan.mat\n",
      "Error importing sub file at: C:\\Users\\User\\Cloud-Drive\\BigFiles\\OmissionExpOutput\\\\imported_eventDetectionChan\\filter0.35\\sub21_sleep3_imported_eventDetectionChan.mat\n",
      "Error importing sub file at: C:\\Users\\User\\Cloud-Drive\\BigFiles\\OmissionExpOutput\\\\imported_eventDetectionChan\\filter0.35\\sub21_sleep4_imported_eventDetectionChan.mat\n",
      "Error importing sub file at: C:\\Users\\User\\Cloud-Drive\\BigFiles\\OmissionExpOutput\\\\imported_eventDetectionChan\\filter0.35\\sub21_sleep5_imported_eventDetectionChan.mat\n",
      "Error importing sub file at: C:\\Users\\User\\Cloud-Drive\\BigFiles\\OmissionExpOutput\\\\imported_eventDetectionChan\\filter0.35\\sub23_sleep1_imported_eventDetectionChan.mat\n",
      "Error importing sub file at: C:\\Users\\User\\Cloud-Drive\\BigFiles\\OmissionExpOutput\\\\imported_eventDetectionChan\\filter0.35\\sub23_sleep2_imported_eventDetectionChan.mat\n",
      "Error importing sub file at: C:\\Users\\User\\Cloud-Drive\\BigFiles\\OmissionExpOutput\\\\imported_eventDetectionChan\\filter0.35\\sub23_sleep3_imported_eventDetectionChan.mat\n",
      "Error importing sub file at: C:\\Users\\User\\Cloud-Drive\\BigFiles\\OmissionExpOutput\\\\imported_eventDetectionChan\\filter0.35\\sub23_sleep4_imported_eventDetectionChan.mat\n",
      "Error importing sub file at: C:\\Users\\User\\Cloud-Drive\\BigFiles\\OmissionExpOutput\\\\imported_eventDetectionChan\\filter0.35\\sub23_sleep5_imported_eventDetectionChan.mat\n",
      "Error importing sub file at: C:\\Users\\User\\Cloud-Drive\\BigFiles\\OmissionExpOutput\\\\imported_eventDetectionChan\\filter0.35\\sub24_sleep1_imported_eventDetectionChan.mat\n",
      "Error importing sub file at: C:\\Users\\User\\Cloud-Drive\\BigFiles\\OmissionExpOutput\\\\imported_eventDetectionChan\\filter0.35\\sub24_sleep2_imported_eventDetectionChan.mat\n",
      "Error importing sub file at: C:\\Users\\User\\Cloud-Drive\\BigFiles\\OmissionExpOutput\\\\imported_eventDetectionChan\\filter0.35\\sub24_sleep3_imported_eventDetectionChan.mat\n",
      "Error importing sub file at: C:\\Users\\User\\Cloud-Drive\\BigFiles\\OmissionExpOutput\\\\imported_eventDetectionChan\\filter0.35\\sub24_sleep4_imported_eventDetectionChan.mat\n",
      "Error importing sub file at: C:\\Users\\User\\Cloud-Drive\\BigFiles\\OmissionExpOutput\\\\imported_eventDetectionChan\\filter0.35\\sub24_sleep5_imported_eventDetectionChan.mat\n",
      "Error importing sub file at: C:\\Users\\User\\Cloud-Drive\\BigFiles\\OmissionExpOutput\\\\imported_eventDetectionChan\\filter0.35\\sub25_sleep1_imported_eventDetectionChan.mat\n",
      "Error importing sub file at: C:\\Users\\User\\Cloud-Drive\\BigFiles\\OmissionExpOutput\\\\imported_eventDetectionChan\\filter0.35\\sub25_sleep2_imported_eventDetectionChan.mat\n",
      "Error importing sub file at: C:\\Users\\User\\Cloud-Drive\\BigFiles\\OmissionExpOutput\\\\imported_eventDetectionChan\\filter0.35\\sub25_sleep3_imported_eventDetectionChan.mat\n",
      "Error importing sub file at: C:\\Users\\User\\Cloud-Drive\\BigFiles\\OmissionExpOutput\\\\imported_eventDetectionChan\\filter0.35\\sub25_sleep4_imported_eventDetectionChan.mat\n",
      "Error importing sub file at: C:\\Users\\User\\Cloud-Drive\\BigFiles\\OmissionExpOutput\\\\imported_eventDetectionChan\\filter0.35\\sub25_sleep5_imported_eventDetectionChan.mat\n",
      "Error importing sub file at: C:\\Users\\User\\Cloud-Drive\\BigFiles\\OmissionExpOutput\\\\imported_eventDetectionChan\\filter0.35\\sub26_sleep1_imported_eventDetectionChan.mat\n",
      "Error importing sub file at: C:\\Users\\User\\Cloud-Drive\\BigFiles\\OmissionExpOutput\\\\imported_eventDetectionChan\\filter0.35\\sub26_sleep2_imported_eventDetectionChan.mat\n",
      "Error importing sub file at: C:\\Users\\User\\Cloud-Drive\\BigFiles\\OmissionExpOutput\\\\imported_eventDetectionChan\\filter0.35\\sub26_sleep3_imported_eventDetectionChan.mat\n",
      "Error importing sub file at: C:\\Users\\User\\Cloud-Drive\\BigFiles\\OmissionExpOutput\\\\imported_eventDetectionChan\\filter0.35\\sub26_sleep4_imported_eventDetectionChan.mat\n",
      "Error importing sub file at: C:\\Users\\User\\Cloud-Drive\\BigFiles\\OmissionExpOutput\\\\imported_eventDetectionChan\\filter0.35\\sub26_sleep5_imported_eventDetectionChan.mat\n",
      "Error importing sub file at: C:\\Users\\User\\Cloud-Drive\\BigFiles\\OmissionExpOutput\\\\imported_eventDetectionChan\\filter0.35\\sub27_sleep1_imported_eventDetectionChan.mat\n",
      "Error importing sub file at: C:\\Users\\User\\Cloud-Drive\\BigFiles\\OmissionExpOutput\\\\imported_eventDetectionChan\\filter0.35\\sub27_sleep2_imported_eventDetectionChan.mat\n",
      "Error importing sub file at: C:\\Users\\User\\Cloud-Drive\\BigFiles\\OmissionExpOutput\\\\imported_eventDetectionChan\\filter0.35\\sub27_sleep3_imported_eventDetectionChan.mat\n",
      "Error importing sub file at: C:\\Users\\User\\Cloud-Drive\\BigFiles\\OmissionExpOutput\\\\imported_eventDetectionChan\\filter0.35\\sub27_sleep4_imported_eventDetectionChan.mat\n",
      "Error importing sub file at: C:\\Users\\User\\Cloud-Drive\\BigFiles\\OmissionExpOutput\\\\imported_eventDetectionChan\\filter0.35\\sub27_sleep5_imported_eventDetectionChan.mat\n",
      "Error importing sub file at: C:\\Users\\User\\Cloud-Drive\\BigFiles\\OmissionExpOutput\\\\imported_eventDetectionChan\\filter0.35\\sub28_sleep1_imported_eventDetectionChan.mat\n",
      "Error importing sub file at: C:\\Users\\User\\Cloud-Drive\\BigFiles\\OmissionExpOutput\\\\imported_eventDetectionChan\\filter0.35\\sub28_sleep2_imported_eventDetectionChan.mat\n",
      "Error importing sub file at: C:\\Users\\User\\Cloud-Drive\\BigFiles\\OmissionExpOutput\\\\imported_eventDetectionChan\\filter0.35\\sub28_sleep3_imported_eventDetectionChan.mat\n",
      "Error importing sub file at: C:\\Users\\User\\Cloud-Drive\\BigFiles\\OmissionExpOutput\\\\imported_eventDetectionChan\\filter0.35\\sub28_sleep4_imported_eventDetectionChan.mat\n",
      "Error importing sub file at: C:\\Users\\User\\Cloud-Drive\\BigFiles\\OmissionExpOutput\\\\imported_eventDetectionChan\\filter0.35\\sub28_sleep5_imported_eventDetectionChan.mat\n",
      "Error importing sub file at: C:\\Users\\User\\Cloud-Drive\\BigFiles\\OmissionExpOutput\\\\imported_eventDetectionChan\\filter0.35\\sub29_sleep1_imported_eventDetectionChan.mat\n",
      "Error importing sub file at: C:\\Users\\User\\Cloud-Drive\\BigFiles\\OmissionExpOutput\\\\imported_eventDetectionChan\\filter0.35\\sub29_sleep2_imported_eventDetectionChan.mat\n",
      "Error importing sub file at: C:\\Users\\User\\Cloud-Drive\\BigFiles\\OmissionExpOutput\\\\imported_eventDetectionChan\\filter0.35\\sub29_sleep3_imported_eventDetectionChan.mat\n",
      "Error importing sub file at: C:\\Users\\User\\Cloud-Drive\\BigFiles\\OmissionExpOutput\\\\imported_eventDetectionChan\\filter0.35\\sub29_sleep4_imported_eventDetectionChan.mat\n",
      "Error importing sub file at: C:\\Users\\User\\Cloud-Drive\\BigFiles\\OmissionExpOutput\\\\imported_eventDetectionChan\\filter0.35\\sub29_sleep5_imported_eventDetectionChan.mat\n",
      "Error importing sub file at: C:\\Users\\User\\Cloud-Drive\\BigFiles\\OmissionExpOutput\\\\imported_eventDetectionChan\\filter0.35\\sub30_sleep1_imported_eventDetectionChan.mat\n",
      "Error importing sub file at: C:\\Users\\User\\Cloud-Drive\\BigFiles\\OmissionExpOutput\\\\imported_eventDetectionChan\\filter0.35\\sub30_sleep2_imported_eventDetectionChan.mat\n",
      "Error importing sub file at: C:\\Users\\User\\Cloud-Drive\\BigFiles\\OmissionExpOutput\\\\imported_eventDetectionChan\\filter0.35\\sub30_sleep3_imported_eventDetectionChan.mat\n",
      "Error importing sub file at: C:\\Users\\User\\Cloud-Drive\\BigFiles\\OmissionExpOutput\\\\imported_eventDetectionChan\\filter0.35\\sub30_sleep4_imported_eventDetectionChan.mat\n",
      "Error importing sub file at: C:\\Users\\User\\Cloud-Drive\\BigFiles\\OmissionExpOutput\\\\imported_eventDetectionChan\\filter0.35\\sub30_sleep5_imported_eventDetectionChan.mat\n",
      "Error importing sub file at: C:\\Users\\User\\Cloud-Drive\\BigFiles\\OmissionExpOutput\\\\imported_eventDetectionChan\\filter0.35\\sub31_sleep1_imported_eventDetectionChan.mat\n",
      "Error importing sub file at: C:\\Users\\User\\Cloud-Drive\\BigFiles\\OmissionExpOutput\\\\imported_eventDetectionChan\\filter0.35\\sub31_sleep2_imported_eventDetectionChan.mat\n",
      "Error importing sub file at: C:\\Users\\User\\Cloud-Drive\\BigFiles\\OmissionExpOutput\\\\imported_eventDetectionChan\\filter0.35\\sub31_sleep3_imported_eventDetectionChan.mat\n",
      "Error importing sub file at: C:\\Users\\User\\Cloud-Drive\\BigFiles\\OmissionExpOutput\\\\imported_eventDetectionChan\\filter0.35\\sub31_sleep4_imported_eventDetectionChan.mat\n",
      "Error importing sub file at: C:\\Users\\User\\Cloud-Drive\\BigFiles\\OmissionExpOutput\\\\imported_eventDetectionChan\\filter0.35\\sub31_sleep5_imported_eventDetectionChan.mat\n",
      "Error importing sub file at: C:\\Users\\User\\Cloud-Drive\\BigFiles\\OmissionExpOutput\\\\imported_eventDetectionChan\\filter0.35\\sub32_sleep3_imported_eventDetectionChan.mat\n",
      "Error importing sub file at: C:\\Users\\User\\Cloud-Drive\\BigFiles\\OmissionExpOutput\\\\imported_eventDetectionChan\\filter0.35\\sub32_sleep4_imported_eventDetectionChan.mat\n",
      "Error importing sub file at: C:\\Users\\User\\Cloud-Drive\\BigFiles\\OmissionExpOutput\\\\imported_eventDetectionChan\\filter0.35\\sub32_sleep5_imported_eventDetectionChan.mat\n",
      "Error importing sub file at: C:\\Users\\User\\Cloud-Drive\\BigFiles\\OmissionExpOutput\\\\imported_eventDetectionChan\\filter0.35\\sub33_sleep2_imported_eventDetectionChan.mat\n",
      "Error importing sub file at: C:\\Users\\User\\Cloud-Drive\\BigFiles\\OmissionExpOutput\\\\imported_eventDetectionChan\\filter0.35\\sub33_sleep3_imported_eventDetectionChan.mat\n",
      "Error importing sub file at: C:\\Users\\User\\Cloud-Drive\\BigFiles\\OmissionExpOutput\\\\imported_eventDetectionChan\\filter0.35\\sub33_sleep5_imported_eventDetectionChan.mat\n",
      "Error importing sub file at: C:\\Users\\User\\Cloud-Drive\\BigFiles\\OmissionExpOutput\\\\imported_eventDetectionChan\\filter0.35\\sub34_sleep4_imported_eventDetectionChan.mat\n",
      "Error importing sub file at: C:\\Users\\User\\Cloud-Drive\\BigFiles\\OmissionExpOutput\\\\imported_eventDetectionChan\\filter0.35\\sub34_sleep5_imported_eventDetectionChan.mat\n",
      "Error importing sub file at: C:\\Users\\User\\Cloud-Drive\\BigFiles\\OmissionExpOutput\\\\imported_eventDetectionChan\\filter0.35\\sub35_sleep2_imported_eventDetectionChan.mat\n",
      "Error importing sub file at: C:\\Users\\User\\Cloud-Drive\\BigFiles\\OmissionExpOutput\\\\imported_eventDetectionChan\\filter0.35\\sub35_sleep4_imported_eventDetectionChan.mat\n",
      "Error importing sub file at: C:\\Users\\User\\Cloud-Drive\\BigFiles\\OmissionExpOutput\\\\imported_eventDetectionChan\\filter0.35\\sub35_sleep5_imported_eventDetectionChan.mat\n",
      "Error importing sub file at: C:\\Users\\User\\Cloud-Drive\\BigFiles\\OmissionExpOutput\\\\imported_eventDetectionChan\\filter0.35\\sub36_sleep1_imported_eventDetectionChan.mat\n",
      "Error importing sub file at: C:\\Users\\User\\Cloud-Drive\\BigFiles\\OmissionExpOutput\\\\imported_eventDetectionChan\\filter0.35\\sub36_sleep2_imported_eventDetectionChan.mat\n",
      "Error importing sub file at: C:\\Users\\User\\Cloud-Drive\\BigFiles\\OmissionExpOutput\\\\imported_eventDetectionChan\\filter0.35\\sub36_sleep3_imported_eventDetectionChan.mat\n",
      "Error importing sub file at: C:\\Users\\User\\Cloud-Drive\\BigFiles\\OmissionExpOutput\\\\imported_eventDetectionChan\\filter0.35\\sub36_sleep4_imported_eventDetectionChan.mat\n",
      "Error importing sub file at: C:\\Users\\User\\Cloud-Drive\\BigFiles\\OmissionExpOutput\\\\imported_eventDetectionChan\\filter0.35\\sub36_sleep5_imported_eventDetectionChan.mat\n",
      "Error importing sub file at: C:\\Users\\User\\Cloud-Drive\\BigFiles\\OmissionExpOutput\\\\imported_eventDetectionChan\\filter0.35\\sub37_sleep1_imported_eventDetectionChan.mat\n",
      "Error importing sub file at: C:\\Users\\User\\Cloud-Drive\\BigFiles\\OmissionExpOutput\\\\imported_eventDetectionChan\\filter0.35\\sub37_sleep2_imported_eventDetectionChan.mat\n",
      "Error importing sub file at: C:\\Users\\User\\Cloud-Drive\\BigFiles\\OmissionExpOutput\\\\imported_eventDetectionChan\\filter0.35\\sub37_sleep3_imported_eventDetectionChan.mat\n",
      "Error importing sub file at: C:\\Users\\User\\Cloud-Drive\\BigFiles\\OmissionExpOutput\\\\imported_eventDetectionChan\\filter0.35\\sub37_sleep4_imported_eventDetectionChan.mat\n",
      "Error importing sub file at: C:\\Users\\User\\Cloud-Drive\\BigFiles\\OmissionExpOutput\\\\imported_eventDetectionChan\\filter0.35\\sub37_sleep5_imported_eventDetectionChan.mat\n",
      "Error importing sub file at: C:\\Users\\User\\Cloud-Drive\\BigFiles\\OmissionExpOutput\\\\imported_eventDetectionChan\\filter0.35\\sub38_sleep2_imported_eventDetectionChan.mat\n",
      "Error importing sub file at: C:\\Users\\User\\Cloud-Drive\\BigFiles\\OmissionExpOutput\\\\imported_eventDetectionChan\\filter0.35\\sub38_sleep4_imported_eventDetectionChan.mat\n",
      "Error importing sub file at: C:\\Users\\User\\Cloud-Drive\\BigFiles\\OmissionExpOutput\\\\imported_eventDetectionChan\\filter0.35\\sub38_sleep5_imported_eventDetectionChan.mat\n"
     ]
    }
   ],
   "source": [
    "all_files_dic = {}\n",
    "for sub in subs:\n",
    "    for sleep_i in np.arange(1,6):\n",
    "        sub_load_filepath = f\"{cfg['mat_files_dir']}\\sub{sub}_sleep{sleep_i}_{prepro_name}_{import_type}.mat\"\n",
    "        try: \n",
    "            matlabImport = scipy.io.loadmat(sub_load_filepath, simplify_cells=True)\n",
    "            all_files_dic[f'{sub}_{sleep_i}'] = {}\n",
    "            all_files_dic[f'{sub}_{sleep_i}']['events'] = pd.DataFrame(matlabImport['subEvents'])\n",
    "            all_files_dic[f'{sub}_{sleep_i}']['data'] = matlabImport[f'subData']\n",
    "            all_files_dic[f'{sub}_{sleep_i}']['subnum'] = sub\n",
    "            all_files_dic[f'{sub}_{sleep_i}']['filenum'] = sleep_i\n",
    "\n",
    "            datafile_scoring = f\"{dir_scoring}\\s_{sub}_{sleep_i}\"\n",
    "            all_files_dic[f'{sub}_{sleep_i}']['scoring'] = np.array(pd.read_excel(f'{datafile_scoring}.xlsx')[0])\n",
    "\n",
    "        except Exception: print(f'Error importing sub file at: {sub_load_filepath}')\n",
    "\n",
    "\n",
    "cfg['sample_freq'] = matlabImport[f'samplefreq']\n",
    "cfg['electrodes_names'] = matlabImport[f'chansNames']"
   ]
  },
  {
   "cell_type": "markdown",
   "metadata": {
    "collapsed": false,
    "pycharm": {
     "name": "#%% md\n"
    }
   },
   "source": [
    "## Save"
   ]
  },
  {
   "cell_type": "code",
   "execution_count": 57,
   "metadata": {
    "collapsed": false,
    "pycharm": {
     "name": "#%%\n"
    }
   },
   "outputs": [],
   "source": [
    "with open(f'{mat_dir}\\\\{import_type}.pkl', 'wb') as file:\n",
    "    pickle.dump([all_files_dic, cfg], file)\n",
    "\n",
    "# Load\n",
    "# with open(f'{epochs_dir}\\\\{import_type}_allEvents_df.pkl', 'rb') as file:\n",
    "#     _allEvents_df = pickle.load(file)\n",
    "# with open(f'{epochs_dir}\\\\{import_type}_allEpochs.pkl', 'rb') as file:\n",
    "#     _allEpochs_perCond = pickle.load(file)"
   ]
  }
 ],
 "metadata": {
  "kernelspec": {
   "display_name": "Python 3",
   "language": "python",
   "name": "python3"
  },
  "language_info": {
   "codemirror_mode": {
    "name": "ipython",
    "version": 3
   },
   "file_extension": ".py",
   "mimetype": "text/x-python",
   "name": "python",
   "nbconvert_exporter": "python",
   "pygments_lexer": "ipython3",
   "version": "3.8.0"
  },
  "vscode": {
   "interpreter": {
    "hash": "f544ce1a915a9875fad91c894e2c0bcad4b7a79945aa6027ef3ad27810072aa6"
   }
  }
 },
 "nbformat": 4,
 "nbformat_minor": 0
}
