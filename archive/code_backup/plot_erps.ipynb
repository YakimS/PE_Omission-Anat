{
 "cells": [
  {
   "cell_type": "code",
   "execution_count": 1,
   "outputs": [],
   "source": [
    "%reset\n",
    "%matplotlib inline"
   ],
   "metadata": {
    "collapsed": false,
    "pycharm": {
     "name": "#%%\n"
    }
   }
  },
  {
   "cell_type": "code",
   "execution_count": null,
   "outputs": [],
   "source": [
    "import matplotlib.pyplot as plt\n",
    "import numpy as np\n",
    "import pandas as pd\n",
    "import mne\n",
    "from mne import create_info\n",
    "import pickle"
   ],
   "metadata": {
    "collapsed": false,
    "pycharm": {
     "name": "#%%\n",
     "is_executing": true
    }
   }
  },
  {
   "cell_type": "markdown",
   "source": [
    "## Import epochs"
   ],
   "metadata": {
    "collapsed": false,
    "pycharm": {
     "name": "#%% md\n"
    }
   }
  },
  {
   "cell_type": "code",
   "execution_count": null,
   "outputs": [],
   "source": [
    "epochs_dir = 'C:\\AnatArzData\\YKM_data\\epochs_and_evoked_allSubs'\n",
    "import_type = \"5Electorodes_plainEEGLAB\"\n",
    "fig_output_dir = \"C:\\\\Users\\Sharon\\OneDrive\\Desktop\\AnatArzi\\scripts\\Python_scripts - Sharons\\mycode\\outputs\\\\erps\""
   ],
   "metadata": {
    "collapsed": false,
    "pycharm": {
     "name": "#%%\n",
     "is_executing": true
    }
   }
  },
  {
   "cell_type": "code",
   "execution_count": null,
   "outputs": [],
   "source": [
    "with open(f'{epochs_dir}\\\\{import_type}.pkl', 'rb') as file:\n",
    "    [allEvents_df, allEpochs_perCond, cfg] = pickle.load(file)\n",
    "\n",
    "times = cfg['times']"
   ],
   "metadata": {
    "collapsed": false,
    "pycharm": {
     "name": "#%%\n",
     "is_executing": true
    }
   }
  },
  {
   "cell_type": "code",
   "execution_count": null,
   "outputs": [],
   "source": [
    "allEvents_df"
   ],
   "metadata": {
    "collapsed": false,
    "pycharm": {
     "name": "#%%\n",
     "is_executing": true
    }
   }
  },
  {
   "cell_type": "code",
   "execution_count": null,
   "outputs": [],
   "source": [
    "def getEpochsPerCond(cond_df):\n",
    "    curr_df =cond_df.copy()\n",
    "    df_minTrials = curr_df[(curr_df.SamplesAmount > 0)] # discard cond with 0 enough samples\n",
    "    minTrials_cond_keys = np.asarray([str (i) for i in df_minTrials['Cond_id']])\n",
    "    epochs_allSamples = {}\n",
    "    for key in minTrials_cond_keys:\n",
    "        epochs_allSamples[key] = allEpochs_perCond[key]\n",
    "    return df_minTrials, epochs_allSamples\n",
    "\n",
    "# output: [#conds, #elect, #times]\n",
    "def getEvokedPerCondAndElectd(constraints,type='array'):\n",
    "    curr_df =allEvents_df.copy()\n",
    "    # apply constraints\n",
    "    for key in constraints: curr_df = curr_df[(curr_df[key] == constraints[key])]\n",
    "\n",
    "    conds_df, epochsPerCond = getEpochsPerCond(curr_df)\n",
    "    evoked_perCond_andElectd = np.zeros((len(epochsPerCond),np.size(cfg['electrodes']),np.size(times)))\n",
    "\n",
    "    for cond_i, cond in enumerate(epochsPerCond):\n",
    "        evoked_perCond_andElectd[cond_i] = np.squeeze(np.nanmean(epochsPerCond[cond],axis=2))\n",
    "\n",
    "    if type =='array':\n",
    "        return conds_df, evoked_perCond_andElectd\n",
    "    if type =='mne':\n",
    "        info=create_info(ch_names=cfg['ch_names'],ch_types='eeg',sfreq=250)\n",
    "        mne_epochs = mne.EpochsArray(evoked_perCond_andElectd, info,tmin=-0.1)\n",
    "        return conds_df, mne_epochs"
   ],
   "metadata": {
    "collapsed": false,
    "pycharm": {
     "name": "#%%\n",
     "is_executing": true
    }
   }
  },
  {
   "cell_type": "markdown",
   "source": [
    "## Plot thickens"
   ],
   "metadata": {
    "collapsed": false,
    "pycharm": {
     "name": "#%% md\n"
    }
   }
  },
  {
   "cell_type": "code",
   "execution_count": null,
   "outputs": [],
   "source": [
    "def applyDesign(ax,title='',y_lims=[-4,4]):\n",
    "    ax.set_facecolor('silver')\n",
    "    ax.set_title(title,fontsize = 18, fontweight = 'bold')\n",
    "    ax.legend(loc = 'upper right',prop={'size': 10})\n",
    "    ax.axvline(x=0,color='gray', linestyle='--',label =\"_nolegend_\")\n",
    "    ax.axhline(y=0, color='gray', linestyle='-',label =\"_nolegend_\")\n",
    "    ax.set_ylabel(' uV', fontsize = 16, fontweight = 'bold')\n",
    "    ax.tick_params(axis='both', which='major', labelsize=14)\n",
    "    ax.set_xlabel('Time (ms)', fontsize = 16, fontweight = 'bold')\n",
    "    ax.set_xlim([-100,450])\n",
    "    ax.set_ylim(y_lims)\n",
    "    ax.text(-0.02, y_lims[1], 'stimulus', rotation=90, va='center', fontsize = 13)\n",
    "\n",
    "colors_wngt = plt.cm.Blues([250,230,210,190,170,150,130,110,90])\n",
    "colors_N2 = plt.cm.autumn_r([150,140,130,120,110,100,80,60,30])\n",
    "colors_N3 = plt.cm.Greens([250,230,210,190,170,150,130,110,90])\n",
    "colors_REM = plt.cm.Reds([250,230,210,190,170,150,130,110,90])\n",
    "colors_allShadesPerVg = [colors_wngt,colors_N2,colors_N3,colors_REM]\n",
    "colors_onePerVg = [colors_wngt[2],colors_N2[2],colors_N3[2],colors_REM[2]]\n",
    "titles_onePerVg = ['Awake','N2','N3','REM']"
   ],
   "metadata": {
    "collapsed": false,
    "pycharm": {
     "name": "#%%\n",
     "is_executing": true
    }
   }
  },
  {
   "cell_type": "code",
   "execution_count": null,
   "outputs": [],
   "source": [
    "def plot_erps_with_std(varNameForMean, varNameForStd,constraints,ax, colors,labels,varsForMean=None,varsForStd=None, linestyle='-'):\n",
    "    if varsForMean is None: varsForMean =  allEvents_df[varNameForMean].unique()\n",
    "    for meanVar_i,meanVar in enumerate(varsForMean):\n",
    "        if varNameForStd == 'Cond_id':\n",
    "            curr_constraints = constraints.copy()\n",
    "            curr_constraints[varNameForMean] = meanVar\n",
    "            conds_df, evoked_mat = getEvokedPerCondAndElectd(curr_constraints,type='array')\n",
    "            evokedPerStdVar = np.mean(evoked_mat,axis=1) # mean over electrodes\n",
    "            erp_trialsNum = conds_df['SamplesAmount'].sum()\n",
    "        else:\n",
    "            if varsForStd is None: varsForStd =  allEvents_df[varNameForStd].unique()\n",
    "            evokedPerStdVar = np.zeros((len(varsForStd), len(times)))\n",
    "            erp_trialsNum=0\n",
    "            for stdVar_i, stdVar in enumerate(varsForStd):\n",
    "                curr_constraints = constraints.copy()\n",
    "                curr_constraints[varNameForStd] = stdVar\n",
    "                curr_constraints[varNameForMean] = meanVar\n",
    "\n",
    "                conds_df, evoked_mat = getEvokedPerCondAndElectd(curr_constraints,type='array')\n",
    "                evokedPerStdVar[stdVar_i,:] = np.nanmean(evoked_mat,axis=(0,1))\n",
    "                erp_trialsNum += conds_df['SamplesAmount'].sum()\n",
    "\n",
    "        curr_meanEvoked = np.mean(evokedPerStdVar,axis=0)\n",
    "        curr_stdEvoked = np.std(evokedPerStdVar,axis=0)\n",
    "        ax.fill_between(times,curr_meanEvoked+curr_stdEvoked,curr_meanEvoked-curr_stdEvoked, color=colors[meanVar_i],alpha=0.1,label =\"_nolegend_\")\n",
    "        label = f\"{labels[meanVar_i]}, n={erp_trialsNum}\"\n",
    "        ax.plot(times,curr_meanEvoked, color=colors[meanVar_i],label=label,linestyle=linestyle)\n",
    "    return ax"
   ],
   "metadata": {
    "collapsed": false,
    "pycharm": {
     "name": "#%%\n",
     "is_executing": true
    }
   }
  },
  {
   "cell_type": "code",
   "execution_count": null,
   "outputs": [],
   "source": [
    "def plot_erps(varNameForMean, constraints,ax, colors,labels):\n",
    "    varForMean =  allEvents_df[varNameForMean].unique()\n",
    "    for vg_i,vg in enumerate(varForMean):\n",
    "        curr_constraints = constraints.copy()\n",
    "        curr_constraints[varNameForMean] = vg\n",
    "\n",
    "        conds_df, evoked_mat = getEvokedPerCondAndElectd(curr_constraints,type='array')\n",
    "        curr_meanEvoked = np.nanmean(evoked_mat,axis=(0,1))\n",
    "        ax.plot(times,curr_meanEvoked,color=colors[vg_i],label=labels[vg_i])\n",
    "    return ax"
   ],
   "metadata": {
    "collapsed": false,
    "pycharm": {
     "name": "#%%\n",
     "is_executing": true
    }
   }
  },
  {
   "cell_type": "markdown",
   "source": [
    "Only in \"Tone\" condition. Each graph contatins ERP mean for each vigi-state"
   ],
   "metadata": {
    "collapsed": false,
    "pycharm": {
     "name": "#%% md\n"
    }
   }
  },
  {
   "cell_type": "code",
   "execution_count": null,
   "outputs": [],
   "source": [
    "fig, ax = plt.subplots()\n",
    "plot_erps('Vigilance', {'TOA_cond':'T'}, ax,colors_onePerVg,titles_onePerVg)\n",
    "plot_title = 'Only T, all subs'\n",
    "applyDesign(ax,plot_title)\n",
    "plt.ioff()\n",
    "# plt.show()\n",
    "\n",
    "fig, ax = plt.subplots()\n",
    "plot_erps_with_std('Vigilance','Subject', {'TOA_cond':'T'}, ax,colors_onePerVg,titles_onePerVg)\n",
    "plot_title = 'Only T, all subs'\n",
    "applyDesign(ax,plot_title)\n",
    "plt.ioff()\n",
    "plt.savefig(f'{fig_output_dir}/T_allSubs_5CentElect.png')\n",
    "# plt.show()"
   ],
   "metadata": {
    "collapsed": false,
    "pycharm": {
     "name": "#%%\n",
     "is_executing": true
    }
   }
  },
  {
   "cell_type": "markdown",
   "source": [
    "## Per sub, Only T and only O"
   ],
   "metadata": {
    "collapsed": false,
    "pycharm": {
     "name": "#%% md\n"
    }
   }
  },
  {
   "cell_type": "code",
   "execution_count": null,
   "outputs": [],
   "source": [
    "for sub in cfg['subs']:\n",
    "    fig, axs = plt.subplots(1, 3,sharex=True, sharey=False,figsize = (20,6))\n",
    "\n",
    "    constraints = {'TOA_cond':'T','Subject':sub}\n",
    "    plot_erps_with_std('Vigilance','Cond_id', constraints, axs[0],colors_onePerVg,titles_onePerVg)\n",
    "    plot_title = f'Tone, sub {sub}'\n",
    "    applyDesign(axs[0],plot_title,y_lims=[-6,6])\n",
    "\n",
    "    constraints = {'TOA_cond':'Fixed','Subject':sub}\n",
    "    plot_erps_with_std('Vigilance','Cond_id', constraints, axs[1],colors_onePerVg,titles_onePerVg)\n",
    "    plot_title = f'Fixed O, sub {sub}'\n",
    "    applyDesign(axs[1],plot_title,y_lims=[-6,6])\n",
    "\n",
    "    constraints = {'TOA_cond':'Rand','Subject':sub}\n",
    "    plot_erps_with_std('Vigilance','Cond_id', constraints, axs[2],colors_onePerVg,titles_onePerVg)\n",
    "    plot_title = f'Rand O, sub {sub}'\n",
    "    applyDesign(axs[2],plot_title,y_lims=[-6,6])\n",
    "\n",
    "    plt.tight_layout()\n",
    "    plt.savefig(f'{fig_output_dir}/TOA_sub{sub}_5CentElect.png')\n",
    "    plt.show()\n",
    "\n",
    "\n",
    "### Same, but without std\n",
    "\n",
    "# for sub in cfg['subs']:\n",
    "#     fig, axs = plt.subplots(1, 3,sharex=True, sharey=False,figsize = (13,3))\n",
    "#\n",
    "#     constraints = {'TOA_cond':'T','Subject':sub}\n",
    "#     plot_erps('Vigilance', constraints, axs[0],colors_onePerVg,titles_onePerVg)\n",
    "#     plot_title = f'Tone, sub {sub}'\n",
    "#     applyDesign(axs[0],plot_title,y_lims=[-6,6])\n",
    "#\n",
    "#     constraints = {'TOA_cond':'Fixed','Subject':sub}\n",
    "#     plot_erps('Vigilance', constraints, axs[1],colors_onePerVg,titles_onePerVg)\n",
    "#     plot_title = f'Fixed O, sub {sub}'\n",
    "#     applyDesign(axs[1],plot_title,y_lims=[-6,6])\n",
    "#\n",
    "#     constraints = {'TOA_cond':'Rand','Subject':sub}\n",
    "#     plot_erps('Vigilance', constraints, axs[2],colors_onePerVg,titles_onePerVg)\n",
    "#     plot_title = f'Rand O, sub {sub}'\n",
    "#     applyDesign(axs[2],plot_title,y_lims=[-6,6])\n",
    "#\n",
    "#     plt.tight_layout()\n",
    "#     plt.show()"
   ],
   "metadata": {
    "collapsed": false,
    "pycharm": {
     "name": "#%%\n",
     "is_executing": true
    }
   }
  },
  {
   "cell_type": "code",
   "execution_count": null,
   "outputs": [],
   "source": [
    "fig, axs = plt.subplots(2, len(cfg['vigi_states'])//2,sharex=True, sharey=True,figsize = (15,10))\n",
    "axs = np.reshape(axs,[len(cfg['vigi_states'])])\n",
    "for vg_i, vg in enumerate(cfg['vigi_states']):\n",
    "    colors_pallte=colors_allShadesPerVg[vg_i]\n",
    "    plot_erps_with_std('ToneHeight','Subject', {'TOA_cond':'T','Vigilance':vg}, axs[vg_i],colors_pallte,cfg['toneHeights'])\n",
    "    plot_title = f\"{titles_onePerVg[vg_i]}\"\n",
    "    applyDesign(axs[vg_i],plot_title)\n",
    "plt.tight_layout()\n",
    "plt.suptitle('T only, all valid subs', x = 0.5, y = 1.05, fontsize=20, weight='bold')\n",
    "plt.ioff()\n",
    "plt.savefig(f'{fig_output_dir}/T_perVigi_perToneH_allValidSubs_5CentElect.png')\n",
    "plt.show()"
   ],
   "metadata": {
    "collapsed": false,
    "pycharm": {
     "name": "#%%\n",
     "is_executing": true
    }
   }
  },
  {
   "cell_type": "markdown",
   "source": [],
   "metadata": {
    "collapsed": false,
    "pycharm": {
     "name": "#%% md\n"
    }
   }
  },
  {
   "cell_type": "markdown",
   "source": [
    "## Omissions: Number of trials per vigi state"
   ],
   "metadata": {
    "collapsed": false,
    "pycharm": {
     "name": "#%% md\n"
    }
   }
  },
  {
   "cell_type": "code",
   "execution_count": null,
   "outputs": [],
   "source": [
    "df_omission = pd.DataFrame({}, columns=['Subject', 'Vigilance', 'SamplesAmount_rand','SamplesAmount_fixed', 'Cond_id_rand','Cond_id_fixed'])\n",
    "df_partly_filtered_fixed =  allEvents_df[(allEvents_df.TOA_cond == 'Fixed')]\n",
    "df_partly_filtered_rand =   allEvents_df[(allEvents_df.TOA_cond == 'Rand')]\n",
    "\n",
    "for sub_i, sub in enumerate(cfg['subs']):\n",
    "    for vs_i, vs in enumerate(cfg['vigi_states']):\n",
    "        curr_sub_vs_df_fixed = df_partly_filtered_fixed[(df_partly_filtered_fixed.Vigilance == vs) & (df_partly_filtered_fixed.Subject == sub)]\n",
    "        curr_sub_vs_df_rand = df_partly_filtered_rand[(df_partly_filtered_rand.Vigilance == vs) & (df_partly_filtered_rand.Subject == sub)]\n",
    "\n",
    "        df_temp = pd.DataFrame({\n",
    "                    \"Subject\":[sub],\n",
    "                    \"Vigilance\":[vs],\n",
    "                    'SamplesAmount_rand':[np.sum(curr_sub_vs_df_rand.SamplesAmount)],\n",
    "                    'SamplesAmount_fixed':[np.sum(curr_sub_vs_df_fixed.SamplesAmount)],\n",
    "                    'Cond_id_rand':[np.array(curr_sub_vs_df_rand.Cond_id)],\n",
    "                    'Cond_id_fixed':[np.array(curr_sub_vs_df_fixed.Cond_id)]})\n",
    "        df_omission = pd.concat((df_omission, df_temp),ignore_index=True)\n",
    "\n",
    "df_lessThan30Trials = df_omission[(df_omission.SamplesAmount_rand < 30) | (df_omission.SamplesAmount_fixed < 30)]\n",
    "df_lessThan30Trials.to_excel(f'{fig_output_dir}/df_omission_lessThan30Trials.xlsx')\n",
    "df_omission.to_excel(f\"{fig_output_dir}/df_omission_all.xlsx\")\n",
    "display(df_lessThan30Trials)\n",
    "# df_omission_subs = df_omission[(df_omission.Subject == '12') | (df_omission.Subject == '17') |(df_omission.Subject == '34')]\n",
    "# df_omission_subs"
   ],
   "metadata": {
    "collapsed": false,
    "pycharm": {
     "name": "#%%\n",
     "is_executing": true
    }
   }
  },
  {
   "cell_type": "markdown",
   "source": [
    "## Omissions vs Tone: Number of trials per vigi state"
   ],
   "metadata": {
    "collapsed": false,
    "pycharm": {
     "name": "#%% md\n"
    }
   }
  },
  {
   "cell_type": "code",
   "execution_count": null,
   "outputs": [],
   "source": [
    "df_omission_vs_tone = pd.DataFrame({}, columns=['Subject', 'Vigilance', 'SamplesAmount_omis','SamplesAmount_tone', 'SamplesAmount_ratio','Cond_id_omis','Cond_id_tone'])\n",
    "df_partly_filtered_omis =  allEvents_df[(allEvents_df.TOA == 'O')]\n",
    "df_partly_filtered_tone =  allEvents_df[(allEvents_df.TOA == 'T') ]\n",
    "\n",
    "for sub_i, sub in enumerate(cfg['subs']):\n",
    "    for vs_i, vs in enumerate(cfg['vigi_states']):\n",
    "        curr_sub_vs_df_omis = df_partly_filtered_omis[(df_partly_filtered_omis.Vigilance == vs) & (df_partly_filtered_omis.Subject == sub)]\n",
    "        curr_sub_vs_df_tone = df_partly_filtered_tone[(df_partly_filtered_tone.Vigilance == vs) & (df_partly_filtered_tone.Subject == sub)]\n",
    "\n",
    "\n",
    "        df_temp = pd.DataFrame({\n",
    "                    \"Subject\":[sub],\n",
    "                    \"Vigilance\":[vs],\n",
    "                    'SamplesAmount_omis':[np.sum(curr_sub_vs_df_omis.SamplesAmount)],\n",
    "                    'SamplesAmount_tone':[np.sum(curr_sub_vs_df_tone.SamplesAmount)],\n",
    "                    'SamplesAmount_ratio':[np.sum(curr_sub_vs_df_omis.SamplesAmount)/np.sum(curr_sub_vs_df_tone.SamplesAmount)],\n",
    "                    'Cond_id_omis':[np.array(curr_sub_vs_df_omis.Cond_id)],\n",
    "                    'Cond_id_tone':[np.array(curr_sub_vs_df_tone.Cond_id)]})\n",
    "        df_omission_vs_tone = pd.concat((df_omission_vs_tone, df_temp),ignore_index=True)\n",
    "\n",
    "df_omission_vs_tone.to_excel(f'{fig_output_dir}/df_omissionVStones_trialsRatio.xlsx')\n",
    "df_omission_vs_tone"
   ],
   "metadata": {
    "collapsed": false,
    "pycharm": {
     "name": "#%%\n",
     "is_executing": true
    }
   }
  },
  {
   "cell_type": "code",
   "execution_count": null,
   "outputs": [],
   "source": [
    "## initial filter full dataframe\n",
    "curr_df = allEvents_df[(allEvents_df.TOA == 'O') & (allEvents_df.TrialPosition > '4')]\n",
    "curr_subs = curr_df.Subject.unique()\n",
    "curr_vss = curr_df.Vigilance.unique()\n",
    "\n",
    "conds_names = [['Fixed, 10th place'], ['Random, 7th place'],['Random, 8th place'],['Random, 9th place']]\n",
    "conds_linestyles =['-', '--','--','--']\n",
    "\n",
    "constraints = [{\"TOA_cond\": \"Fixed\"},\n",
    "               {\"TOA_cond\": \"Rand\",\"TrialPosition\" : \"6\"},\n",
    "               {\"TOA_cond\": \"Rand\",\"TrialPosition\" : \"7\"},\n",
    "               {\"TOA_cond\": \"Rand\",\"TrialPosition\" : \"8\"},]\n",
    "\n",
    "fig, axs = plt.subplots(2, len(cfg['vigi_states'])//2,sharex=True, sharey=True,figsize = (15,10))\n",
    "axs = np.reshape(axs,[len(cfg['vigi_states'])])\n",
    "for vg_i, vg in enumerate(cfg['vigi_states']):\n",
    "    colors_pallte=colors_allShadesPerVg[vg_i]\n",
    "    for const_i ,constraint in enumerate(constraints):\n",
    "        curr_constr = constraint.copy()\n",
    "        curr_constr['Vigilance']=vg\n",
    "        plot_erps_with_std(\"TOA_cond\",'Subject', curr_constr, axs[vg_i],colors_allShadesPerVg[vg_i],conds_names[const_i], varsForMean=[constraint[\"TOA_cond\"]],linestyle=conds_linestyles[const_i])\n",
    "\n",
    "    plot_title = f\"{titles_onePerVg[vg_i]}\"\n",
    "    applyDesign(axs[vg_i],plot_title)\n",
    "plt.tight_layout()\n",
    "plt.suptitle('O only, all valid subs', x = 0.5, y = 1.05, fontsize=20, weight='bold')\n",
    "\n",
    "plt.ioff()\n",
    "plt.savefig(f'{fig_output_dir}/Omis_perVigi_perTrialPos_allValidSubs_5CentElect.png')\n",
    "plt.show()"
   ],
   "metadata": {
    "collapsed": false,
    "pycharm": {
     "name": "#%%\n",
     "is_executing": true
    }
   }
  }
 ],
 "metadata": {
  "kernelspec": {
   "display_name": "Python 3",
   "language": "python",
   "name": "python3"
  },
  "language_info": {
   "codemirror_mode": {
    "name": "ipython",
    "version": 2
   },
   "file_extension": ".py",
   "mimetype": "text/x-python",
   "name": "python",
   "nbconvert_exporter": "python",
   "pygments_lexer": "ipython2",
   "version": "2.7.6"
  }
 },
 "nbformat": 4,
 "nbformat_minor": 0
}