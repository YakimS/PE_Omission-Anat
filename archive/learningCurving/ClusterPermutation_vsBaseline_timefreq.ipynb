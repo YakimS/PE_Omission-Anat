{
 "cells": [
  {
   "cell_type": "code",
   "execution_count": 2,
   "metadata": {
    "collapsed": false,
    "pycharm": {
     "name": "#%%\n"
    }
   },
   "outputs": [],
   "source": [
    "%reset\n",
    "#%matplotlib qt"
   ]
  },
  {
   "cell_type": "code",
   "execution_count": 3,
   "metadata": {
    "collapsed": false,
    "pycharm": {
     "name": "#%%\n"
    }
   },
   "outputs": [
    {
     "data": {
      "text/plain": "8"
     },
     "execution_count": 3,
     "metadata": {},
     "output_type": "execute_result"
    }
   ],
   "source": [
    "import numpy as np\n",
    "import scipy.io\n",
    "import scipy.stats\n",
    "import pandas as pd\n",
    "import mne\n",
    "from mne.time_frequency import tfr_morlet\n",
    "from mne.stats import permutation_cluster_1samp_test\n",
    "from mne.stats import permutation_cluster_test\n",
    "from mne import io\n",
    "import pickle\n",
    "from os.path import exists\n",
    "import gc\n",
    "from mne import stats\n",
    "import matplotlib.pyplot as plt\n",
    "\n",
    "gc.collect()"
   ]
  },
  {
   "cell_type": "code",
   "execution_count": 4,
   "metadata": {
    "collapsed": false,
    "pycharm": {
     "name": "#%%\n"
    }
   },
   "outputs": [],
   "source": [
    "epochs_dir = 'C:\\AnatArzData\\YKM_data\\epochs_and_evoked_allSubs'\n",
    "prepro_name = \"referenced\"\n",
    "import_type = \"5Electorodes_plainEEGLAB\"\n",
    "fig_output_dir = \"C:\\\\Users\\Sharon\\OneDrive\\Desktop\\AnatArzi\\scripts\\Python_scripts - Sharons\\mycode\\outputs\\\\timefreq_clusterPerm\""
   ]
  },
  {
   "cell_type": "markdown",
   "metadata": {
    "collapsed": false,
    "pycharm": {
     "name": "#%% md\n"
    }
   },
   "source": []
  },
  {
   "cell_type": "markdown",
   "metadata": {
    "collapsed": false,
    "pycharm": {
     "name": "#%% md\n"
    }
   },
   "source": [
    "## Import epochs"
   ]
  },
  {
   "cell_type": "code",
   "execution_count": 5,
   "metadata": {
    "collapsed": false,
    "pycharm": {
     "name": "#%%\n"
    }
   },
   "outputs": [],
   "source": [
    "with open(f'{epochs_dir}\\\\{import_type}.pkl', 'rb') as file:\n",
    "    [allEvents_df, allEpochs_perCond, cfg] = pickle.load(file)\n",
    "\n",
    "cfg['sample_freq'] = 250\n",
    "\n",
    "max_freq  =cfg['sample_freq']/2\n",
    "times = cfg['times']\n",
    "time0_i = np.where(times==0)[0][0]\n",
    "hz_y = np.fft.rfftfreq(len(times[time0_i:]), 1.0/cfg['sample_freq'])"
   ]
  },
  {
   "cell_type": "code",
   "execution_count": 6,
   "metadata": {
    "collapsed": false,
    "pycharm": {
     "name": "#%%\n"
    }
   },
   "outputs": [
    {
     "data": {
      "text/plain": "      Cond_id Subject Vigilance TOA ToneHeight TrialPosition SamplesCount  \\\n0           0      08        Wn   T        650             0           24   \n1           1      08        Wn   T        650             1           24   \n2           2      08        Wn   T        650             2           24   \n3           3      08        Wn   T        650             3           24   \n4           4      08        Wn   T        650             4           24   \n...       ...     ...       ...  ..        ...           ...          ...   \n30235   30235      38       REM   A       5302             5            0   \n30236   30236      38       REM   A       5302             6            0   \n30237   30237      38       REM   A       5302             7            0   \n30238   30238      38       REM   A       5302             8            0   \n30239   30239      38       REM   A       5302             9            0   \n\n                                        Epoch_eeglab_ids TOA_cond  \n0      [142, 262, 422, 682, 942, 1062, 1262, 1582, 16...        T  \n1      [144, 264, 424, 684, 944, 1064, 1264, 1584, 16...        T  \n2      [146, 266, 426, 686, 946, 1066, 1266, 1586, 16...        T  \n3      [148, 268, 428, 688, 948, 1068, 1268, 1588, 16...        T  \n4      [150, 270, 430, 690, 950, 1070, 1270, 1590, 16...        T  \n...                                                  ...      ...  \n30235                                                 []        A  \n30236                                                 []        A  \n30237                                                 []        A  \n30238                                                 []        A  \n30239                                                 []        A  \n\n[30240 rows x 9 columns]",
      "text/html": "<div>\n<style scoped>\n    .dataframe tbody tr th:only-of-type {\n        vertical-align: middle;\n    }\n\n    .dataframe tbody tr th {\n        vertical-align: top;\n    }\n\n    .dataframe thead th {\n        text-align: right;\n    }\n</style>\n<table border=\"1\" class=\"dataframe\">\n  <thead>\n    <tr style=\"text-align: right;\">\n      <th></th>\n      <th>Cond_id</th>\n      <th>Subject</th>\n      <th>Vigilance</th>\n      <th>TOA</th>\n      <th>ToneHeight</th>\n      <th>TrialPosition</th>\n      <th>SamplesCount</th>\n      <th>Epoch_eeglab_ids</th>\n      <th>TOA_cond</th>\n    </tr>\n  </thead>\n  <tbody>\n    <tr>\n      <th>0</th>\n      <td>0</td>\n      <td>08</td>\n      <td>Wn</td>\n      <td>T</td>\n      <td>650</td>\n      <td>0</td>\n      <td>24</td>\n      <td>[142, 262, 422, 682, 942, 1062, 1262, 1582, 16...</td>\n      <td>T</td>\n    </tr>\n    <tr>\n      <th>1</th>\n      <td>1</td>\n      <td>08</td>\n      <td>Wn</td>\n      <td>T</td>\n      <td>650</td>\n      <td>1</td>\n      <td>24</td>\n      <td>[144, 264, 424, 684, 944, 1064, 1264, 1584, 16...</td>\n      <td>T</td>\n    </tr>\n    <tr>\n      <th>2</th>\n      <td>2</td>\n      <td>08</td>\n      <td>Wn</td>\n      <td>T</td>\n      <td>650</td>\n      <td>2</td>\n      <td>24</td>\n      <td>[146, 266, 426, 686, 946, 1066, 1266, 1586, 16...</td>\n      <td>T</td>\n    </tr>\n    <tr>\n      <th>3</th>\n      <td>3</td>\n      <td>08</td>\n      <td>Wn</td>\n      <td>T</td>\n      <td>650</td>\n      <td>3</td>\n      <td>24</td>\n      <td>[148, 268, 428, 688, 948, 1068, 1268, 1588, 16...</td>\n      <td>T</td>\n    </tr>\n    <tr>\n      <th>4</th>\n      <td>4</td>\n      <td>08</td>\n      <td>Wn</td>\n      <td>T</td>\n      <td>650</td>\n      <td>4</td>\n      <td>24</td>\n      <td>[150, 270, 430, 690, 950, 1070, 1270, 1590, 16...</td>\n      <td>T</td>\n    </tr>\n    <tr>\n      <th>...</th>\n      <td>...</td>\n      <td>...</td>\n      <td>...</td>\n      <td>...</td>\n      <td>...</td>\n      <td>...</td>\n      <td>...</td>\n      <td>...</td>\n      <td>...</td>\n    </tr>\n    <tr>\n      <th>30235</th>\n      <td>30235</td>\n      <td>38</td>\n      <td>REM</td>\n      <td>A</td>\n      <td>5302</td>\n      <td>5</td>\n      <td>0</td>\n      <td>[]</td>\n      <td>A</td>\n    </tr>\n    <tr>\n      <th>30236</th>\n      <td>30236</td>\n      <td>38</td>\n      <td>REM</td>\n      <td>A</td>\n      <td>5302</td>\n      <td>6</td>\n      <td>0</td>\n      <td>[]</td>\n      <td>A</td>\n    </tr>\n    <tr>\n      <th>30237</th>\n      <td>30237</td>\n      <td>38</td>\n      <td>REM</td>\n      <td>A</td>\n      <td>5302</td>\n      <td>7</td>\n      <td>0</td>\n      <td>[]</td>\n      <td>A</td>\n    </tr>\n    <tr>\n      <th>30238</th>\n      <td>30238</td>\n      <td>38</td>\n      <td>REM</td>\n      <td>A</td>\n      <td>5302</td>\n      <td>8</td>\n      <td>0</td>\n      <td>[]</td>\n      <td>A</td>\n    </tr>\n    <tr>\n      <th>30239</th>\n      <td>30239</td>\n      <td>38</td>\n      <td>REM</td>\n      <td>A</td>\n      <td>5302</td>\n      <td>9</td>\n      <td>0</td>\n      <td>[]</td>\n      <td>A</td>\n    </tr>\n  </tbody>\n</table>\n<p>30240 rows × 9 columns</p>\n</div>"
     },
     "execution_count": 6,
     "metadata": {},
     "output_type": "execute_result"
    }
   ],
   "source": [
    "allEvents_df"
   ]
  },
  {
   "cell_type": "code",
   "execution_count": 7,
   "metadata": {
    "collapsed": false,
    "pycharm": {
     "name": "#%%\n"
    }
   },
   "outputs": [],
   "source": [
    "example_subject = '32'\n",
    "example_epochs_filename = f\"epochs_Wn_s{example_subject}_file\"\n",
    "data_path = 'C:\\AnatArzData\\Data\\\\reref'\n",
    "subject_setfile_wake_n = data_path + '\\s_32_wake_night_referenced.set'\n",
    "\n",
    "if exists(example_epochs_filename):\n",
    "    with open(example_epochs_filename, 'rb') as config_dictionary_file:\n",
    "        epochs_Wn_example_sub = pickle.load(config_dictionary_file)\n",
    "        #print(epochs_Wn_example_sub)\n",
    "else:\n",
    "    epochs_Wn_example_sub = io.read_epochs_eeglab(subject_setfile_wake_n, events=None, event_id=None,eog=(),verbose=None, uint16_codec=None)\n",
    "    with open(example_epochs_filename, 'wb') as epochs_Wn_s_example_file:\n",
    "        pickle.dump(epochs_Wn_example_sub, epochs_Wn_s_example_file)\n",
    "\n",
    "montage = mne.channels.make_standard_montage('GSN-HydroCel-128')\n",
    "epochs_Wn_example_sub_piked = epochs_Wn_example_sub.pick_channels(cfg['ch_names'])\n",
    "epochs_Wn_example_sub_monatged = epochs_Wn_example_sub_piked.set_montage(montage)\n",
    "info = epochs_Wn_example_sub_monatged.info"
   ]
  },
  {
   "cell_type": "code",
   "execution_count": 8,
   "metadata": {
    "collapsed": false,
    "pycharm": {
     "name": "#%%\n"
    }
   },
   "outputs": [],
   "source": [
    "def getEpochsPerCond(cond_df,dataset):\n",
    "    df_minTrials = cond_df[(cond_df.SamplesAmount > 0)] # discard cond with 0 enough samples\n",
    "    keys = (str(key) for key in df_minTrials.Cond_id)\n",
    "    epochs = {str_key: dataset[str_key] for str_key in keys}\n",
    "    return df_minTrials, epochs\n",
    "\n",
    "# output: [#conds, #elect, #y_ax]\n",
    "def getEvokedPerCondAndElectd(constraints,dataset,y_ax,outputType='array',tmin=-0.1):\n",
    "    curr_df =allEvents_df.copy()\n",
    "    # apply constraints\n",
    "    for key in constraints: curr_df = curr_df[(curr_df[key] == constraints[key])]\n",
    "\n",
    "    conds_df, epochsPerCond = getEpochsPerCond(curr_df,dataset)\n",
    "    evoked_perCond_andElectd = np.zeros((len(epochsPerCond),np.size(cfg['electrodes']),len(y_ax)))\n",
    "\n",
    "    for cond_i, cond in enumerate(epochsPerCond):\n",
    "        evoked_perCond_andElectd[cond_i] = np.squeeze(np.nanmean(epochsPerCond[cond],axis=2))\n",
    "\n",
    "    if outputType =='array':\n",
    "        return conds_df, evoked_perCond_andElectd\n",
    "    elif outputType =='mne':\n",
    "        # Epochs array shapr should be: (len(epochs_samps_per_cond),len(electrodes),len(y_ax))\n",
    "        mne_epochs = mne.EpochsArray(evoked_perCond_andElectd, info,tmin=tmin,baseline=baseline)\n",
    "        return conds_df, mne_epochs\n",
    "\n",
    "def applyDesign(ax,title=''):\n",
    "    ax.set_facecolor('silver')\n",
    "    ax.set_title(title)\n",
    "    ax.legend(loc = 'upper right',prop={'size': 10})\n",
    "    ax.axvline(x=0,color='gray', linestyle='--',label =\"_nolegend_\")\n",
    "    ax.axhline(y=0, color='gray', linestyle='-',label =\"_nolegend_\")\n",
    "    ax.set_ylabel('magnitude')\n",
    "    ax.tick_params(axis='both', which='major', labelsize=14)\n",
    "    ax.set_xlabel('Time (ms)')"
   ]
  },
  {
   "cell_type": "markdown",
   "metadata": {
    "collapsed": false,
    "pycharm": {
     "name": "#%% md\n"
    }
   },
   "source": [
    "## Time-freq functions"
   ]
  },
  {
   "cell_type": "code",
   "execution_count": 9,
   "metadata": {
    "collapsed": false,
    "pycharm": {
     "name": "#%%\n"
    }
   },
   "outputs": [],
   "source": [
    "#### Parameters:\n",
    "# ==================\n",
    "# zscore baseline\n",
    "## Tail is 0, so the statistic is thresholded on both sides of the distribution.\n",
    "baseline = (None, 0) ## For timefreq analysis\n",
    "p_value = 0.05 # default 0.05 # for clusters\n",
    "decim = 1# default 2 for testing.. For reals - 1\n",
    "n_permutations=100 # default 1k for testing. For reals - 10K\n",
    "min_freq = 4\n",
    "freqs = np.arange(min_freq,50, 1)  # define frequencies of interest\n",
    "n_cycles = freqs / min_freq # different number of cycle per frequency\n",
    "\n",
    "tail = 0 # 0 = two-tailed test (for clusters (as we want positive and negative clusters))\n",
    "p_value_pixels = 0.05"
   ]
  },
  {
   "cell_type": "code",
   "execution_count": 10,
   "metadata": {
    "collapsed": false,
    "pycharm": {
     "name": "#%%\n"
    }
   },
   "outputs": [],
   "source": [
    "def plot_clusters_map(ax1,T_obs,ch_idx,tfr_epochs,t_thresh,T_obs_plot):\n",
    "    vmax = np.max(np.abs(T_obs))\n",
    "    vmin = -vmax\n",
    "    ax1.imshow(T_obs[ch_idx], cmap=plt.cm.gray,\n",
    "               extent=[times[0], times[-1], freqs[0], freqs[-1]],\n",
    "               aspect='auto', origin='lower', vmin=vmin, vmax=vmax)\n",
    "    ax1.imshow(T_obs_plot[ch_idx], cmap=plt.cm.RdBu_r,\n",
    "               extent=[times[0], times[-1], freqs[0], freqs[-1]],\n",
    "               aspect='auto', origin='lower', vmin=vmin, vmax=vmax)\n",
    "    #ax1.set_colorbar()\n",
    "    ax1.set_xlabel('Time (ms)')\n",
    "    ax1.set_ylabel('Frequency (Hz)')\n",
    "    ax1.set_title(f'Induced power ({tfr_epochs.ch_names[ch_idx]})\\nThreshold:{t_thresh}\\n cluster p_val={p_value}\\ncontrast:{cond_1};{cond_2}')\n",
    "def plot_elecds_erps(ax2,mean_epochs_time_diff,ch_idx,tfr_epochs):\n",
    "    ax2.plot(times,mean_epochs_time_diff.T,color='blue')\n",
    "    mean_electrods = np.mean(mean_epochs_time_diff,axis=0)\n",
    "    ax2.plot(times,mean_electrods,color='yellow',label='mean')\n",
    "    ax2.plot(times,mean_epochs_time_diff[ch_idx,:],label=tfr_epochs.ch_names[ch_idx],color='red')\n",
    "    ax2.legend()\n",
    "    ax2.set_xlim(times[0],times[-1])\n",
    "    applyDesign(ax2,'ERP difference')"
   ]
  },
  {
   "cell_type": "code",
   "execution_count": 11,
   "metadata": {
    "collapsed": false,
    "pycharm": {
     "name": "#%%\n"
    }
   },
   "outputs": [
    {
     "name": "stdout",
     "output_type": "stream",
     "text": [
      "Now computeing {'TOA_cond': 'T', 'Vigilance': 'Wn'} and Baseline\n"
     ]
    },
    {
     "ename": "AttributeError",
     "evalue": "'DataFrame' object has no attribute 'SamplesAmount'",
     "output_type": "error",
     "traceback": [
      "\u001B[1;31m---------------------------------------------------------------------------\u001B[0m",
      "\u001B[1;31mAttributeError\u001B[0m                            Traceback (most recent call last)",
      "Input \u001B[1;32mIn [11]\u001B[0m, in \u001B[0;36m<cell line: 12>\u001B[1;34m()\u001B[0m\n\u001B[0;32m     13\u001B[0m currContr_conds1 \u001B[38;5;241m=\u001B[39m cond_1\u001B[38;5;241m.\u001B[39mcopy()\n\u001B[0;32m     14\u001B[0m currContr_conds1[\u001B[38;5;124m'\u001B[39m\u001B[38;5;124mSubject\u001B[39m\u001B[38;5;124m'\u001B[39m] \u001B[38;5;241m=\u001B[39m sub\n\u001B[1;32m---> 15\u001B[0m __, cont_epochs1 \u001B[38;5;241m=\u001B[39m \u001B[43mgetEvokedPerCondAndElectd\u001B[49m\u001B[43m(\u001B[49m\u001B[43mcurrContr_conds1\u001B[49m\u001B[43m,\u001B[49m\u001B[43mallEpochs_perCond\u001B[49m\u001B[43m,\u001B[49m\u001B[43mtimes\u001B[49m\u001B[43m,\u001B[49m\u001B[43m \u001B[49m\u001B[43moutputType\u001B[49m\u001B[38;5;241;43m=\u001B[39;49m\u001B[38;5;124;43m'\u001B[39;49m\u001B[38;5;124;43mmne\u001B[39;49m\u001B[38;5;124;43m'\u001B[39;49m\u001B[43m)\u001B[49m\n\u001B[0;32m     16\u001B[0m baseline_epochs \u001B[38;5;241m=\u001B[39m cont_epochs1\u001B[38;5;241m.\u001B[39mcopy()\n\u001B[0;32m     17\u001B[0m baseline \u001B[38;5;241m=\u001B[39m cont_epochs1\u001B[38;5;241m.\u001B[39mdata[\u001B[38;5;241m0\u001B[39m:time0_i]\n",
      "Input \u001B[1;32mIn [8]\u001B[0m, in \u001B[0;36mgetEvokedPerCondAndElectd\u001B[1;34m(constraints, dataset, y_ax, outputType, tmin)\u001B[0m\n\u001B[0;32m     10\u001B[0m \u001B[38;5;66;03m# apply constraints\u001B[39;00m\n\u001B[0;32m     11\u001B[0m \u001B[38;5;28;01mfor\u001B[39;00m key \u001B[38;5;129;01min\u001B[39;00m constraints: curr_df \u001B[38;5;241m=\u001B[39m curr_df[(curr_df[key] \u001B[38;5;241m==\u001B[39m constraints[key])]\n\u001B[1;32m---> 13\u001B[0m conds_df, epochsPerCond \u001B[38;5;241m=\u001B[39m \u001B[43mgetEpochsPerCond\u001B[49m\u001B[43m(\u001B[49m\u001B[43mcurr_df\u001B[49m\u001B[43m,\u001B[49m\u001B[43mdataset\u001B[49m\u001B[43m)\u001B[49m\n\u001B[0;32m     14\u001B[0m evoked_perCond_andElectd \u001B[38;5;241m=\u001B[39m np\u001B[38;5;241m.\u001B[39mzeros((\u001B[38;5;28mlen\u001B[39m(epochsPerCond),np\u001B[38;5;241m.\u001B[39msize(cfg[\u001B[38;5;124m'\u001B[39m\u001B[38;5;124melectrodes\u001B[39m\u001B[38;5;124m'\u001B[39m]),\u001B[38;5;28mlen\u001B[39m(y_ax)))\n\u001B[0;32m     16\u001B[0m \u001B[38;5;28;01mfor\u001B[39;00m cond_i, cond \u001B[38;5;129;01min\u001B[39;00m \u001B[38;5;28menumerate\u001B[39m(epochsPerCond):\n",
      "Input \u001B[1;32mIn [8]\u001B[0m, in \u001B[0;36mgetEpochsPerCond\u001B[1;34m(cond_df, dataset)\u001B[0m\n\u001B[0;32m      1\u001B[0m \u001B[38;5;28;01mdef\u001B[39;00m \u001B[38;5;21mgetEpochsPerCond\u001B[39m(cond_df,dataset):\n\u001B[1;32m----> 2\u001B[0m     df_minTrials \u001B[38;5;241m=\u001B[39m cond_df[(\u001B[43mcond_df\u001B[49m\u001B[38;5;241;43m.\u001B[39;49m\u001B[43mSamplesAmount\u001B[49m \u001B[38;5;241m>\u001B[39m \u001B[38;5;241m0\u001B[39m)] \u001B[38;5;66;03m# discard cond with 0 enough samples\u001B[39;00m\n\u001B[0;32m      3\u001B[0m     keys \u001B[38;5;241m=\u001B[39m (\u001B[38;5;28mstr\u001B[39m(key) \u001B[38;5;28;01mfor\u001B[39;00m key \u001B[38;5;129;01min\u001B[39;00m df_minTrials\u001B[38;5;241m.\u001B[39mCond_id)\n\u001B[0;32m      4\u001B[0m     epochs \u001B[38;5;241m=\u001B[39m {str_key: dataset[str_key] \u001B[38;5;28;01mfor\u001B[39;00m str_key \u001B[38;5;129;01min\u001B[39;00m keys}\n",
      "File \u001B[1;32m~\\anaconda3\\Lib\\site-packages\\pandas\\core\\generic.py:5575\u001B[0m, in \u001B[0;36mNDFrame.__getattr__\u001B[1;34m(self, name)\u001B[0m\n\u001B[0;32m   5568\u001B[0m \u001B[38;5;28;01mif\u001B[39;00m (\n\u001B[0;32m   5569\u001B[0m     name \u001B[38;5;129;01mnot\u001B[39;00m \u001B[38;5;129;01min\u001B[39;00m \u001B[38;5;28mself\u001B[39m\u001B[38;5;241m.\u001B[39m_internal_names_set\n\u001B[0;32m   5570\u001B[0m     \u001B[38;5;129;01mand\u001B[39;00m name \u001B[38;5;129;01mnot\u001B[39;00m \u001B[38;5;129;01min\u001B[39;00m \u001B[38;5;28mself\u001B[39m\u001B[38;5;241m.\u001B[39m_metadata\n\u001B[0;32m   5571\u001B[0m     \u001B[38;5;129;01mand\u001B[39;00m name \u001B[38;5;129;01mnot\u001B[39;00m \u001B[38;5;129;01min\u001B[39;00m \u001B[38;5;28mself\u001B[39m\u001B[38;5;241m.\u001B[39m_accessors\n\u001B[0;32m   5572\u001B[0m     \u001B[38;5;129;01mand\u001B[39;00m \u001B[38;5;28mself\u001B[39m\u001B[38;5;241m.\u001B[39m_info_axis\u001B[38;5;241m.\u001B[39m_can_hold_identifiers_and_holds_name(name)\n\u001B[0;32m   5573\u001B[0m ):\n\u001B[0;32m   5574\u001B[0m     \u001B[38;5;28;01mreturn\u001B[39;00m \u001B[38;5;28mself\u001B[39m[name]\n\u001B[1;32m-> 5575\u001B[0m \u001B[38;5;28;01mreturn\u001B[39;00m \u001B[38;5;28;43mobject\u001B[39;49m\u001B[38;5;241;43m.\u001B[39;49m\u001B[38;5;21;43m__getattribute__\u001B[39;49m\u001B[43m(\u001B[49m\u001B[38;5;28;43mself\u001B[39;49m\u001B[43m,\u001B[49m\u001B[43m \u001B[49m\u001B[43mname\u001B[49m\u001B[43m)\u001B[49m\n",
      "\u001B[1;31mAttributeError\u001B[0m: 'DataFrame' object has no attribute 'SamplesAmount'"
     ]
    }
   ],
   "source": [
    "contrasts = {}\n",
    "contrasts[\"allSubs_TVsBaseline_Wn\"] = {'cond_1':{'TOA_cond':'T','Vigilance':'Wn'}}\n",
    "\n",
    "cond_1 = contrasts['allSubs_TVsBaseline_Wn']['cond_1']\n",
    "print(f'Now computeing {cond_1} and Baseline')\n",
    "contrast_name = 'allSubs_TVsBaseline_Wn'\n",
    "#a(cond_1, contrast_name)\n",
    "\n",
    "\n",
    "epochs_time_diff = []\n",
    "epochs_power_diff = []\n",
    "for sub in cfg['subs']:\n",
    "    currContr_conds1 = cond_1.copy()\n",
    "    currContr_conds1['Subject'] = sub\n",
    "    __, cont_epochs1 = getEvokedPerCondAndElectd(currContr_conds1,allEpochs_perCond,times, outputType='mne')\n",
    "    baseline_epochs = cont_epochs1.copy()\n",
    "    baseline = cont_epochs1.data[0:time0_i]\n",
    "    baseline_epochs.data[time0_i:time0_i*2] = baseline\n",
    "    baseline_epochs.data[time0_i*2:time0_i*3] = baseline\n",
    "    baseline_epochs.data[time0_i*3:time0_i*4] = baseline\n",
    "    tfr_epochs1 = tfr_morlet(cont_epochs1, freqs, n_cycles=n_cycles, decim=decim, average=True, return_itc=False)\n",
    "    tfr_epochs2 = tfr_morlet(baseline_epochs, freqs, n_cycles=n_cycles, decim=decim, average=True, return_itc=False)\n",
    "    ## TODO: The baseline maybe should be applied together for both conditions\n",
    "    tfr_epochs1.apply_baseline(mode='zscore', baseline=baseline)\n",
    "    tfr_epochs2.apply_baseline(mode='zscore', baseline=baseline)\n",
    "    epochs_power1 = tfr_epochs1.data # elec, freqs, time\n",
    "    epochs_power2 = tfr_epochs2.data # elec, freqs, time\n",
    "    means_diff = epochs_power1-epochs_power2\n",
    "    epochs_power_diff.append(means_diff)\n",
    "\n",
    "    epochs_time_diff.append(np.mean(cont_epochs1.get_data(),axis=0) - np.mean(baseline_epochs.get_data(),axis=0))\n",
    "\n",
    "# (n_epochs, n_channels, n_freqs, n_times)\n",
    "epochs_power_diff_arr = np.zeros((len(cfg['subs']),len(cfg['electrodes']),len(freqs),len(times)))\n",
    "for s,subject in enumerate(cfg['subs']):\n",
    "    epochs_power_diff_arr[s,:,:,:] = epochs_power_diff[s]\n",
    "\n",
    "#### Define adjacency for statistics\n",
    "tfr_epochs = tfr_epochs1\n",
    "sensor_adjacency, ch_names = mne.channels.find_ch_adjacency(tfr_epochs.info,ch_type=None)\n",
    "use_idx = [ch_names.index(ch_name) for ch_name in tfr_epochs.ch_names]\n",
    "sensor_adjacency = sensor_adjacency[use_idx][:, use_idx]\n",
    "assert sensor_adjacency.shape == (len(tfr_epochs.ch_names), len(tfr_epochs.ch_names))\n",
    "assert epochs_power_diff_arr.shape == (len(cfg['subs']), len(tfr_epochs.ch_names), len(tfr_epochs.freqs), len(tfr_epochs.times))\n",
    "adjacency = mne.stats.combine_adjacency(sensor_adjacency, len(tfr_epochs.freqs), len(tfr_epochs.times))\n",
    "assert adjacency.shape[0] == adjacency.shape[1] == len(tfr_epochs.ch_names) * len(tfr_epochs.freqs) * len(tfr_epochs.times)\n",
    "\n",
    "### run cluster permutation\n",
    "degrees_of_freedom = len(cfg['subs']) - 1\n",
    "t_thresh = scipy.stats.t.ppf(1 - p_value_pixels / 2, df=degrees_of_freedom)\n",
    "T_obs, clusters, cluster_p_values, H0 = permutation_cluster_1samp_test(epochs_power_diff_arr, n_permutations=n_permutations, threshold=t_thresh, tail=tail,  out_type='mask', verbose=True)\n",
    "\n",
    "############# plot\n",
    "T_obs_plot = np.nan * np.ones_like(T_obs)\n",
    "for c, clust_p_val in zip(clusters, cluster_p_values):\n",
    "    if clust_p_val <= p_value:\n",
    "        T_obs_plot[c] = T_obs[c]\n",
    "mean_epochs_time_diff = np.mean(epochs_time_diff,axis=0)\n",
    "\n",
    "for ch_idx, elecd in enumerate(cfg['electrodes']):\n",
    "    fig, (ax1, ax2) = plt.subplots(2, 1, figsize=(10, 8))\n",
    "    fig.subplots_adjust(left=0.12,bottom= 0.08,right= 0.96, top=0.85, wspace=0.2, hspace=0.3)\n",
    "    plot_clusters_map(ax1,T_obs,ch_idx,tfr_epochs,t_thresh,T_obs_plot)\n",
    "    plot_elecds_erps(ax2,mean_epochs_time_diff,ch_idx,tfr_epochs)\n",
    "    plt.ioff()\n",
    "    plt.savefig(f'{fig_output_dir}/timeFreq_clusters_{contrast_name}_{tfr_epochs.ch_names[ch_idx]}.png',bbox_inches='tight')"
   ]
  },
  {
   "cell_type": "markdown",
   "metadata": {
    "collapsed": false,
    "pycharm": {
     "name": "#%% md\n"
    }
   },
   "source": [
    "## Run many contrasts at once"
   ]
  },
  {
   "cell_type": "code",
   "execution_count": null,
   "metadata": {
    "collapsed": false,
    "pycharm": {
     "name": "#%%\n"
    }
   },
   "outputs": [],
   "source": [
    "%matplotlib qt\n",
    "\n",
    "contrasts = {}\n",
    "contrasts[\"allSubs_TVsBaseline_Wn\"] = {'cond_1':{'TOA_cond':'T','Vigilance':'Wn'}}\n",
    "# contrasts[\"allSubs_RandvsFixed_N2\"] = {'cond_1':{'TOA_cond':'Rand','Vigilance':'N2'},'cond_2':{'TOA_cond':'Fixed','Vigilance':'N2'}}\n",
    "# contrasts[\"allSubs_RandvsFixed_N3\"] = {'cond_1':{'TOA_cond':'Rand','Vigilance':'N3'},'cond_2':{'TOA_cond':'Fixed','Vigilance':'N3'}}\n",
    "# contrasts[\"allSubs_RandvsFixed_REM\"] = {'cond_1':{'TOA_cond':'Rand','Vigilance':'REM'},'cond_2':{'TOA_cond':'Fixed','Vigilance':'REM'}}\n",
    "# contrasts[\"allSubs_T_WnvsN2\"] = {'cond_1':{'TOA_cond':'T','Vigilance':'Wn'},'cond_2':{'TOA_cond':'T','Vigilance':'N2'}}\n",
    "# contrasts['allSubs_T_WnvsN3'] = {'cond_1':{'TOA_cond':'T','Vigilance':'Wn'},'cond_2':{'TOA_cond':'T','Vigilance':'N3'}}\n",
    "# contrasts['allSubs_T_WnvsREM'] = {'cond_1':{'TOA_cond':'T','Vigilance':'Wn'},'cond_2':{'TOA_cond':'T','Vigilance':'REM'}}\n",
    "# contrasts['allSubs_TvsRand_Wn'] = {'cond_1':{'TOA_cond':'T','Vigilance':'Wn'},'cond_2':{'TOA_cond':'Rand','Vigilance':'Wn'}}\n",
    "# contrasts['allSubs_TvsFixed_Wn'] = {'cond_1':{'TOA_cond':'T','Vigilance':'Wn'},'cond_2':{'TOA_cond':'Fixed','Vigilance':'Wn'}}\n",
    "# contrasts['allSubs_TvsRand_N2'] = {'cond_1':{'TOA_cond':'T','Vigilance':'N2'},'cond_2':{'TOA_cond':'Rand','Vigilance':'N2'}}\n",
    "# contrasts['allSubs_TvsFixed_N2'] = {'cond_1':{'TOA_cond':'T','Vigilance':'N2'},'cond_2':{'TOA_cond':'Fixed','Vigilance':'N2'}}\n",
    "# contrasts['allSubs_TvsRand_N3'] = {'cond_1':{'TOA_cond':'T','Vigilance':'N3'},'cond_2':{'TOA_cond':'Rand','Vigilance':'N3'}}\n",
    "# contrasts['allSubs_TvsFixed_N3'] = {'cond_1':{'TOA_cond':'T','Vigilance':'N3'},'cond_2':{'TOA_cond':'Fixed','Vigilance':'N3'}}\n",
    "# contrasts['allSubs_TvsRand_REM'] = {'cond_1':{'TOA_cond':'T','Vigilance':'REM'},'cond_2':{'TOA_cond':'Rand','Vigilance':'REM'}}\n",
    "# contrasts['allSubs_TvsFixed_REM'] = {'cond_1':{'TOA_cond':'T','Vigilance':'REM'},'cond_2':{'TOA_cond':'Fixed','Vigilance':'REM'}}\n",
    "\n",
    "for contrast in contrasts:\n",
    "    cond_1 = contrasts[contrast]['cond_1']\n",
    "    print(f'Now computeing {cond_1} and Baseline')\n",
    "    contrast_name = contrast.title()\n",
    "    a(cond_1, contrast_name)"
   ]
  },
  {
   "cell_type": "markdown",
   "metadata": {
    "collapsed": false,
    "pycharm": {
     "name": "#%% md\n"
    }
   },
   "source": []
  }
 ],
 "metadata": {
  "kernelspec": {
   "display_name": "Python 3.9.6 64-bit",
   "language": "python",
   "name": "python3"
  },
  "language_info": {
   "codemirror_mode": {
    "name": "ipython",
    "version": 2
   },
   "file_extension": ".py",
   "mimetype": "text/x-python",
   "name": "python",
   "nbconvert_exporter": "python",
   "pygments_lexer": "ipython2",
   "version": "3.9.6"
  },
  "vscode": {
   "interpreter": {
    "hash": "946b629e9a35e0bdbfd20594fab2712eb62be0364242a9946815d6a663dae4aa"
   }
  }
 },
 "nbformat": 4,
 "nbformat_minor": 0
}