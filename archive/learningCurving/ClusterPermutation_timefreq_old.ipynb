{
 "cells": [
  {
   "cell_type": "code",
   "execution_count": 48,
   "outputs": [],
   "source": [
    "%reset\n",
    "#%matplotlib qt"
   ],
   "metadata": {
    "collapsed": false,
    "pycharm": {
     "name": "#%%\n"
    }
   }
  },
  {
   "cell_type": "code",
   "execution_count": 49,
   "outputs": [
    {
     "data": {
      "text/plain": "0"
     },
     "execution_count": 49,
     "metadata": {},
     "output_type": "execute_result"
    }
   ],
   "source": [
    "import matplotlib.pyplot as plt\n",
    "import numpy as np\n",
    "import scipy.io\n",
    "import pandas as pd\n",
    "import mne\n",
    "from mne.time_frequency import tfr_morlet\n",
    "from mne.stats import permutation_cluster_test\n",
    "from mne import io\n",
    "import pickle\n",
    "from os.path import exists\n",
    "import gc\n",
    "\n",
    "gc.collect()"
   ],
   "metadata": {
    "collapsed": false,
    "pycharm": {
     "name": "#%%\n"
    }
   }
  },
  {
   "cell_type": "code",
   "execution_count": 50,
   "outputs": [],
   "source": [
    "epochs_dir = 'C:\\AnatArzData\\YKM_data\\epochs_and_evoked_allSubs'\n",
    "prepro_name = \"referenced\"\n",
    "import_type = \"5Electorodes_plainEEGLAB\""
   ],
   "metadata": {
    "collapsed": false,
    "pycharm": {
     "name": "#%%\n"
    }
   }
  },
  {
   "cell_type": "code",
   "execution_count": 51,
   "outputs": [],
   "source": [
    "freq_bands = {}\n",
    "freq_bands['Delta'] = {}\n",
    "freq_bands['Delta']['min'] = 2\n",
    "freq_bands['Delta']['max'] = 4\n",
    "freq_bands['Delta']['title'] = f\"Delta ({freq_bands['Delta']['min']}-{freq_bands['Delta']['max']} Hz)\"\n",
    "\n",
    "freq_bands['Theta'] = {}\n",
    "freq_bands['Theta']['min'] = 4\n",
    "freq_bands['Theta']['max'] = 8\n",
    "freq_bands['Theta']['title'] = f\"Theta ({freq_bands['Theta']['min']}-{freq_bands['Theta']['max']} Hz)\"\n",
    "\n",
    "freq_bands['Alpha'] = {}\n",
    "freq_bands['Alpha']['min'] = 8\n",
    "freq_bands['Alpha']['max'] = 12\n",
    "freq_bands['Alpha']['title'] = f\"Alpha ({freq_bands['Alpha']['min']}-{freq_bands['Alpha']['max']} Hz)\"\n",
    "\n",
    "freq_bands['Beta'] = {}\n",
    "freq_bands['Beta']['min'] = 12\n",
    "freq_bands['Beta']['max'] = 30\n",
    "freq_bands['Beta']['title'] = f\"Beta ({freq_bands['Beta']['min']}-{freq_bands['Beta']['max']} Hz)\"\n",
    "\n",
    "freq_bands['Gamma'] = {}\n",
    "freq_bands['Gamma']['min'] = 30\n",
    "freq_bands['Gamma']['max'] = 45\n",
    "freq_bands['Gamma']['title'] = f\"Gamma ({freq_bands['Gamma']['min']}-{freq_bands['Gamma']['max']} Hz)\""
   ],
   "metadata": {
    "collapsed": false,
    "pycharm": {
     "name": "#%%\n"
    }
   }
  },
  {
   "cell_type": "markdown",
   "source": [],
   "metadata": {
    "collapsed": false,
    "pycharm": {
     "name": "#%% md\n"
    }
   }
  },
  {
   "cell_type": "markdown",
   "source": [
    "## Import epochs"
   ],
   "metadata": {
    "collapsed": false,
    "pycharm": {
     "name": "#%% md\n"
    }
   },
   "execution_count": 1
  },
  {
   "cell_type": "code",
   "execution_count": 61,
   "outputs": [],
   "source": [
    "with open(f'{epochs_dir}\\\\{import_type}.pkl', 'rb') as file:\n",
    "    [allEvents_df, allEpochs_perCond, cfg] = pickle.load(file)\n",
    "\n",
    "cfg['sample_freq'] = 250\n",
    "\n",
    "max_freq  =cfg['sample_freq']/2\n",
    "times = cfg['times'] *0.0001\n",
    "time0_i = np.where(times==0)[0][0]\n",
    "hz_y = np.fft.rfftfreq(len(times[time0_i:]), 1.0/cfg['sample_freq'])"
   ],
   "metadata": {
    "collapsed": false,
    "pycharm": {
     "name": "#%%\n"
    }
   }
  },
  {
   "cell_type": "code",
   "execution_count": 53,
   "outputs": [
    {
     "data": {
      "text/plain": "      Cond_id Subject Vigilance TOA ToneHeight TrialPosition SamplesAmount  \\\n0           0      08        Wn   T        650             0            24   \n1           1      08        Wn   T        650             1            24   \n2           2      08        Wn   T        650             2            24   \n3           3      08        Wn   T        650             3            24   \n4           4      08        Wn   T        650             4            24   \n...       ...     ...       ...  ..        ...           ...           ...   \n30235   30235      38       REM   A       5302             5             0   \n30236   30236      38       REM   A       5302             6             0   \n30237   30237      38       REM   A       5302             7             0   \n30238   30238      38       REM   A       5302             8             0   \n30239   30239      38       REM   A       5302             9             0   \n\n                                        Epoch_eeglab_ids TOA_cond  \n0      [142, 262, 422, 682, 942, 1062, 1262, 1582, 16...        T  \n1      [144, 264, 424, 684, 944, 1064, 1264, 1584, 16...        T  \n2      [146, 266, 426, 686, 946, 1066, 1266, 1586, 16...        T  \n3      [148, 268, 428, 688, 948, 1068, 1268, 1588, 16...        T  \n4      [150, 270, 430, 690, 950, 1070, 1270, 1590, 16...        T  \n...                                                  ...      ...  \n30235                                                 []        A  \n30236                                                 []        A  \n30237                                                 []        A  \n30238                                                 []        A  \n30239                                                 []        A  \n\n[30240 rows x 9 columns]",
      "text/html": "<div>\n<style scoped>\n    .dataframe tbody tr th:only-of-type {\n        vertical-align: middle;\n    }\n\n    .dataframe tbody tr th {\n        vertical-align: top;\n    }\n\n    .dataframe thead th {\n        text-align: right;\n    }\n</style>\n<table border=\"1\" class=\"dataframe\">\n  <thead>\n    <tr style=\"text-align: right;\">\n      <th></th>\n      <th>Cond_id</th>\n      <th>Subject</th>\n      <th>Vigilance</th>\n      <th>TOA</th>\n      <th>ToneHeight</th>\n      <th>TrialPosition</th>\n      <th>SamplesAmount</th>\n      <th>Epoch_eeglab_ids</th>\n      <th>TOA_cond</th>\n    </tr>\n  </thead>\n  <tbody>\n    <tr>\n      <th>0</th>\n      <td>0</td>\n      <td>08</td>\n      <td>Wn</td>\n      <td>T</td>\n      <td>650</td>\n      <td>0</td>\n      <td>24</td>\n      <td>[142, 262, 422, 682, 942, 1062, 1262, 1582, 16...</td>\n      <td>T</td>\n    </tr>\n    <tr>\n      <th>1</th>\n      <td>1</td>\n      <td>08</td>\n      <td>Wn</td>\n      <td>T</td>\n      <td>650</td>\n      <td>1</td>\n      <td>24</td>\n      <td>[144, 264, 424, 684, 944, 1064, 1264, 1584, 16...</td>\n      <td>T</td>\n    </tr>\n    <tr>\n      <th>2</th>\n      <td>2</td>\n      <td>08</td>\n      <td>Wn</td>\n      <td>T</td>\n      <td>650</td>\n      <td>2</td>\n      <td>24</td>\n      <td>[146, 266, 426, 686, 946, 1066, 1266, 1586, 16...</td>\n      <td>T</td>\n    </tr>\n    <tr>\n      <th>3</th>\n      <td>3</td>\n      <td>08</td>\n      <td>Wn</td>\n      <td>T</td>\n      <td>650</td>\n      <td>3</td>\n      <td>24</td>\n      <td>[148, 268, 428, 688, 948, 1068, 1268, 1588, 16...</td>\n      <td>T</td>\n    </tr>\n    <tr>\n      <th>4</th>\n      <td>4</td>\n      <td>08</td>\n      <td>Wn</td>\n      <td>T</td>\n      <td>650</td>\n      <td>4</td>\n      <td>24</td>\n      <td>[150, 270, 430, 690, 950, 1070, 1270, 1590, 16...</td>\n      <td>T</td>\n    </tr>\n    <tr>\n      <th>...</th>\n      <td>...</td>\n      <td>...</td>\n      <td>...</td>\n      <td>...</td>\n      <td>...</td>\n      <td>...</td>\n      <td>...</td>\n      <td>...</td>\n      <td>...</td>\n    </tr>\n    <tr>\n      <th>30235</th>\n      <td>30235</td>\n      <td>38</td>\n      <td>REM</td>\n      <td>A</td>\n      <td>5302</td>\n      <td>5</td>\n      <td>0</td>\n      <td>[]</td>\n      <td>A</td>\n    </tr>\n    <tr>\n      <th>30236</th>\n      <td>30236</td>\n      <td>38</td>\n      <td>REM</td>\n      <td>A</td>\n      <td>5302</td>\n      <td>6</td>\n      <td>0</td>\n      <td>[]</td>\n      <td>A</td>\n    </tr>\n    <tr>\n      <th>30237</th>\n      <td>30237</td>\n      <td>38</td>\n      <td>REM</td>\n      <td>A</td>\n      <td>5302</td>\n      <td>7</td>\n      <td>0</td>\n      <td>[]</td>\n      <td>A</td>\n    </tr>\n    <tr>\n      <th>30238</th>\n      <td>30238</td>\n      <td>38</td>\n      <td>REM</td>\n      <td>A</td>\n      <td>5302</td>\n      <td>8</td>\n      <td>0</td>\n      <td>[]</td>\n      <td>A</td>\n    </tr>\n    <tr>\n      <th>30239</th>\n      <td>30239</td>\n      <td>38</td>\n      <td>REM</td>\n      <td>A</td>\n      <td>5302</td>\n      <td>9</td>\n      <td>0</td>\n      <td>[]</td>\n      <td>A</td>\n    </tr>\n  </tbody>\n</table>\n<p>30240 rows × 9 columns</p>\n</div>"
     },
     "execution_count": 53,
     "metadata": {},
     "output_type": "execute_result"
    }
   ],
   "source": [
    "allEvents_df"
   ],
   "metadata": {
    "collapsed": false,
    "pycharm": {
     "name": "#%%\n"
    }
   }
  },
  {
   "cell_type": "code",
   "execution_count": 54,
   "outputs": [],
   "source": [
    "example_subject = '32'\n",
    "example_epochs_filename = f\"epochs_Wn_s{example_subject}_file\"\n",
    "data_path = 'C:\\AnatArzData\\Data\\\\reref'\n",
    "subject_setfile_wake_n = data_path + '\\s_32_wake_night_referenced.set'\n",
    "\n",
    "if exists(example_epochs_filename):\n",
    "    with open(example_epochs_filename, 'rb') as config_dictionary_file:\n",
    "        epochs_Wn_example_sub = pickle.load(config_dictionary_file)\n",
    "        #print(epochs_Wn_example_sub)\n",
    "else:\n",
    "    epochs_Wn_example_sub = io.read_epochs_eeglab(subject_setfile_wake_n, events=None, event_id=None,eog=(),verbose=None, uint16_codec=None)\n",
    "    with open(example_epochs_filename, 'wb') as epochs_Wn_s_example_file:\n",
    "        pickle.dump(epochs_Wn_example_sub, epochs_Wn_s_example_file)\n",
    "\n",
    "montage = mne.channels.make_standard_montage('GSN-HydroCel-128')\n",
    "epochs_Wn_example_sub_piked = epochs_Wn_example_sub.pick_channels(cfg['ch_names'])\n",
    "epochs_Wn_example_sub_monatged = epochs_Wn_example_sub_piked.set_montage(montage)\n",
    "info = epochs_Wn_example_sub_monatged.info"
   ],
   "metadata": {
    "collapsed": false,
    "pycharm": {
     "name": "#%%\n"
    }
   }
  },
  {
   "cell_type": "code",
   "execution_count": 55,
   "outputs": [],
   "source": [
    "# ## Import allEpochs_perCond_freq\n",
    "# frq_filename = f'{epochs_dir}\\\\{import_type}_frq.pkl'\n",
    "#\n",
    "# if exists(frq_filename):\n",
    "#     with open(frq_filename, 'rb') as config_dictionary_file:\n",
    "#         allEpochs_perCond_freq = pickle.load(config_dictionary_file)\n",
    "#         #print(allEpochs_perCond_freq)\n",
    "# else:\n",
    "#     allEpochs_perCond_freq = {}\n",
    "#     for key in allEpochs_perCond:\n",
    "#         allEpochs_perCond_freq[key] = np.zeros((len(cfg['electrodes']),len(hz_y),allEpochs_perCond[key].shape[2]))\n",
    "#         for el in range(len(cfg['electrodes'])):\n",
    "#             for tr in range(allEpochs_perCond[key].shape[2]):\n",
    "#                 curr_trial_in_electr = allEpochs_perCond[key][el,time0_i:,tr]\n",
    "#                 fft_abs = np.absolute(np.fft.rfft(curr_trial_in_electr))\n",
    "#                 fft_norm = (fft_abs- np.min(fft_abs)) / (np.max(fft_abs) - np.min(fft_abs))\n",
    "#                 allEpochs_perCond_freq[key][el,:,tr] = fft_norm\n",
    "#     with open(frq_filename, 'wb') as epochs_Wn_s_example_file:\n",
    "#         pickle.dump(allEpochs_perCond_freq, epochs_Wn_s_example_file)"
   ],
   "metadata": {
    "collapsed": false,
    "pycharm": {
     "name": "#%%\n"
    }
   }
  },
  {
   "cell_type": "code",
   "execution_count": 110,
   "outputs": [],
   "source": [
    "def getEpochsPerCond(cond_df,dataset):\n",
    "    df_minTrials = cond_df[(cond_df.SamplesAmount > 0)] # discard cond with 0 enough samples\n",
    "    keys = (str(key) for key in df_minTrials.Cond_id)\n",
    "    epochs = {str_key: dataset[str_key] for str_key in keys}\n",
    "    return df_minTrials, epochs\n",
    "\n",
    "# output: [#conds, #elect, #y_ax]\n",
    "def getEvokedPerCondAndElectd(constraints,dataset,y_ax,outputType='array',tmin=-0.1):\n",
    "    curr_df =allEvents_df.copy()\n",
    "    # apply constraints\n",
    "    for key in constraints: curr_df = curr_df[(curr_df[key] == constraints[key])]\n",
    "\n",
    "    conds_df, epochsPerCond = getEpochsPerCond(curr_df,dataset)\n",
    "    evoked_perCond_andElectd = np.zeros((len(epochsPerCond),np.size(cfg['electrodes']),len(y_ax)))\n",
    "\n",
    "    for cond_i, cond in enumerate(epochsPerCond):\n",
    "        evoked_perCond_andElectd[cond_i] = np.squeeze(np.nanmean(epochsPerCond[cond],axis=2))\n",
    "\n",
    "    if outputType =='array':\n",
    "        return conds_df, evoked_perCond_andElectd\n",
    "    elif outputType =='mne':\n",
    "        # Epochs array shapr should be: (len(epochs_samps_per_cond),len(electrodes),len(y_ax))\n",
    "        mne_epochs = mne.EpochsArray(evoked_perCond_andElectd, info,tmin=tmin,baseline=baseline)\n",
    "        return conds_df, mne_epochs ## TODO: this is epochs. Maybe we need evoked."
   ],
   "metadata": {
    "collapsed": false,
    "pycharm": {
     "name": "#%%\n"
    }
   }
  },
  {
   "cell_type": "code",
   "execution_count": 57,
   "outputs": [],
   "source": [
    "# def get_evokedPerCond_ax_mneFunc(ax1,df,condName : str, condVaribles, filterConds, graphColors):\n",
    "#     evokeds = {}\n",
    "#     for s,subject in enumerate(subs):\n",
    "#         evokeds[s] = {}\n",
    "#         filterConds['Subject'] = subject\n",
    "#         for val in condVaribles:\n",
    "#             filterConds[condName] = val\n",
    "#             curr_subAndCond_electrOverTime = get_avgOverTrials(df, filterConds)\n",
    "#             curr_subAndCond_electrOverTime /= 1e6\n",
    "#             evokeds[s][val] = mne.EvokedArray(curr_subAndCond_electrOverTime,info,tmin=-0.1)\n",
    "#\n",
    "#     # Edit the data to mne plot format\n",
    "#     evokeds_mnePlotFormat = {}\n",
    "#     for val in condVaribles:\n",
    "#         evokeds_mnePlotFormat[val] = []\n",
    "#         for sub_i in range(len(subs)):\n",
    "#             evokeds_mnePlotFormat[val].append(evokeds[sub_i][val])\n",
    "#\n",
    "#     plot_compare_evokeds(evokeds_mnePlotFormat,combine = 'mean',colors=graphColors,\n",
    "#                          axes=ax1,show=False,truncate_xaxis=False, truncate_yaxis=False,\n",
    "#                          show_sensors = False , legend='upper left')\n",
    "def applyDesign(ax,title=''):\n",
    "    ax.set_facecolor('silver')\n",
    "    ax.set_title(title,fontsize = 18, fontweight = 'bold')\n",
    "    ax.legend(loc = 'upper right',prop={'size': 10})\n",
    "    ax.axvline(x=0,color='gray', linestyle='--',label =\"_nolegend_\")\n",
    "    ax.axhline(y=0, color='gray', linestyle='-',label =\"_nolegend_\")\n",
    "    ax.set_ylabel('magnitude', fontsize = 16, fontweight = 'bold')\n",
    "    ax.tick_params(axis='both', which='major', labelsize=14)\n",
    "    ax.set_xlabel('Frequency (Hz)', fontsize = 16, fontweight = 'bold')"
   ],
   "metadata": {
    "collapsed": false,
    "pycharm": {
     "name": "#%%\n"
    }
   }
  },
  {
   "cell_type": "markdown",
   "source": [
    "## Time-freq functions"
   ],
   "metadata": {
    "collapsed": false,
    "pycharm": {
     "name": "#%% md\n"
    }
   }
  },
  {
   "cell_type": "code",
   "execution_count": 70,
   "outputs": [],
   "source": [
    "def time_freq_clustr_perm(constraints_1, constraints_2, freqs, channel,n_cycles):\n",
    "    average = channel == 'mean'\n",
    "    conds_df1, mne_epochs_1 = getEvokedPerCondAndElectd(constraints_1,allEpochs_perCond,times, outputType='mne')\n",
    "    conds_df2, mne_epochs_2 = getEvokedPerCondAndElectd(constraints_2,allEpochs_perCond,times, outputType='mne')\n",
    "    #\n",
    "    # mne_epochs_1 = mne_epochs_1.crop(0,mne_epochs_1.tmax).copy()\n",
    "    # mne_epochs_2 = mne_epochs_2.crop(0,mne_epochs_2.tmax).copy()\n",
    "\n",
    "    decim = 1\n",
    "    tfr_epochs_1 = tfr_morlet(mne_epochs_1, freqs,n_cycles=n_cycles,return_itc=False, average=average,decim=decim)\n",
    "    tfr_epochs_2 = tfr_morlet(mne_epochs_2, freqs,n_cycles=n_cycles, return_itc=False, average=average,decim=decim)\n",
    "    tfr_epochs_1.apply_baseline(baseline=(times[0], 0))\n",
    "    tfr_epochs_2.apply_baseline(baseline=(times[0], 0))\n",
    "    if channel == 'mean':\n",
    "        epochs_power_1 = tfr_epochs_1.data\n",
    "        epochs_power_2 = tfr_epochs_2.data\n",
    "    else:\n",
    "        epochs_power_1 = tfr_epochs_1.data[:, channel, :, :]\n",
    "        epochs_power_2 = tfr_epochs_2.data[:, channel, :, :]\n",
    "\n",
    "\n",
    "    # n_conditions = 2\n",
    "    # n_observations = epochs_power_1.shape[0] +epochs_power_2.shape[0]\n",
    "    # dfn = n_conditions - 1  # degrees of freedom numerator\n",
    "    # dfd = n_observations - n_conditions  # degrees of freedom denominator\n",
    "    # thresh = scipy.stats.f.ppf(1 - p_crit, dfn=dfn, dfd=dfd)  # F distribution\n",
    "\n",
    "    threshold = None # The so-called “cluster forming threshold” in the form of a test statistic (note: this is not an alpha level / “p-value”). If None, an F-threshold will be chosen automatically that corresponds to a p-value of 0.05 for the given number of observations (only valid when using an F-statistic).\n",
    "\n",
    "    F_obs, clusters, cluster_p_values, H0 = permutation_cluster_test([epochs_power_1, epochs_power_2] ,out_type='mask',n_permutations=n_permutations, threshold=threshold, tail=0)\n",
    "    print(f\"F_obs:{F_obs}\\nclusters:{clusters}\\ncluster_p_values:{cluster_p_values}\\nH0:{H0}\")\n",
    "\n",
    "    \"\"\"plot_timefreq\"\"\"\n",
    "    # fig1, ax1 = plt.subplots(1, 1, figsize=(17, 3))\n",
    "    # fig2, ax2 = plt.subplots(1, 1, figsize=(12, 3))\n",
    "    fig1, (ax1, ax2) = plt.subplots(2, 1, figsize=(10, 4))\n",
    "    fig1.subplots_adjust(0.12, 0.08, 0.96, 0.94, 0.2, 0.43)\n",
    "\n",
    "    # Compute the difference in evoked to determine which was greater since\n",
    "    # we used a 1-way ANOVA which tested for a difference in population means\n",
    "    evoked_power_1 = epochs_power_1.mean(axis=0)\n",
    "    evoked_power_2 = epochs_power_2.mean(axis=0)\n",
    "    evoked_power_contrast = evoked_power_1 - evoked_power_2\n",
    "    signs = np.sign(evoked_power_contrast)\n",
    "\n",
    "    # Create new stats image with only significant clusters\n",
    "    F_obs_plot = np.nan * np.ones_like(F_obs)\n",
    "    for c, p_val in zip(clusters, cluster_p_values):\n",
    "        if p_val <= p_crit: F_obs_plot[c] = F_obs[c] * signs[c]\n",
    "\n",
    "\n",
    "    # plot cluster heatmap\n",
    "    ax1.imshow(F_obs, extent=[times[0], times[-1], freqs[0], freqs[-1]],  aspect='auto', origin='lower', cmap='gray')\n",
    "    max_F = np.nanmax(abs(F_obs_plot))\n",
    "    im = ax1.imshow(F_obs_plot, extent=[times[0], times[-1], freqs[0], freqs[-1]], aspect='auto', origin='lower', cmap='RdBu_r', vmin=-max_F, vmax=max_F)\n",
    "    ax1.set_xlabel('Time (ms)')\n",
    "    ax1.set_ylabel('Frequency (Hz)')\n",
    "    ax1.set_title(f'Induced power - ({cfg[\"ch_names\"]})')\n",
    "    #fig1.colorbar(im, ax=ax1)\n",
    "\n",
    "    # evoked\n",
    "    evoked_condition_1 = mne_epochs_1.average()\n",
    "    evoked_condition_2 = mne_epochs_2.average()\n",
    "    evoked_contrast = mne.combine_evoked([evoked_condition_1, evoked_condition_2], weights=[1, -1],)\n",
    "    evoked_contrast.plot(axes=ax2, time_unit='ms')\n",
    "\n",
    "    return clusters, cluster_p_values"
   ],
   "metadata": {
    "collapsed": false,
    "pycharm": {
     "name": "#%%\n"
    }
   }
  },
  {
   "cell_type": "code",
   "execution_count": 71,
   "outputs": [],
   "source": [
    "def time_freq_cond(conds_1,freqs):\n",
    "    baseline = (times[0], 0)\n",
    "\n",
    "    df_1, mne_epochs_1 = getEvokedPerCondAndElectd(conds_1,allEpochs_perCond,times,outputType='mne' )\n",
    "    power, itc = tfr_morlet(mne_epochs_1, freqs=freqs, n_cycles=n_cycles, use_fft=False,  return_itc=True, decim=decim)\n",
    "\n",
    "    #plot\n",
    "    power.plot_topo(title='Average power')\n",
    "\n",
    "    fig, axis = plt.subplots(1, len(freq_bands)+1, figsize=(20, 4))\n",
    "    for f_i, freq_band in enumerate(freq_bands.values()):\n",
    "        power.plot_topomap(ch_type='eeg', tmin=0, tmax=times[-1], fmin=freq_band['min'], fmax=freq_band['max'], baseline=baseline, axes=axis[f_i], title=freq_band['title'])\n",
    "    power.plot_topomap(ch_type='eeg', tmin=0, tmax=times[-1], fmin=freqs[0], fmax=freqs[-1],baseline=baseline,  axes=axis[len(freq_bands)], title=f'All range ({freqs[0]}-{freqs[-1]} Hz)')\n",
    "    mne.viz.tight_layout()\n",
    "    plt.show()"
   ],
   "metadata": {
    "collapsed": false,
    "pycharm": {
     "name": "#%%\n"
    }
   }
  },
  {
   "cell_type": "markdown",
   "source": [
    "# Resutls"
   ],
   "metadata": {
    "collapsed": false,
    "pycharm": {
     "name": "#%% md\n"
    }
   }
  },
  {
   "cell_type": "code",
   "execution_count": 72,
   "outputs": [],
   "source": [
    "p_crit = 0.05\n",
    "min_freq = 6\n",
    "freqs = np.arange(min_freq,120, 0.5)  # define frequencies of interest\n",
    "baseline = (0.0001* times[0], 0)\n",
    "\n",
    "max_n_cycles = times[-1]*0.0001 / (1/min_freq)\n",
    "# times[-1]*0.001 < min_freq * n_cyr\n",
    "# times[-1]*0.001 / min_freq<  * n_cyr\n",
    "\n",
    "# another option:\n",
    "n_cycles = freqs / 4.  # different number of cycle per frequency\n",
    "n_cycles = 1.5 # trade off between the time vs. freq precision. The more, the better the Freq\n",
    "\n",
    "n_permutations = 1000"
   ],
   "metadata": {
    "collapsed": false,
    "pycharm": {
     "name": "#%%\n"
    }
   }
  },
  {
   "cell_type": "code",
   "execution_count": 73,
   "outputs": [
    {
     "name": "stdout",
     "output_type": "stream",
     "text": [
      "Not setting metadata\n",
      "89 matching events found\n",
      "Applying baseline correction (mode: mean)\n",
      "0 projection items activated\n",
      "0 bad epochs dropped\n",
      "Not setting metadata\n",
      "90 matching events found\n",
      "Applying baseline correction (mode: mean)\n",
      "0 projection items activated\n",
      "0 bad epochs dropped\n",
      "Applying baseline correction (mode: mean)\n",
      "Applying baseline correction (mode: mean)\n",
      "Using a threshold of 5.317655\n",
      "stat_fun(H1): min=0.000000 max=2193.208910\n",
      "Running initial clustering\n",
      "Found 8 clusters\n",
      "Permuting 999 times...\n"
     ]
    },
    {
     "name": "stderr",
     "output_type": "stream",
     "text": [
      "C:\\Users\\Sharon\\AppData\\Local\\Temp\\ipykernel_8688\\2686672185.py:30: RuntimeWarning: Ignoring argument \"tail\", performing 1-tailed F-test\n",
      "  F_obs, clusters, cluster_p_values, H0 = permutation_cluster_test([epochs_power_1, epochs_power_2] ,out_type='mask',n_permutations=n_permutations, threshold=threshold, tail=0)\n"
     ]
    },
    {
     "data": {
      "text/plain": "  0%|          |  : 0/999 [00:00<?,       ?it/s]",
      "application/vnd.jupyter.widget-view+json": {
       "version_major": 2,
       "version_minor": 0,
       "model_id": "54b61f43ae7043599d686db736e9f8dc"
      }
     },
     "metadata": {},
     "output_type": "display_data"
    },
    {
     "name": "stdout",
     "output_type": "stream",
     "text": [
      "Computing cluster p-values\n",
      "Done.\n",
      "F_obs:[[3.15774574e+00 1.19504591e+00 2.98310993e-02 ... 4.38208563e+01\n",
      "  4.44984744e+01 4.48163838e+01]\n",
      " [3.86664573e+01 2.62968382e+01 1.33099796e+01 ... 4.52829613e+01\n",
      "  4.60934063e+01 4.64927823e+01]\n",
      " [1.26238627e+02 1.00131381e+02 6.65694637e+01 ... 4.67125995e+01\n",
      "  4.76349214e+01 4.80943994e+01]\n",
      " ...\n",
      " [1.36271468e+03 1.06944297e+03 1.33515430e+03 ... 7.51075818e+01\n",
      "  6.29652887e+01 5.70077679e+01]\n",
      " [1.35558475e+03 1.06833031e+03 1.32793805e+03 ... 7.48902203e+01\n",
      "  6.29209854e+01 5.69934542e+01]\n",
      " [1.34848324e+03 1.06719047e+03 1.32094947e+03 ... 7.46819629e+01\n",
      "  6.28782666e+01 5.69792000e+01]]\n",
      "clusters:[array([[False, False, False, ..., False, False, False],\n",
      "       [False, False, False, ..., False, False, False],\n",
      "       [False, False, False, ..., False, False, False],\n",
      "       ...,\n",
      "       [False, False, False, ..., False, False, False],\n",
      "       [False, False, False, ..., False, False, False],\n",
      "       [False, False, False, ..., False, False, False]]), array([[False, False, False, ...,  True,  True,  True],\n",
      "       [False, False, False, ...,  True,  True,  True],\n",
      "       [False, False, False, ...,  True,  True,  True],\n",
      "       ...,\n",
      "       [False, False, False, ...,  True,  True,  True],\n",
      "       [False, False, False, ...,  True,  True,  True],\n",
      "       [False, False, False, ...,  True,  True,  True]]), array([[False, False, False, ..., False, False, False],\n",
      "       [ True,  True,  True, ..., False, False, False],\n",
      "       [ True,  True,  True, ..., False, False, False],\n",
      "       ...,\n",
      "       [ True,  True,  True, ..., False, False, False],\n",
      "       [ True,  True,  True, ..., False, False, False],\n",
      "       [ True,  True,  True, ..., False, False, False]]), array([[False, False, False, ..., False, False, False],\n",
      "       [False, False, False, ..., False, False, False],\n",
      "       [False, False, False, ..., False, False, False],\n",
      "       ...,\n",
      "       [False, False, False, ..., False, False, False],\n",
      "       [False, False, False, ..., False, False, False],\n",
      "       [False, False, False, ..., False, False, False]]), array([[False, False, False, ..., False, False, False],\n",
      "       [False, False, False, ..., False, False, False],\n",
      "       [False, False, False, ..., False, False, False],\n",
      "       ...,\n",
      "       [False, False, False, ..., False, False, False],\n",
      "       [False, False, False, ..., False, False, False],\n",
      "       [False, False, False, ..., False, False, False]]), array([[False, False, False, ..., False, False, False],\n",
      "       [False, False, False, ..., False, False, False],\n",
      "       [False, False, False, ..., False, False, False],\n",
      "       ...,\n",
      "       [False, False, False, ..., False, False, False],\n",
      "       [False, False, False, ..., False, False, False],\n",
      "       [False, False, False, ..., False, False, False]]), array([[False, False, False, ..., False, False, False],\n",
      "       [False, False, False, ..., False, False, False],\n",
      "       [False, False, False, ..., False, False, False],\n",
      "       ...,\n",
      "       [False, False, False, ..., False, False, False],\n",
      "       [False, False, False, ..., False, False, False],\n",
      "       [False, False, False, ..., False, False, False]]), array([[False, False, False, ..., False, False, False],\n",
      "       [False, False, False, ..., False, False, False],\n",
      "       [False, False, False, ..., False, False, False],\n",
      "       ...,\n",
      "       [False, False, False, ..., False, False, False],\n",
      "       [False, False, False, ..., False, False, False],\n",
      "       [False, False, False, ..., False, False, False]])]\n",
      "cluster_p_values:[0.07  0.006 0.012 0.404 0.322 0.847 0.877 0.215]\n",
      "H0:[1.88548210e+06 5.04627317e+02 1.21086377e+03 5.06013970e+01\n",
      " 1.88548210e+06 2.76795021e+02 3.33317421e+03 1.79620455e+02\n",
      " 5.42345533e+02 2.63662197e+01 2.80319652e+02 4.36229568e+02\n",
      " 4.52573013e+02 2.28305612e+01 2.12241840e+04 5.64279619e+00\n",
      " 4.02439113e+02 0.00000000e+00 4.52573013e+02 0.00000000e+00\n",
      " 1.21872128e+02 1.00630468e+03 1.61749390e+03 1.78876608e+02\n",
      " 7.35604731e+03 8.18807765e+01 1.78876608e+02 0.00000000e+00\n",
      " 6.90738982e+03 1.24451408e+04 1.42565630e+04 5.14359244e+02\n",
      " 2.46391876e+01 2.12241840e+04 1.40136481e+02 1.78876608e+02\n",
      " 0.00000000e+00 6.59195482e+01 3.79493296e+02 6.83774222e+04\n",
      " 5.84052754e+01 2.63662197e+01 0.00000000e+00 1.05069319e+03\n",
      " 2.63662197e+01 5.64175045e+02 1.21872128e+02 2.32913231e+04\n",
      " 2.88097713e+03 6.83774222e+04 1.09237929e+03 4.27733493e+03\n",
      " 5.06013970e+01 5.06388958e+03 1.79620455e+02 7.42075176e+04\n",
      " 5.84052754e+01 5.06013970e+01 2.89986204e+02 8.61669247e+02\n",
      " 9.85203454e+01 5.64279619e+00 1.66624332e+03 7.68775154e+02\n",
      " 8.61669247e+02 4.51277385e+03 2.23411276e+01 1.57344105e+02\n",
      " 7.31686642e+02 5.87573528e+03 2.12241840e+04 2.28305612e+01\n",
      " 4.36229568e+02 1.66624332e+03 8.61669247e+02 2.76795021e+02\n",
      " 4.28024230e+02 7.42075176e+04 3.70813672e+02 2.76795021e+02\n",
      " 5.42345533e+02 2.12241840e+04 0.00000000e+00 1.00630468e+03\n",
      " 1.82347117e+02 4.55613596e+03 1.10636405e+02 5.14359244e+02\n",
      " 1.21086377e+03 3.43165451e+03 5.35700918e+01 0.00000000e+00\n",
      " 2.46391876e+01 2.32913231e+04 8.10920437e+02 7.16545745e+01\n",
      " 8.11411564e+02 7.63552655e+01 1.25077139e+03 7.63552655e+01\n",
      " 6.20393619e+01 6.66370341e+02 5.64175045e+02 2.01890875e+02\n",
      " 6.84000552e+04 7.72339271e+03 0.00000000e+00 3.70813672e+02\n",
      " 1.21872128e+02 8.61669247e+02 1.11085430e+03 4.52573013e+02\n",
      " 1.88548210e+06 9.85203454e+01 1.11085430e+03 4.52573013e+02\n",
      " 1.10636405e+02 1.13745840e+03 7.85889852e+02 6.59195482e+01\n",
      " 2.89986204e+02 9.69202071e+02 1.07641742e+02 3.96645537e+02\n",
      " 4.97098547e+03 8.69692461e+02 4.02439113e+02 2.88097713e+03\n",
      " 1.11085430e+03 3.43165451e+03 3.96645537e+02 9.52411502e+02\n",
      " 6.66370341e+02 8.61669247e+02 8.51490012e+02 1.82347117e+02\n",
      " 5.84052754e+01 1.10636405e+02 1.66050676e+02 5.64175045e+02\n",
      " 3.33317421e+03 3.59753667e+04 5.06547786e+02 3.79493296e+02\n",
      " 4.02439113e+02 1.00630468e+03 0.00000000e+00 9.52411502e+02\n",
      " 9.85203454e+01 8.10920437e+02 2.24147242e+02 7.68775154e+02\n",
      " 7.85889852e+02 8.10920437e+02 1.88548210e+06 3.87610149e+02\n",
      " 5.64175045e+02 4.55613596e+03 1.82347117e+02 4.52573013e+02\n",
      " 5.98133114e+02 7.68775154e+02 3.79493296e+02 4.45179568e+02\n",
      " 4.27733493e+03 8.61669247e+02 6.66370341e+02 1.79620455e+02\n",
      " 6.72558121e+02 1.09237929e+03 0.00000000e+00 0.00000000e+00\n",
      " 3.43165451e+03 2.24147242e+02 1.66050676e+02 9.85203454e+01\n",
      " 1.40136481e+02 7.20660075e+04 2.88097713e+03 5.14359244e+02\n",
      " 3.96645537e+02 6.59195482e+01 8.18807765e+01 1.61749390e+03\n",
      " 1.25077139e+03 3.93255970e+02 0.00000000e+00 7.68775154e+02\n",
      " 1.78876608e+02 6.59195482e+01 1.10636405e+02 1.25077139e+03\n",
      " 5.98133114e+02 1.57344105e+02 2.76795021e+02 1.88548210e+06\n",
      " 3.70813672e+02 1.61749390e+03 3.01941859e+02 2.88097713e+03\n",
      " 3.79493296e+02 8.61669247e+02 1.61749390e+03 1.09046539e+01\n",
      " 1.88548210e+06 6.94304480e+02 1.13745840e+03 7.63552655e+01\n",
      " 8.75088755e+02 1.05069319e+03 7.68775154e+02 2.34978617e+03\n",
      " 7.20660075e+04 6.90738982e+03 5.06388958e+03 1.61888090e+02\n",
      " 1.20058497e+03 6.94304480e+02 5.06547786e+02 2.32913231e+04\n",
      " 8.69692461e+02 5.06990396e+02 4.04585294e+02 4.36229568e+02\n",
      " 2.34978617e+03 7.16545745e+01 1.09237929e+03 8.61669247e+02\n",
      " 5.10824192e+01 1.02140117e+02 8.10920437e+02 1.02140117e+02\n",
      " 4.45179568e+02 1.20058497e+03 2.24147242e+02 6.20393619e+01\n",
      " 8.18807765e+01 4.23004637e+02 6.83774222e+04 1.24451408e+04\n",
      " 4.97098547e+03 7.16545745e+01 0.00000000e+00 3.70813672e+02\n",
      " 1.66624332e+03 3.93255970e+02 7.35604731e+03 5.38645600e+00\n",
      " 3.01941859e+02 1.00630468e+03 9.69202071e+02 6.84000552e+04\n",
      " 1.02140117e+02 2.24147242e+02 1.66624332e+03 5.06990396e+02\n",
      " 1.42565630e+04 1.09237929e+03 8.51490012e+02 5.64175045e+02\n",
      " 4.10536083e+01 9.85203454e+01 4.55613596e+03 9.85203454e+01\n",
      " 6.64458703e+01 7.16545745e+01 1.07658116e+02 7.20660075e+04\n",
      " 5.98133114e+02 3.87610149e+02 4.45179568e+02 1.66624332e+03\n",
      " 8.10920437e+02 6.64458703e+01 5.35700918e+01 4.51277385e+03\n",
      " 1.10636405e+02 1.11085430e+03 5.64175045e+02 4.04585294e+02\n",
      " 7.68775154e+02 6.72558121e+02 7.35604731e+03 1.21872128e+02\n",
      " 6.40276447e+03 4.52573013e+02 4.97098547e+03 1.42565630e+04\n",
      " 4.51277385e+03 1.07658116e+02 4.97098547e+03 5.64175045e+02\n",
      " 0.00000000e+00 1.85663321e+03 0.00000000e+00 1.21872128e+02\n",
      " 6.20393619e+01 0.00000000e+00 4.30198463e+03 9.85203454e+01\n",
      " 2.23411276e+01 6.83774222e+04 1.10636405e+02 1.25077139e+03\n",
      " 3.96645537e+02 1.02140117e+02 7.42075176e+04 4.04585294e+02\n",
      " 7.31686642e+02 1.24451408e+04 7.85889852e+02 8.18807765e+01\n",
      " 1.09046539e+01 4.30198463e+03 4.28024230e+02 8.61669247e+02\n",
      " 0.00000000e+00 8.69692461e+02 3.70813672e+02 6.90738982e+03\n",
      " 6.64458703e+01 1.25077139e+03 0.00000000e+00 4.52573013e+02\n",
      " 1.66050676e+02 4.36229568e+02 4.27733493e+03 4.51277385e+03\n",
      " 2.12241840e+04 1.88548210e+06 1.25077139e+03 5.55566093e+02\n",
      " 1.61749390e+03 0.00000000e+00 4.36229568e+02 1.91689947e+01\n",
      " 1.85663321e+03 6.13371833e+03 2.46391876e+01 2.76795021e+02\n",
      " 0.00000000e+00 1.61888090e+02 6.64458703e+01 1.09237929e+03\n",
      " 4.04585294e+02 6.59424080e+01 2.28305612e+01 1.05069319e+03\n",
      " 4.55613596e+03 6.66370341e+02 7.85889852e+02 2.28305612e+01\n",
      " 4.28024230e+02 4.28024230e+02 3.01941859e+02 2.28305612e+01\n",
      " 1.79620455e+02 2.01890875e+02 3.93255970e+02 3.59753667e+04\n",
      " 1.13101010e+02 5.10824192e+01 6.59195482e+01 1.61749390e+03\n",
      " 0.00000000e+00 1.00630468e+03 1.85663321e+03 1.61749390e+03\n",
      " 8.18807765e+01 1.19308175e+03 2.32913231e+04 4.97098547e+03\n",
      " 4.45179568e+02 3.01941859e+02 0.00000000e+00 3.59753667e+04\n",
      " 4.27733493e+03 2.09236181e+03 8.51490012e+02 2.32913231e+04\n",
      " 4.36229568e+02 0.00000000e+00 4.02439113e+02 2.32913231e+04\n",
      " 4.52573013e+02 1.57344105e+02 2.32913231e+04 8.11411564e+02\n",
      " 5.06013970e+01 5.06013970e+01 0.00000000e+00 1.88548210e+06\n",
      " 6.66370341e+02 8.11411564e+02 1.91689947e+01 2.09236181e+03\n",
      " 9.69202071e+02 2.24147242e+02 8.69692461e+02 6.90738982e+03\n",
      " 5.14359244e+02 1.05069319e+03 1.85663321e+03 2.24147242e+02\n",
      " 8.51490012e+02 4.52573013e+02 2.34978617e+03 1.10636405e+02\n",
      " 0.00000000e+00 6.64458703e+01 6.59195482e+01 0.00000000e+00\n",
      " 1.66624332e+03 8.11411564e+02 5.55566093e+02 6.20393619e+01\n",
      " 5.64571316e+01 5.38645600e+00 0.00000000e+00 1.40136481e+02\n",
      " 2.09236181e+03 1.79620455e+02 6.59424080e+01 2.88097713e+03\n",
      " 7.16545745e+01 1.79620455e+02 6.59424080e+01 4.30198463e+03\n",
      " 8.75088755e+02 0.00000000e+00 5.10824192e+01 4.02439113e+02\n",
      " 0.00000000e+00 4.30198463e+03 4.36229568e+02 8.75088755e+02\n",
      " 4.97098547e+03 5.64279619e+00 1.13101010e+02 1.07658116e+02\n",
      " 6.59424080e+01 4.27733493e+03 3.59753667e+04 5.10824192e+01\n",
      " 4.36229568e+02 1.91689947e+01 5.64175045e+02 8.61669247e+02\n",
      " 6.13371833e+03 8.10920437e+02 6.84000552e+04 4.28024230e+02\n",
      " 4.52573013e+02 4.45179568e+02 6.90738982e+03 6.91989842e+02\n",
      " 4.52573013e+02 6.72558121e+02 4.23004637e+02 4.28024230e+02\n",
      " 1.25195563e+02 4.36229568e+02 9.85203454e+01 4.51277385e+03\n",
      " 5.38645600e+00 1.40136481e+02 1.07658116e+02 1.10636405e+02\n",
      " 6.13371833e+03 3.33317421e+03 1.61888090e+02 4.30198463e+03\n",
      " 5.06547786e+02 1.89828913e+03 1.24451408e+04 3.93255970e+02\n",
      " 5.35700918e+01 1.88548210e+06 1.24451408e+04 1.85663321e+03\n",
      " 1.61749390e+03 8.11411564e+02 0.00000000e+00 6.72558121e+02\n",
      " 8.11411564e+02 4.97098547e+03 5.06547786e+02 3.33317421e+03\n",
      " 5.87573528e+03 2.80319652e+02 1.66050676e+02 1.00630468e+03\n",
      " 7.20660075e+04 8.75088755e+02 5.84052754e+01 7.44476082e+04\n",
      " 7.20660075e+04 7.16545745e+01 3.79493296e+02 4.10536083e+01\n",
      " 9.85203454e+01 1.61888090e+02 9.69202071e+02 1.78876608e+02\n",
      " 6.72558121e+02 5.64279619e+00 5.06990396e+02 4.36229568e+02\n",
      " 6.72558121e+02 2.09236181e+03 1.05069319e+03 8.11411564e+02\n",
      " 2.28305612e+01 0.00000000e+00 7.72339271e+03 2.46391876e+01\n",
      " 5.06990396e+02 4.55613596e+03 3.43165451e+03 1.05069319e+03\n",
      " 4.27733493e+03 1.89828913e+03 4.97098547e+03 0.00000000e+00\n",
      " 5.55566093e+02 1.00630468e+03 1.85663321e+03 6.13371833e+03\n",
      " 3.59753667e+04 1.57344105e+02 3.33317421e+03 8.61669247e+02\n",
      " 7.31686642e+02 4.02439113e+02 6.59424080e+01 2.34978617e+03\n",
      " 1.21872128e+02 9.85203454e+01 4.45179568e+02 4.28024230e+02\n",
      " 5.64175045e+02 0.00000000e+00 6.13371833e+03 5.06013970e+01\n",
      " 7.85889852e+02 8.18807765e+01 0.00000000e+00 5.38645600e+00\n",
      " 3.33317421e+03 1.40136481e+02 2.32913231e+04 3.33317421e+03\n",
      " 8.11411564e+02 0.00000000e+00 7.16545745e+01 5.64279619e+00\n",
      " 5.42345533e+02 4.51277385e+03 4.10536083e+01 1.02140117e+02\n",
      " 4.02439113e+02 5.06990396e+02 5.06013970e+01 7.85889852e+02\n",
      " 4.30198463e+03 5.14359244e+02 5.06388958e+03 5.06547786e+02\n",
      " 3.43165451e+03 8.18807765e+01 2.63662197e+01 5.35700918e+01\n",
      " 1.78876608e+02 4.36229568e+02 8.69692461e+02 7.63552655e+01\n",
      " 1.79620455e+02 4.04585294e+02 5.38645600e+00 4.45179568e+02\n",
      " 1.91689947e+01 6.72558121e+02 7.35604731e+03 5.06388958e+03\n",
      " 2.09236181e+03 2.46391876e+01 6.84000552e+04 5.06990396e+02\n",
      " 2.24147242e+02 2.88097713e+03 1.21872128e+02 5.35700918e+01\n",
      " 9.52411502e+02 1.02140117e+02 1.21872128e+02 0.00000000e+00\n",
      " 5.06013970e+01 2.28305612e+01 3.59753667e+04 6.20393619e+01\n",
      " 0.00000000e+00 6.64458703e+01 7.42075176e+04 7.16545745e+01\n",
      " 5.26946338e+02 4.52573013e+02 5.64571316e+01 3.79493296e+02\n",
      " 5.06547786e+02 7.68775154e+02 1.25195563e+02 5.14359244e+02\n",
      " 4.27733493e+03 1.78876608e+02 6.72558121e+02 1.88548210e+06\n",
      " 5.26946338e+02 9.85203454e+01 5.84052754e+01 8.61669247e+02\n",
      " 6.66370341e+02 2.01890875e+02 1.21086377e+03 6.20393619e+01\n",
      " 8.51490012e+02 6.59195482e+01 5.10824192e+01 3.43165451e+03\n",
      " 6.84000552e+04 1.11085430e+03 5.55566093e+02 2.34978617e+03\n",
      " 8.75088755e+02 0.00000000e+00 1.24451408e+04 8.69692461e+02\n",
      " 1.57344105e+02 0.00000000e+00 0.00000000e+00 4.36229568e+02\n",
      " 1.19308175e+03 5.04627317e+02 4.36229568e+02 1.78876608e+02\n",
      " 6.59424080e+01 4.52573013e+02 6.90738982e+03 5.06547786e+02\n",
      " 1.66624332e+03 7.85889852e+02 6.90738982e+03 6.20393619e+01\n",
      " 3.93255970e+02 1.07641742e+02 1.88548210e+06 4.10536083e+01\n",
      " 1.78876608e+02 1.82347117e+02 1.57344105e+02 1.07641742e+02\n",
      " 3.33317421e+03 1.42565630e+04 3.33317421e+03 1.09237929e+03\n",
      " 4.10536083e+01 3.01941859e+02 1.85663321e+03 5.98133114e+02\n",
      " 1.09237929e+03 3.96645537e+02 8.51490012e+02 6.59195482e+01\n",
      " 7.31686642e+02 3.59753667e+04 4.55613596e+03 1.57344105e+02\n",
      " 9.69202071e+02 7.63552655e+01 7.85889852e+02 1.66624332e+03\n",
      " 7.31686642e+02 0.00000000e+00 0.00000000e+00 0.00000000e+00\n",
      " 5.98133114e+02 4.52573013e+02 7.72339271e+03 1.00630468e+03\n",
      " 2.01890875e+02 5.10824192e+01 8.69692461e+02 5.06388958e+03\n",
      " 3.59753667e+04 5.06990396e+02 6.13371833e+03 2.32913231e+04\n",
      " 1.85663321e+03 1.25077139e+03 8.18807765e+01 6.20393619e+01\n",
      " 3.93255970e+02 1.24451408e+04 2.01890875e+02 0.00000000e+00\n",
      " 2.01890875e+02 4.28024230e+02 2.23411276e+01 1.85663321e+03\n",
      " 6.64458703e+01 6.59424080e+01 4.27733493e+03 7.16545745e+01\n",
      " 4.04585294e+02 5.06547786e+02 5.84052754e+01 6.84000552e+04\n",
      " 0.00000000e+00 8.18807765e+01 1.40136481e+02 4.36229568e+02\n",
      " 1.21086377e+03 2.46391876e+01 0.00000000e+00 2.28305612e+01\n",
      " 7.44476082e+04 1.40136481e+02 5.14359244e+02 3.43165451e+03\n",
      " 1.24451408e+04 6.13371833e+03 1.11085430e+03 5.06547786e+02\n",
      " 6.59195482e+01 6.72558121e+02 1.91689947e+01 1.19308175e+03\n",
      " 4.04585294e+02 4.55613596e+03 7.85889852e+02 5.98133114e+02\n",
      " 5.64571316e+01 3.93255970e+02 5.26946338e+02 1.61888090e+02\n",
      " 4.28024230e+02 5.06013970e+01 8.18807765e+01 5.87573528e+03\n",
      " 5.06013970e+01 4.23004637e+02 3.43165451e+03 1.20058497e+03\n",
      " 0.00000000e+00 7.72339271e+03 5.06547786e+02 8.69692461e+02\n",
      " 1.21086377e+03 3.70813672e+02 7.63552655e+01 6.66370341e+02\n",
      " 5.84052754e+01 8.51490012e+02 3.93255970e+02 1.91689947e+01\n",
      " 3.93255970e+02 4.30198463e+03 1.21086377e+03 3.33317421e+03\n",
      " 5.10824192e+01 4.55613596e+03 8.51490012e+02 5.64279619e+00\n",
      " 0.00000000e+00 6.91989842e+02 9.85203454e+01 4.04585294e+02\n",
      " 9.69202071e+02 3.43165451e+03 5.42345533e+02 7.42075176e+04\n",
      " 1.88548210e+06 1.09237929e+03 0.00000000e+00 3.01941859e+02\n",
      " 4.04585294e+02 4.10536083e+01 6.40276447e+03 7.35604731e+03\n",
      " 7.63552655e+01 1.89828913e+03 5.64571316e+01 1.40136481e+02\n",
      " 3.70813672e+02 6.13371833e+03 5.87573528e+03 8.51490012e+02\n",
      " 2.12241840e+04 6.91989842e+02 6.13371833e+03 1.61749390e+03\n",
      " 5.64571316e+01 7.44476082e+04 5.14359244e+02 7.85889852e+02\n",
      " 6.91989842e+02 6.94304480e+02 4.45179568e+02 5.06990396e+02\n",
      " 3.43165451e+03 4.45179568e+02 3.59753667e+04 5.98133114e+02\n",
      " 1.85663321e+03 1.09237929e+03 7.85889852e+02 5.98133114e+02\n",
      " 3.87610149e+02 3.01941859e+02 1.82347117e+02 2.88097713e+03\n",
      " 5.98133114e+02 6.64458703e+01 8.75088755e+02 6.90738982e+03\n",
      " 1.21086377e+03 1.40136481e+02 1.20058497e+03 2.32913231e+04\n",
      " 6.59424080e+01 3.96645537e+02 1.24451408e+04 2.76795021e+02\n",
      " 1.00630468e+03 1.21872128e+02 1.09046539e+01 3.93255970e+02\n",
      " 6.91989842e+02 1.25195563e+02 1.85663321e+03 3.59753667e+04\n",
      " 1.42565630e+04 1.85663321e+03 9.85203454e+01 5.26946338e+02\n",
      " 5.98133114e+02 7.85889852e+02 8.10920437e+02 6.84000552e+04\n",
      " 1.66050676e+02 1.10636405e+02 5.38645600e+00 1.42565630e+04\n",
      " 2.28305612e+01 9.52411502e+02 2.32913231e+04 1.07658116e+02\n",
      " 2.76795021e+02 2.24147242e+02 5.55566093e+02 8.69692461e+02\n",
      " 4.45179568e+02 2.63662197e+01 1.91689947e+01 4.27733493e+03\n",
      " 4.45179568e+02 0.00000000e+00 7.31686642e+02 1.57344105e+02\n",
      " 1.24451408e+04 1.21872128e+02 4.97098547e+03 0.00000000e+00\n",
      " 4.28024230e+02 1.82347117e+02 1.61888090e+02 0.00000000e+00\n",
      " 1.11085430e+03 1.78876608e+02 1.13101010e+02 5.06990396e+02\n",
      " 1.57344105e+02 1.05069319e+03 4.02439113e+02 1.66624332e+03\n",
      " 6.64458703e+01 0.00000000e+00 0.00000000e+00 1.85663321e+03\n",
      " 1.13745840e+03 4.28024230e+02 5.14359244e+02 1.02140117e+02\n",
      " 5.55566093e+02 3.33317421e+03 1.79620455e+02 5.64175045e+02\n",
      " 3.93255970e+02 9.69202071e+02 1.25195563e+02 1.85663321e+03\n",
      " 4.55613596e+03 1.21872128e+02 7.42075176e+04 6.59424080e+01\n",
      " 2.88097713e+03 1.79620455e+02 1.13745840e+03 6.20393619e+01\n",
      " 4.04585294e+02 5.98133114e+02 4.10536083e+01 1.13745840e+03\n",
      " 5.42345533e+02 2.28305612e+01 8.18807765e+01 1.25195563e+02\n",
      " 7.44476082e+04 5.06547786e+02 9.85203454e+01 0.00000000e+00\n",
      " 5.98133114e+02 0.00000000e+00 5.06547786e+02 1.13101010e+02\n",
      " 5.64279619e+00 5.87573528e+03 2.09236181e+03 3.93255970e+02\n",
      " 0.00000000e+00 4.02439113e+02 4.04585294e+02 4.04585294e+02\n",
      " 6.59195482e+01 7.35604731e+03 5.55566093e+02 1.89828913e+03\n",
      " 4.23004637e+02 5.38645600e+00 4.97098547e+03 1.61749390e+03\n",
      " 1.78876608e+02 5.06013970e+01 0.00000000e+00 1.25077139e+03\n",
      " 5.38645600e+00 1.21872128e+02 0.00000000e+00 2.28305612e+01\n",
      " 7.42075176e+04 3.79493296e+02 1.00630468e+03 3.59753667e+04\n",
      " 8.10920437e+02 5.84052754e+01 2.89986204e+02 4.27733493e+03\n",
      " 7.63552655e+01 6.40276447e+03 4.28024230e+02 1.20058497e+03\n",
      " 5.64279619e+00 1.07641742e+02 1.79620455e+02 1.19308175e+03\n",
      " 5.98133114e+02 8.51490012e+02 8.11411564e+02 4.23004637e+02\n",
      " 1.57344105e+02 1.09046539e+01 3.93255970e+02 6.20393619e+01\n",
      " 7.20660075e+04 6.59424080e+01 1.25195563e+02 1.07658116e+02\n",
      " 4.51277385e+03 8.51490012e+02 4.10536083e+01 0.00000000e+00\n",
      " 5.55566093e+02 8.69692461e+02 1.09237929e+03 1.57344105e+02\n",
      " 3.43165451e+03 8.10920437e+02 5.87573528e+03 3.59753667e+04\n",
      " 5.10824192e+01 0.00000000e+00 7.42075176e+04 1.25195563e+02\n",
      " 2.24147242e+02 3.01941859e+02 0.00000000e+00 7.63552655e+01\n",
      " 1.40136481e+02 5.06013970e+01 5.38645600e+00 8.18807765e+01]\n"
     ]
    },
    {
     "data": {
      "text/plain": "<Figure size 720x288 with 2 Axes>",
      "image/png": "[encoded data removed]"
     },
     "metadata": {
      "needs_background": "light"
     },
     "output_type": "display_data"
    }
   ],
   "source": [
    "%matplotlib inline\n",
    "conds_1 = {'Subject':'32','TOA_cond':'T','Vigilance':'Wn'}\n",
    "conds_2 = {'Subject':'32','TOA_cond':'T','Vigilance':'N3'}\n",
    "clusters, cluster_p_val = time_freq_clustr_perm(conds_1, conds_2, freqs, 'mean',n_cycles)"
   ],
   "metadata": {
    "collapsed": false,
    "pycharm": {
     "name": "#%%\n"
    }
   }
  },
  {
   "cell_type": "code",
   "execution_count": 107,
   "outputs": [
    {
     "name": "stdout",
     "output_type": "stream",
     "text": [
      "Not setting metadata\n",
      "89 matching events found\n",
      "No baseline correction applied\n",
      "0 projection items activated\n",
      "0 bad epochs dropped\n",
      "No baseline correction applied\n",
      "Applying baseline correction (mode: mean)\n",
      "Applying baseline correction (mode: mean)\n",
      "Applying baseline correction (mode: mean)\n",
      "Applying baseline correction (mode: mean)\n",
      "Applying baseline correction (mode: mean)\n",
      "Applying baseline correction (mode: mean)\n"
     ]
    }
   ],
   "source": [
    "%matplotlib qt\n",
    "min_freq = 0.1\n",
    "decim = 2\n",
    "freqs = np.arange(min_freq,50, 0.5)  # define frequencies of interest\n",
    "n_cycles = freqs / 4.  # different number of cycle per frequency\n",
    "conds_1 = {'Subject':'32','TOA_cond':'T','Vigilance':'Wn'}\n",
    "time_freq_cond(conds_1,freqs)"
   ],
   "metadata": {
    "collapsed": false,
    "pycharm": {
     "name": "#%%\n"
    }
   }
  },
  {
   "cell_type": "markdown",
   "source": [
    "Plain as in MNE example - one electrode"
   ],
   "metadata": {
    "collapsed": false,
    "pycharm": {
     "name": "#%% md\n"
    }
   }
  },
  {
   "cell_type": "code",
   "execution_count": 78,
   "outputs": [
    {
     "name": "stdout",
     "output_type": "stream",
     "text": [
      "Not setting metadata\n",
      "89 matching events found\n",
      "Applying baseline correction (mode: mean)\n",
      "0 projection items activated\n",
      "0 bad epochs dropped\n",
      "Not setting metadata\n",
      "90 matching events found\n",
      "Applying baseline correction (mode: mean)\n",
      "0 projection items activated\n",
      "0 bad epochs dropped\n",
      "Not setting metadata\n",
      "Not setting metadata\n",
      "Applying baseline correction (mode: ratio)\n",
      "Applying baseline correction (mode: ratio)\n",
      "stat_fun(H1): min=0.000003 max=36.274221\n",
      "Running initial clustering\n",
      "Found 13 clusters\n",
      "Permuting 999 times...\n"
     ]
    },
    {
     "data": {
      "text/plain": "  0%|          |  : 0/999 [00:00<?,       ?it/s]",
      "application/vnd.jupyter.widget-view+json": {
       "version_major": 2,
       "version_minor": 0,
       "model_id": "adc2d61723c847b59359604ce133436e"
      }
     },
     "metadata": {},
     "output_type": "display_data"
    },
    {
     "name": "stdout",
     "output_type": "stream",
     "text": [
      "Computing cluster p-values\n",
      "Done.\n",
      "Need more than one channel to make topography for eeg. Disabling interactivity.\n"
     ]
    }
   ],
   "source": [
    "conds_1 = {'Subject':'32','TOA_cond':'T','Vigilance':'Wn'}\n",
    "conds_2 = {'Subject':'32','TOA_cond':'T','Vigilance':'N3'}\n",
    "channel_num = 0\n",
    "threshold = 6.0\n",
    "p_value = 0.05\n",
    "decim = 2\n",
    "n_cycles = 1.5\n",
    "freqs = np.arange(7, 120, 3)  # define frequencies of interest\n",
    "n_permutations = 1000\n",
    "\n",
    "def plain_mne_cluster_perm_one_electrodes():\n",
    "    conds_df1, epochs_condition_1 = getEvokedPerCondAndElectd(conds_1,allEpochs_perCond,times, outputType='mne')\n",
    "    conds_df2, epochs_condition_2 = getEvokedPerCondAndElectd(conds_2,allEpochs_perCond,times, outputType='mne')\n",
    "\n",
    "    channel_name = cfg['ch_names'][channel_num]\n",
    "    epochs_condition_1 = epochs_condition_1.pick_channels([channel_name])\n",
    "    epochs_condition_2 = epochs_condition_2.pick_channels([channel_name])\n",
    "\n",
    "    tfr_epochs_1 = tfr_morlet(epochs_condition_1, freqs, n_cycles=n_cycles, decim=decim,return_itc=False, average=False)\n",
    "    tfr_epochs_2 = tfr_morlet(epochs_condition_2, freqs, n_cycles=n_cycles, decim=decim, return_itc=False, average=False)\n",
    "\n",
    "    tfr_epochs_1.apply_baseline(mode='ratio', baseline=(None, 0))\n",
    "    tfr_epochs_2.apply_baseline(mode='ratio', baseline=(None, 0))\n",
    "\n",
    "    epochs_power_1 = tfr_epochs_1.data[:, channel_num, :, :]  # only 1 channel as 3D matrix\n",
    "    epochs_power_2 = tfr_epochs_2.data[:, channel_num, :, :]  # only 1 channel as 3D matrix\n",
    "\n",
    "    F_obs, clusters, cluster_p_values, H0 = permutation_cluster_test([epochs_power_1, epochs_power_2], out_type='mask', n_permutations=n_permutations, threshold=threshold, tail=0)\n",
    "\n",
    "    times_show = 1e3 * epochs_condition_1.times  # change unit to ms\n",
    "\n",
    "    fig, (ax, ax2) = plt.subplots(2, 1, figsize=(6, 4))\n",
    "    fig.subplots_adjust(0.12, 0.08, 0.96, 0.94, 0.2, 0.43)\n",
    "\n",
    "    # Compute the difference in evoked to determine which was greater since\n",
    "    # we used a 1-way ANOVA which tested for a difference in population means\n",
    "    evoked_power_1 = epochs_power_1.mean(axis=0)\n",
    "    evoked_power_2 = epochs_power_2.mean(axis=0)\n",
    "    evoked_power_contrast = evoked_power_1 - evoked_power_2\n",
    "    signs = np.sign(evoked_power_contrast)\n",
    "\n",
    "    # Create new stats image with only significant clusters\n",
    "    F_obs_plot = np.nan * np.ones_like(F_obs)\n",
    "    for c, p_val in zip(clusters, cluster_p_values):\n",
    "        if p_val <= p_value:\n",
    "            F_obs_plot[c] = F_obs[c] * signs[c]\n",
    "\n",
    "    ax.imshow(F_obs,\n",
    "              extent=[times_show[0], times_show[-1], freqs[0], freqs[-1]],\n",
    "              aspect='auto', origin='lower', cmap='gray')\n",
    "    max_F = np.nanmax(abs(F_obs_plot))\n",
    "    ax.imshow(F_obs_plot,\n",
    "              extent=[times_show[0], times_show[-1], freqs[0], freqs[-1]],\n",
    "              aspect='auto', origin='lower', cmap='RdBu_r',\n",
    "              vmin=-max_F, vmax=max_F)\n",
    "\n",
    "    ax.set_xlabel('Time (ms)')\n",
    "    ax.set_ylabel('Frequency (Hz)')\n",
    "    ax.set_title(f'Induced power ({channel_name})')\n",
    "\n",
    "    #plot evoked\n",
    "    evoked_condition_1 = epochs_condition_1.average()\n",
    "    evoked_condition_2 = epochs_condition_2.average()\n",
    "    evoked_contrast = mne.combine_evoked([evoked_condition_1, evoked_condition_2],weights=[1, -1])\n",
    "    evoked_contrast.plot(axes=ax2, time_unit='s')\n",
    "plain_mne_cluster_perm_one_electrodes()"
   ],
   "metadata": {
    "collapsed": false,
    "pycharm": {
     "name": "#%%\n"
    }
   }
  },
  {
   "cell_type": "markdown",
   "source": [
    "Plain as in MNE example - mean electrodes"
   ],
   "metadata": {
    "collapsed": false,
    "pycharm": {
     "name": "#%% md\n"
    }
   }
  },
  {
   "cell_type": "code",
   "execution_count": 79,
   "outputs": [
    {
     "name": "stdout",
     "output_type": "stream",
     "text": [
      "Not setting metadata\n",
      "2492 matching events found\n",
      "Applying baseline correction (mode: mean)\n",
      "0 projection items activated\n",
      "0 bad epochs dropped\n",
      "Not setting metadata\n",
      "2520 matching events found\n",
      "Applying baseline correction (mode: mean)\n",
      "0 projection items activated\n",
      "0 bad epochs dropped\n",
      "Applying baseline correction (mode: ratio)\n",
      "Applying baseline correction (mode: ratio)\n",
      "stat_fun(H1): min=0.006164 max=3694.355349\n",
      "Running initial clustering\n",
      "Found 1 clusters\n",
      "Permuting 999 times...\n"
     ]
    },
    {
     "data": {
      "text/plain": "  0%|          |  : 0/999 [00:00<?,       ?it/s]",
      "application/vnd.jupyter.widget-view+json": {
       "version_major": 2,
       "version_minor": 0,
       "model_id": "7ccfb77209c14effb70a6df2c08590ee"
      }
     },
     "metadata": {},
     "output_type": "display_data"
    },
    {
     "name": "stdout",
     "output_type": "stream",
     "text": [
      "Computing cluster p-values\n",
      "Done.\n"
     ]
    }
   ],
   "source": [
    "%matplotlib qt\n",
    "conds_1 = {'TOA_cond':'T','Vigilance':'Wn'}\n",
    "conds_2 = {'TOA_cond':'T','Vigilance':'N3'}\n",
    "threshold = 10.0 # default 6\n",
    "p_value = 0.05 # default 0.05\n",
    "decim = 2# default 2\n",
    "n_cycles = 1.5 # default 1.5\n",
    "freqs = np.arange(7, 70, 3)  # define frequencies of interest\n",
    "n_permutations=1000 # default 1000\n",
    "\n",
    "def plain_mne_cluster_perm_mean():\n",
    "    conds_df1, epochs_condition_1 = getEvokedPerCondAndElectd(conds_1,allEpochs_perCond,times, outputType='mne')\n",
    "    conds_df2, epochs_condition_2 = getEvokedPerCondAndElectd(conds_2,allEpochs_perCond,times, outputType='mne')\n",
    "\n",
    "    tfr_epochs_1 = tfr_morlet(epochs_condition_1, freqs, n_cycles=n_cycles, decim=decim,\n",
    "                              return_itc=False, average=True)\n",
    "    tfr_epochs_2 = tfr_morlet(epochs_condition_2, freqs, n_cycles=n_cycles, decim=decim,\n",
    "                              return_itc=False, average=True)\n",
    "\n",
    "    tfr_epochs_1.apply_baseline(mode='ratio', baseline=(None, 0))\n",
    "    tfr_epochs_2.apply_baseline(mode='ratio', baseline=(None, 0))\n",
    "\n",
    "    epochs_power_1 = tfr_epochs_1.data\n",
    "    epochs_power_2 = tfr_epochs_2.data\n",
    "\n",
    "    F_obs, clusters, cluster_p_values, H0 = permutation_cluster_test([epochs_power_1, epochs_power_2], out_type='mask', n_permutations=n_permutations, threshold=threshold, tail=0)\n",
    "\n",
    "    times_show = 1e3 * epochs_condition_1.times  # change unit to ms\n",
    "\n",
    "    fig, (ax, ax2) = plt.subplots(2, 1, figsize=(6, 4))\n",
    "    fig.subplots_adjust(0.12, 0.08, 0.96, 0.94, 0.2, 0.43)\n",
    "\n",
    "    # Compute the difference in evoked to determine which was greater since\n",
    "    # we used a 1-way ANOVA which tested for a difference in population means\n",
    "    evoked_power_1 = epochs_power_1.mean(axis=0)\n",
    "    evoked_power_2 = epochs_power_2.mean(axis=0)\n",
    "    evoked_power_contrast = evoked_power_1 - evoked_power_2\n",
    "    signs = np.sign(evoked_power_contrast)\n",
    "\n",
    "    # Create new stats image with only significant clusters\n",
    "    F_obs_plot = np.nan * np.ones_like(F_obs)\n",
    "    for c, p_val in zip(clusters, cluster_p_values):\n",
    "        if p_val <= p_value:\n",
    "            F_obs_plot[c] = F_obs[c] * signs[c]\n",
    "\n",
    "    ax.imshow(F_obs,\n",
    "              extent=[times_show[0], times_show[-1], freqs[0], freqs[-1]],\n",
    "              aspect='auto', origin='lower', cmap='gray')\n",
    "    max_F = np.nanmax(abs(F_obs_plot))\n",
    "    ax.imshow(F_obs_plot,\n",
    "              extent=[times_show[0], times_show[-1], freqs[0], freqs[-1]],\n",
    "              aspect='auto', origin='lower', cmap='RdBu_r',\n",
    "              vmin=-max_F, vmax=max_F)\n",
    "\n",
    "    ax.set_xlabel('Time (ms)')\n",
    "    ax.set_ylabel('Frequency (Hz)')\n",
    "    ax.set_title(f'Induced power mean electrodes')\n",
    "\n",
    "    #plot evoked\n",
    "    evoked_condition_1 = epochs_condition_1.average()\n",
    "    evoked_condition_2 = epochs_condition_2.average()\n",
    "    evoked_contrast = mne.combine_evoked([evoked_condition_1, evoked_condition_2],weights=[1, -1])\n",
    "    evoked_contrast.plot(axes=ax2, time_unit='s')\n",
    "\n",
    "plain_mne_cluster_perm_mean()"
   ],
   "metadata": {
    "collapsed": false,
    "pycharm": {
     "name": "#%%\n"
    }
   }
  },
  {
   "cell_type": "code",
   "execution_count": 121,
   "outputs": [
    {
     "name": "stdout",
     "output_type": "stream",
     "text": [
      "Not setting metadata\n",
      "2492 matching events found\n",
      "Setting baseline interval to [-0.1, 0.0] sec\n",
      "Applying baseline correction (mode: mean)\n",
      "0 projection items activated\n",
      "0 bad epochs dropped\n",
      "Applying baseline correction (mode: zscore)\n",
      "Applying baseline correction (mode: zscore)\n",
      "Not setting metadata\n",
      "2520 matching events found\n",
      "Setting baseline interval to [-0.1, 0.0] sec\n",
      "Applying baseline correction (mode: mean)\n",
      "0 projection items activated\n",
      "0 bad epochs dropped\n",
      "Applying baseline correction (mode: zscore)\n",
      "Applying baseline correction (mode: zscore)\n",
      "stat_fun(H1): min=0.000013 max=59130.879308\n",
      "Running initial clustering\n",
      "Found 15 clusters\n",
      "Permuting 999 times...\n"
     ]
    },
    {
     "data": {
      "text/plain": "  0%|          |  : 0/999 [00:00<?,       ?it/s]",
      "application/vnd.jupyter.widget-view+json": {
       "version_major": 2,
       "version_minor": 0,
       "model_id": "cb448e1656e8468d9009048f1707c02b"
      }
     },
     "metadata": {},
     "output_type": "display_data"
    },
    {
     "name": "stdout",
     "output_type": "stream",
     "text": [
      "Computing cluster p-values\n",
      "Done.\n",
      "No baseline correction applied\n",
      "Applying baseline correction (mode: mean)\n",
      "Applying baseline correction (mode: mean)\n",
      "Applying baseline correction (mode: mean)\n",
      "Applying baseline correction (mode: mean)\n",
      "Applying baseline correction (mode: mean)\n",
      "Applying baseline correction (mode: mean)\n"
     ]
    },
    {
     "data": {
      "text/plain": "<Figure size 432x288 with 2 Axes>",
      "image/png": "[encoded data removed]"
     },
     "execution_count": 121,
     "metadata": {},
     "output_type": "execute_result"
    }
   ],
   "source": [
    "%matplotlib qt\n",
    "cont_1 = {'TOA_cond':'T','Vigilance':'Wn'} #'Subject':'32'\n",
    "cont_2 = {'TOA_cond':'T','Vigilance':'N3'}\n",
    "\n",
    "threshold = 1000.0 # default 6\n",
    "\n",
    "#### Right decisions:\n",
    "# ==================\n",
    "# zscore baseline\n",
    "## Tail is 0, so the statistic is thresholded on both sides of the distribution.\n",
    "baseline = (None, 0)\n",
    "p_value = 0.05 # default 0.05\n",
    "decim = 2# default 2 for testing.. For reals - 1\n",
    "n_permutations=1000 # default 1k for testing. For reals - 10K\n",
    "min_freq = 4\n",
    "freqs = np.arange(min_freq,70, 1)  # define frequencies of interest\n",
    "# another option:\n",
    "n_cycles = freqs / min_freq # different number of cycle per frequency\n",
    "\n",
    "\n",
    "contrasts = [cont_1, cont_2]\n",
    "epochs_power = []\n",
    "epochs_condition = []\n",
    "tfrs_epochs_avg = []\n",
    "tfrs_epochs = []\n",
    "\n",
    "for c_i, contrast in enumerate(contrasts):\n",
    "    conds_df, cont_epochs = getEvokedPerCondAndElectd(contrast,allEpochs_perCond,times, outputType='mne')\n",
    "    tfr_epochs_avg = tfr_morlet(cont_epochs, freqs, n_cycles=n_cycles, decim=decim, average=True, return_itc=False)\n",
    "    tfr_epochs = tfr_morlet(cont_epochs, freqs=freqs, n_cycles=n_cycles, decim=decim, average=True, return_itc=False)\n",
    "    tfr_epochs_avg.apply_baseline(mode='zscore', baseline=baseline)\n",
    "    tfr_epochs.apply_baseline(mode='zscore', baseline=baseline)\n",
    "\n",
    "    epochs_power.append(tfr_epochs.data)\n",
    "    epochs_condition.append(cont_epochs)\n",
    "    tfrs_epochs.append(tfr_epochs)\n",
    "    tfrs_epochs_avg.append(tfr_epochs_avg)\n",
    "\n",
    "F_obs, clusters, cluster_p_values, H0 = permutation_cluster_test(epochs_power, out_type='mask', n_permutations=n_permutations, threshold=threshold, tail=0,verbose=True)\n",
    "\n",
    "#plot\n",
    "# ============================\n",
    "\n",
    "times_show = 1e3 * epochs_condition[0].times  # change unit to ms\n",
    "\n",
    "\n",
    "tfrs_epochs[0].plot_topo(title=f'Average power, {contrasts[0]}')\n",
    "fig, axis = plt.subplots(1, len(freq_bands)+1, figsize=(20, 4))\n",
    "for f_i, freq_band in enumerate(freq_bands.values()):\n",
    "    tfrs_epochs[0].plot_topomap(ch_type='eeg', tmin=times_show[0], tmax=times_show[-1], fmin=freq_band['min'], fmax=freq_band['max'], baseline=baseline, axes=axis[f_i], title=freq_band['title'])\n",
    "tfrs_epochs[0].plot_topomap(ch_type='eeg', tmin=times_show[0], tmax=times_show[-1], fmin=freqs[0], fmax=freqs[-1],baseline=baseline,  axes=axis[len(freq_bands)], title=f'All range ({freqs[0]}-{freqs[-1]} Hz)')\n",
    "mne.viz.tight_layout()\n",
    "plt.show()\n",
    "\n",
    "fig, (ax, ax2) = plt.subplots(2, 1, figsize=(6, 4))\n",
    "fig.subplots_adjust(0.12, 0.08, 0.96, 0.94, 0.2, 0.43)\n",
    "\n",
    "# Compute the difference in evoked to determine which was greater since\n",
    "# we used a 1-way ANOVA which tested for a difference in population means\n",
    "evoked_power_1 = epochs_power[0].mean(axis=0)\n",
    "evoked_power_2 = epochs_power[1].mean(axis=0)\n",
    "evoked_power_contrast = evoked_power_1 - evoked_power_2\n",
    "signs = np.sign(evoked_power_contrast)\n",
    "\n",
    "# Create new stats image with only significant clusters\n",
    "F_obs_plot = np.nan * np.ones_like(F_obs)\n",
    "for c, p_val in zip(clusters, cluster_p_values):\n",
    "    if p_val <= p_value:\n",
    "        F_obs_plot[c] = F_obs[c] * signs[c]\n",
    "\n",
    "times_show = 1e3 * epochs_condition[0].times  # change unit to ms\n",
    "ax.imshow(F_obs,\n",
    "          extent=[times_show[0], times_show[-1], freqs[0], freqs[-1]],\n",
    "          aspect='auto', origin='lower', cmap='gray')\n",
    "max_F = np.nanmax(abs(F_obs_plot))\n",
    "ax.imshow(F_obs_plot,\n",
    "          extent=[times_show[0], times_show[-1], freqs[0], freqs[-1]],\n",
    "          aspect='auto', origin='lower', cmap='RdBu_r',\n",
    "          vmin=-max_F, vmax=max_F)\n",
    "\n",
    "ax.set_xlabel('Time (ms)')\n",
    "ax.set_ylabel('Frequency (Hz)')\n",
    "ax.set_title(f'Induced power mean electrodes\\nContrasts {contrasts}')\n",
    "\n",
    "#plot evoked\n",
    "evoked_condition_1 = epochs_condition[0].average()\n",
    "evoked_condition_2 = epochs_condition[1].average()\n",
    "evoked_contrast = mne.combine_evoked([evoked_condition_1, evoked_condition_2],weights=[1, -1])\n",
    "evoked_contrast.plot(axes=ax2, time_unit='s')"
   ],
   "metadata": {
    "collapsed": false,
    "pycharm": {
     "name": "#%%\n"
    }
   }
  }
 ],
 "metadata": {
  "kernelspec": {
   "display_name": "Python 3",
   "language": "python",
   "name": "python3"
  },
  "language_info": {
   "codemirror_mode": {
    "name": "ipython",
    "version": 2
   },
   "file_extension": ".py",
   "mimetype": "text/x-python",
   "name": "python",
   "nbconvert_exporter": "python",
   "pygments_lexer": "ipython2",
   "version": "2.7.6"
  }
 },
 "nbformat": 4,
 "nbformat_minor": 0
}