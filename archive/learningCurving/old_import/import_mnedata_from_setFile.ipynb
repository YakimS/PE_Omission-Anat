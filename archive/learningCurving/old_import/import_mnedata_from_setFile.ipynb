{
 "cells": [
  {
   "cell_type": "markdown",
   "source": [
    "Important note:\n",
    "This import is faulty. it results in a positive range of values and distorts the data."
   ],
   "metadata": {
    "collapsed": false,
    "pycharm": {
     "name": "#%% md\n"
    }
   }
  },
  {
   "cell_type": "code",
   "execution_count": 1,
   "outputs": [],
   "source": [
    "%reset -f\n",
    "\n",
    "import numpy as np\n",
    "import pickle\n",
    "import mne\n",
    "from mne import io\n",
    "import joblib\n",
    "from tqdm import tqdm\n",
    "import gc\n",
    "\n",
    "## less verbose output\n",
    "import logging, sys\n",
    "logging.disable(sys.maxsize)"
   ],
   "metadata": {
    "collapsed": false,
    "pycharm": {
     "name": "#%%\n"
    }
   }
  },
  {
   "cell_type": "markdown",
   "source": [
    "Choose parameters"
   ],
   "metadata": {
    "collapsed": false,
    "pycharm": {
     "name": "#%% md\n"
    }
   }
  },
  {
   "cell_type": "code",
   "execution_count": 1,
   "outputs": [
    {
     "ename": "NameError",
     "evalue": "name 'np' is not defined",
     "output_type": "error",
     "traceback": [
      "\u001B[1;31m---------------------------------------------------------------------------\u001B[0m",
      "\u001B[1;31mNameError\u001B[0m                                 Traceback (most recent call last)",
      "Input \u001B[1;32mIn [1]\u001B[0m, in \u001B[0;36m<cell line: 16>\u001B[1;34m()\u001B[0m\n\u001B[0;32m     14\u001B[0m sleepstages \u001B[38;5;241m=\u001B[39m [\u001B[38;5;124m'\u001B[39m\u001B[38;5;124mN2\u001B[39m\u001B[38;5;124m'\u001B[39m, \u001B[38;5;124m'\u001B[39m\u001B[38;5;124mN3\u001B[39m\u001B[38;5;124m'\u001B[39m, \u001B[38;5;124m'\u001B[39m\u001B[38;5;124mRp\u001B[39m\u001B[38;5;124m'\u001B[39m, \u001B[38;5;124m'\u001B[39m\u001B[38;5;124mRt\u001B[39m\u001B[38;5;124m'\u001B[39m]\n\u001B[0;32m     15\u001B[0m wakestages \u001B[38;5;241m=\u001B[39m [\u001B[38;5;124m'\u001B[39m\u001B[38;5;124mWn\u001B[39m\u001B[38;5;124m'\u001B[39m]\n\u001B[1;32m---> 16\u001B[0m vigelenceStages \u001B[38;5;241m=\u001B[39m \u001B[43mnp\u001B[49m\u001B[38;5;241m.\u001B[39mconcatenate((sleepstages,wakestages))\n\u001B[0;32m     18\u001B[0m trialNums \u001B[38;5;241m=\u001B[39m \u001B[38;5;28mrange\u001B[39m(\u001B[38;5;241m0\u001B[39m,\u001B[38;5;241m9\u001B[39m)\n\u001B[0;32m     20\u001B[0m electrodes\u001B[38;5;241m=\u001B[39m[\u001B[38;5;241m4\u001B[39m,\u001B[38;5;241m5\u001B[39m,\u001B[38;5;241m10\u001B[39m,\u001B[38;5;241m79\u001B[39m,\u001B[38;5;241m84\u001B[39m]\n",
      "\u001B[1;31mNameError\u001B[0m: name 'np' is not defined"
     ]
    }
   ],
   "source": [
    "all_subjs = ['8','9','10','11','12','13','14','15','16','17','19','20','21','23','24','25','26','27','28','29','30','31','32','33','34','35','36','37','38']\n",
    "\n",
    "all_good_subjects = ['32','35','36','37','38']\n",
    "all_wake_data_subjects = ['32','33','34','35','38']\n",
    "all_reref_data_subjects = ['32','33','34','35','38']\n",
    "\n",
    "list1_as_set = set(all_good_subjects)\n",
    "intersection = list1_as_set.intersection(all_wake_data_subjects)\n",
    "all_goodAndGotWakeData_subjects = list(intersection)\n",
    "\n",
    "toneHieghts = ['650','845','1098','1428','1856','2413','3137','4079','5302']\n",
    "toneTypes = ['O','T'] # There are A/O/T\n",
    "\n",
    "sleepstages = ['N2', 'N3', 'Rp', 'Rt']\n",
    "wakestages = ['Wn']\n",
    "vigelenceStages = np.concatenate((sleepstages,wakestages))\n",
    "\n",
    "trialNums = range(0,9)\n",
    "\n",
    "electrodes=[4,5,10,79,84]\n",
    "\n",
    "data_path='C:\\AnatArzData\\Data\\\\rerefrenced'\n",
    "data_path1='C:\\AnatArzData\\Data\\RDMs_and_distances_results'\n",
    "data_path2='C:\\AnatArzData\\Data\\EEG_data_for_analysis'\n",
    "\n",
    "folderpath_output = 'C:\\AnatArzData\\Data'\n",
    "filename_evoked = 'subs_evoked_1sub_reref_mneRerefAverage'\n",
    "filename_epochs = 'subs_epochs_1sub_reref_mneRerefAverage'\n",
    "\n",
    "##########################\n",
    "### chosen parameters\n",
    "##########################\n",
    "subs = ['32']\n",
    "toneHieghts = toneHieghts\n",
    "toneTypes = toneTypes\n",
    "sleepstages = sleepstages\n",
    "wakestages = wakestages\n",
    "trialNums = trialNums\n",
    "electrodes = electrodes\n",
    "##########################"
   ],
   "metadata": {
    "collapsed": false,
    "pycharm": {
     "name": "#%%\n"
    }
   }
  },
  {
   "cell_type": "code",
   "execution_count": 5,
   "outputs": [
    {
     "name": "stderr",
     "output_type": "stream",
     "text": [
      "0it [00:00, ?it/s]C:\\Users\\Sharon\\anaconda3\\Lib\\site-packages\\pymatreader\\utils.py:122: UserWarning: Complex objects (like classes) are not supported. They are imported on a best effort base but your mileage will vary.\n",
      "  warn('Complex objects (like classes) are not supported. '\n",
      "C:\\Users\\Sharon\\AppData\\Local\\Temp\\ipykernel_22292\\1772481130.py:13: RuntimeWarning: Unknown types found, setting as type EEG:\n",
      "ref: ['Cz']\n",
      "  try: currSub_eeglabEpochs = io.read_epochs_eeglab(subject_setfile_sleep, events=None, event_id=None,  eog=(),verbose=None, uint16_codec=None)\n",
      "C:\\Users\\Sharon\\anaconda3\\Lib\\site-packages\\pymatreader\\utils.py:122: UserWarning: Complex objects (like classes) are not supported. They are imported on a best effort base but your mileage will vary.\n",
      "  warn('Complex objects (like classes) are not supported. '\n",
      "C:\\Users\\Sharon\\AppData\\Local\\Temp\\ipykernel_22292\\1772481130.py:37: RuntimeWarning: Unknown types found, setting as type EEG:\n",
      "ref: ['Cz']\n",
      "  currSub_eeglabEpochs = io.read_epochs_eeglab(subject_setfile_wake, events=None, event_id=None,  eog=(),verbose=None, uint16_codec=None)\n",
      "1it [1:04:07, 3847.17s/it]\n"
     ]
    }
   ],
   "source": [
    "## import all data to dictionary with events name\n",
    "def import_data(subs, toneHieghts, toneTypes, sleepstages,wakestages,trialNums, electrodes):\n",
    "    alldata_epochs = {}\n",
    "    alldata_evoked = {}\n",
    "    for sub_i, sub in tqdm(enumerate(subs)):\n",
    "        ## evacuate memo\n",
    "        gc.collect()\n",
    "        try: del currSub_eeglabEpochs\n",
    "        except NameError: pass\n",
    "\n",
    "        ## sleep: get eeglabEpochs for a subject\n",
    "        subject_setfile_sleep = data_path + '/s_' + sub + '_sleep_referenced.set'\n",
    "        try: currSub_eeglabEpochs = io.read_epochs_eeglab(subject_setfile_sleep, events=None, event_id=None,  eog=(),verbose=None, uint16_codec=None)\n",
    "        except FileNotFoundError: continue\n",
    "        currSub_eeglabEpochs = currSub_eeglabEpochs.set_eeg_reference(ref_channels='average')\n",
    "        ## arrange all epochs in an dict\n",
    "        for ss_i, ss in enumerate(sleepstages):\n",
    "            for toneHi_i, toneHi in enumerate(toneHieghts):\n",
    "                for toneTy_i, toneTy in enumerate(toneTypes):\n",
    "                    for trial_i, trial in enumerate(trialNums):\n",
    "                        try:\n",
    "                            trial_name = f\"{ss}{toneTy}{toneHi}_{trial}\"\n",
    "                            currTrial_eeglabEpoch = currSub_eeglabEpochs[trial_name]\n",
    "                            currTrial_mneEpoch = mne.concatenate_epochs([currTrial_eeglabEpoch])\n",
    "                            currTrial_mneEpoch.pick(electrodes)\n",
    "                            alldata_epochs[f\"s{sub}_{trial_name}\"] = currTrial_mneEpoch\n",
    "                            alldata_evoked[f\"s{sub}_{trial_name}\"] = currTrial_mneEpoch.average()\n",
    "                        except KeyError: continue\n",
    "\n",
    "        ## evacuate memo\n",
    "        gc.collect()\n",
    "        try: del currSub_eeglabEpochs\n",
    "        except NameError: pass\n",
    "        ## Wake: get eeglabEpochs for a subject\n",
    "        try:\n",
    "            subject_setfile_wake = data_path + '/s_' + sub + '_wake_night_referenced.set'\n",
    "            currSub_eeglabEpochs = io.read_epochs_eeglab(subject_setfile_wake, events=None, event_id=None,  eog=(),verbose=None, uint16_codec=None)\n",
    "        except FileNotFoundError: continue\n",
    "        ## arrange all epochs in an dict\n",
    "        for ws_i, ws in enumerate(wakestages):\n",
    "            for toneHi_i, toneHi in enumerate(toneHieghts):\n",
    "                for toneTy_i, toneTy in enumerate(toneTypes):\n",
    "                    for trial_i, trial in enumerate(trialNums):\n",
    "                        try:\n",
    "                            if ws == 'Wn':\n",
    "                                ws_name = ''\n",
    "                            else:\n",
    "                                ws_name = ws\n",
    "                            trial_name = f\"{ws_name}{toneTy}{toneHi}_{trial}\"\n",
    "                            currTrial_eeglabEpoch = currSub_eeglabEpochs[trial_name]\n",
    "                            #currTrial_eeglabEpoch = currTrial_eeglabEpoch.set_eeg_reference(ref_channels='average')\n",
    "                            currTrial_mneEpoch = mne.concatenate_epochs([currTrial_eeglabEpoch])\n",
    "                            currTrial_mneEpoch.pick(electrodes)\n",
    "                            alldata_epochs[f\"s{sub}_{ws}{trial_name}\"] = currTrial_mneEpoch\n",
    "                            alldata_evoked[f\"s{sub}_{ws}{trial_name}\"] = currTrial_mneEpoch.average()\n",
    "                        except KeyError: continue\n",
    "    return  alldata_epochs, alldata_evoked\n",
    "\n",
    "alldata_epochs, alldata_evoked = import_data(subs, toneHieghts, toneTypes, sleepstages,wakestages,trialNums, electrodes)"
   ],
   "metadata": {
    "collapsed": false,
    "pycharm": {
     "name": "#%%\n"
    }
   }
  },
  {
   "cell_type": "code",
   "execution_count": null,
   "outputs": [],
   "source": [
    "# save\n",
    "joblib.dump(alldata_evoked, f\"{folderpath_output}\\\\{filename_evoked}\")\n",
    "joblib.dump(alldata_epochs, f\"{folderpath_output}\\\\{filename_epochs}\")\n",
    "#alldata_evoked = joblib.load(filename)"
   ],
   "metadata": {
    "collapsed": false,
    "pycharm": {
     "name": "#%%\n",
     "is_executing": true
    }
   }
  },
  {
   "cell_type": "code",
   "execution_count": null,
   "outputs": [],
   "source": [
    "# Saving the objects:\n",
    "f = open(f\"{folderpath_output}\\\\{filename_epochs}_vars.pkl\", 'wb')\n",
    "pickle.dump([subs, toneHieghts, toneTypes, sleepstages,wakestages,trialNums, electrodes], f)\n",
    "f.close()"
   ],
   "metadata": {
    "collapsed": false,
    "pycharm": {
     "name": "#%%\n",
     "is_executing": true
    }
   }
  },
  {
   "cell_type": "markdown",
   "source": [
    "## Try with eeglab seperately improted data"
   ],
   "metadata": {
    "collapsed": false,
    "pycharm": {
     "name": "#%% md\n"
    }
   }
  },
  {
   "cell_type": "code",
   "execution_count": null,
   "outputs": [],
   "source": [
    "## import all data to dictionary with events name\n",
    "def import_data(subs, toneHieghts, toneTypes, sleepstages,wakestages,trialNums, electrodes):\n",
    "    alldata_epochs = {}\n",
    "    alldata_evoked = {}\n",
    "    for sub_i, sub in tqdm(enumerate(subs)):\n",
    "        ## evacuate memo\n",
    "        gc.collect()\n",
    "        try: del currSub_eeglabEpochs\n",
    "        except NameError: pass\n",
    "\n",
    "        ## sleep: get eeglabEpochs for a subject\n",
    "        subject_setfile_sleep = data_path + '/s_' + sub + '_sleep_referenced.set'\n",
    "        try: currSub_eeglabEpochs = io.read_epochs_eeglab(subject_setfile_sleep, events=None, event_id=None,  eog=(),verbose=None, uint16_codec=None)\n",
    "        except FileNotFoundError: continue\n",
    "\n",
    "        currSub_eeglabEpochs.\n",
    "\n",
    "        ## arrange all epochs in an dict\n",
    "        for ss_i, ss in enumerate(sleepstages):\n",
    "            for toneHi_i, toneHi in enumerate(toneHieghts):\n",
    "                for toneTy_i, toneTy in enumerate(toneTypes):\n",
    "                    for trial_i, trial in enumerate(trialNums):\n",
    "                        try:\n",
    "                            trial_name = f\"{ss}{toneTy}{toneHi}_{trial}\"\n",
    "                            currTrial_eeglabEpoch = currSub_eeglabEpochs[trial_name]\n",
    "                            currTrial_mneEpoch = mne.concatenate_epochs([currTrial_eeglabEpoch])\n",
    "                            currTrial_mneEpoch.pick(electrodes)\n",
    "                            alldata_epochs[f\"s{sub}_{trial_name}\"] = currTrial_mneEpoch\n",
    "                            alldata_evoked[f\"s{sub}_{trial_name}\"] = currTrial_mneEpoch.average()\n",
    "                        except KeyError: continue\n",
    "\n",
    "        ## evacuate memo\n",
    "        gc.collect()\n",
    "        try: del currSub_eeglabEpochs\n",
    "        except NameError: pass\n",
    "        ## Wake: get eeglabEpochs for a subject\n",
    "        try:\n",
    "            subject_setfile_wake = data_path + '/s_' + sub + '_wake_night_referenced.set'\n",
    "            currSub_eeglabEpochs = io.read_epochs_eeglab(subject_setfile_wake, events=None, event_id=None,  eog=(),verbose=None, uint16_codec=None)\n",
    "        except FileNotFoundError: continue\n",
    "        ## arrange all epochs in an dict\n",
    "        for ws_i, ws in enumerate(wakestages):\n",
    "            for toneHi_i, toneHi in enumerate(toneHieghts):\n",
    "                for toneTy_i, toneTy in enumerate(toneTypes):\n",
    "                    for trial_i, trial in enumerate(trialNums):\n",
    "                        try:\n",
    "                            if ws == 'Wn':\n",
    "                                ws_name = ''\n",
    "                            else:\n",
    "                                ws_name = ws\n",
    "                            trial_name = f\"{ws_name}{toneTy}{toneHi}_{trial}\"\n",
    "                            currTrial_eeglabEpoch = currSub_eeglabEpochs[trial_name]\n",
    "                            #currTrial_eeglabEpoch = currTrial_eeglabEpoch.set_eeg_reference(ref_channels='average')\n",
    "                            currTrial_mneEpoch = mne.concatenate_epochs([currTrial_eeglabEpoch])\n",
    "                            currTrial_mneEpoch.pick(electrodes)\n",
    "                            alldata_epochs[f\"s{sub}_{ws}{trial_name}\"] = currTrial_mneEpoch\n",
    "                            alldata_evoked[f\"s{sub}_{ws}{trial_name}\"] = currTrial_mneEpoch.average()\n",
    "                        except KeyError: continue\n",
    "    return  alldata_epochs, alldata_evoked\n",
    "\n",
    "alldata_epochs, alldata_evoked = import_data(subs, toneHieghts, toneTypes, sleepstages,wakestages,trialNums, electrodes)"
   ],
   "metadata": {
    "collapsed": false,
    "pycharm": {
     "name": "#%%\n"
    }
   }
  }
 ],
 "metadata": {
  "kernelspec": {
   "display_name": "Python 3",
   "language": "python",
   "name": "python3"
  },
  "language_info": {
   "codemirror_mode": {
    "name": "ipython",
    "version": 2
   },
   "file_extension": ".py",
   "mimetype": "text/x-python",
   "name": "python",
   "nbconvert_exporter": "python",
   "pygments_lexer": "ipython2",
   "version": "2.7.6"
  }
 },
 "nbformat": 4,
 "nbformat_minor": 0
}