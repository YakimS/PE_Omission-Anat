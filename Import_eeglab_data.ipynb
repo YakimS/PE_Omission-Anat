{
 "cells": [
  {
   "cell_type": "code",
   "execution_count": 58,
   "metadata": {
    "collapsed": false,
    "pycharm": {
     "name": "#%%\n"
    }
   },
   "outputs": [],
   "source": [
    "%reset"
   ]
  },
  {
   "cell_type": "code",
   "execution_count": 70,
   "metadata": {
    "collapsed": false,
    "pycharm": {
     "name": "#%%\n"
    }
   },
   "outputs": [],
   "source": [
    "import matplotlib.pyplot as plt\n",
    "import numpy as np\n",
    "import scipy.io\n",
    "import pandas as pd\n",
    "import pickle\n",
    "import copy\n",
    "import pandas as pd\n",
    "from tqdm.notebook import tqdm_notebook\n",
    "import os"
   ]
  },
  {
   "cell_type": "code",
   "execution_count": 60,
   "metadata": {
    "collapsed": false,
    "pycharm": {
     "name": "#%%\n"
    }
   },
   "outputs": [],
   "source": [
    "epochs_dir = 'C:\\AnatArzData\\YKM_data\\epochs_and_evoked_allSubs'\n",
    "prepro_name = \"referenced\"\n",
    "import_type = \"5Electorodes_plainEEGLAB\"\n",
    "file_types = ['wake','sleep']"
   ]
  },
  {
   "cell_type": "code",
   "execution_count": 77,
   "metadata": {
    "collapsed": false,
    "pycharm": {
     "name": "#%%\n"
    }
   },
   "outputs": [],
   "source": [
    "all_subjects = np.array(\n",
    "    ['08', '09', '10','11', '12','13', '14', '15', '16','17', '19', '20', '21', '23', '24', '25', '26', '27', '28', '29', '30', '31', '32', '33', '34','35', '36', '37', '38'])\n",
    "outlier_subs_major_exp_fault = ['12','18','22']\n",
    "valid_subs = np.delete(all_subjects,np.isin(all_subjects,outlier_subs_major_exp_fault))\n",
    "subs = valid_subs\n",
    "\n",
    "cfg = {}\n",
    "cfg['outputs_dir_path'] = 'C:\\AnatArzData\\YKM_data\\outputs'\n",
    "cfg['epochs_dir'] = 'C:\\AnatArzData\\YKM_data\\epochs_and_evoked_allSubs'\n",
    "cfg['set_files_dir'] =  'C:\\\\AnatArzData\\\\Data\\\\reref'\n",
    "\n",
    "cfg['prepro_name'] = prepro_name\n",
    "cfg['sleep_states_eeglab'] = np.asarray(['N1','N2','N3','Rt','Rp'])\n",
    "cfg['sleep_states'] =  np.asarray(['N2','N3','REM'])\n",
    "cfg['wake_states'] = np.asarray(['Wn'])\n",
    "cfg['vigi_states'] = np.concatenate([cfg['wake_states'],cfg['sleep_states']])\n",
    "cfg['vigi_states_eeglab'] =np.concatenate([cfg['wake_states'],cfg['sleep_states_eeglab']])\n",
    "cfg['TOA'] = np.asarray(['T','O','A'])\n",
    "cfg['electrodes'] = np.asarray([4,5,10,79,84]) # In MATLAB they are [5,6,11,80,85]\n",
    "cfg['ch_names'] = np.asarray(['E6','E7','E13','E106','E112'])\n",
    "cfg['samples_per_epoch'] = 138\n",
    "cfg['toneHeights'] = np.asarray(['650','845','1098','1428','1856','2413','3137','4079','5302'])\n",
    "cfg['trialPositions'] = np.asarray(['0','1','2','3','4','5','6','7','8','9'])\n",
    "cfg['subs'] = valid_subs\n",
    "cfg['outlier_subs'] = outlier_subs_major_exp_fault\n",
    "cfg['times'] = np.arange(-100,452,4)\n",
    "cfg['sample_freq'] = 250\n",
    "\n",
    "fig_output_dir = f\"{cfg['outputs_dir_path']}/import\"\n",
    "if not os.path.exists(fig_output_dir):\n",
    "    os.mkdir(fig_output_dir)"
   ]
  },
  {
   "cell_type": "code",
   "execution_count": 62,
   "metadata": {
    "collapsed": false,
    "pycharm": {
     "name": "#%%\n"
    }
   },
   "outputs": [],
   "source": [
    "freq_bands = {}\n",
    "# freq_bands['Delta'] = {}\n",
    "# freq_bands['Delta']['min'] = 0\n",
    "# freq_bands['Delta']['max'] = 4\n",
    "# freq_bands['Delta']['title'] = f\"Delta ({freq_bands['Delta']['min']}-{freq_bands['Delta']['max']} Hz)\"\n",
    "\n",
    "freq_bands['Theta'] = {}\n",
    "freq_bands['Theta']['min'] = 4\n",
    "freq_bands['Theta']['max'] = 8\n",
    "freq_bands['Theta']['title'] = f\"Theta ({freq_bands['Theta']['min']}-{freq_bands['Theta']['max']} Hz)\"\n",
    "\n",
    "freq_bands['Alpha'] = {}\n",
    "freq_bands['Alpha']['min'] = 8\n",
    "freq_bands['Alpha']['max'] = 12\n",
    "freq_bands['Alpha']['title'] = f\"Alpha ({freq_bands['Alpha']['min']}-{freq_bands['Alpha']['max']} Hz)\"\n",
    "\n",
    "freq_bands['Beta'] = {}\n",
    "freq_bands['Beta']['min'] = 12\n",
    "freq_bands['Beta']['max'] = 30\n",
    "freq_bands['Beta']['title'] = f\"Beta ({freq_bands['Beta']['min']}-{freq_bands['Beta']['max']} Hz)\"\n",
    "\n",
    "freq_bands['Gamma'] = {}\n",
    "freq_bands['Gamma']['min'] = 30\n",
    "freq_bands['Gamma']['max'] = 45\n",
    "freq_bands['Gamma']['title'] = f\"Gamma ({freq_bands['Gamma']['min']}-{freq_bands['Gamma']['max']} Hz)\"\n",
    "\n",
    "cfg['freq_bands'] = freq_bands"
   ]
  },
  {
   "cell_type": "code",
   "execution_count": 63,
   "metadata": {
    "collapsed": false,
    "pycharm": {
     "name": "#%%\n"
    }
   },
   "outputs": [
    {
     "data": {
      "text/plain": "  0%|          | 0/28 [00:00<?, ?it/s]",
      "application/vnd.jupyter.widget-view+json": {
       "version_major": 2,
       "version_minor": 0,
       "model_id": "c3541117e6e14ebbbeeca3f0ab019a7d"
      }
     },
     "metadata": {},
     "output_type": "display_data"
    }
   ],
   "source": [
    "# get the columns for the conditions table\n",
    "numOfRows = len(subs) * len(cfg['sleep_states_eeglab']) * len(cfg['toneHeights'] ) * len(cfg['TOA'] ) * len(cfg['trialPositions'])\n",
    "allEvents_arr = np.zeros((numOfRows, 8), dtype=object)\n",
    "allEpochs_perCond = {}\n",
    "curr_row_num = 0\n",
    "event_str =''\n",
    "\n",
    "# populate table and with subject's conditions metadata and create an eeg data dictionary with condition as key\n",
    "for sub in tqdm_notebook(subs):\n",
    "    #print(f'Importing sub: {sub}')\n",
    "    ## upload subject's files\n",
    "    sub_load_filepath = f'{epochs_dir}\\\\epochs_sub{sub}_{prepro_name}_{import_type}.mat'\n",
    "    try: matlabImport = scipy.io.loadmat(sub_load_filepath, simplify_cells=True)\n",
    "    except Exception: print(f'Error importing sub file at: {sub_load_filepath}')\n",
    "\n",
    "    for file_type in file_types:\n",
    "        events_eeglabStruct = matlabImport[f'subEvents_{file_type}']\n",
    "        events_eeglab_df = pd.DataFrame(events_eeglabStruct)\n",
    "        epochs_eeglabStruct =  matlabImport[f'subAllEpochs_{file_type}']\n",
    "\n",
    "        if file_type == 'sleep':\n",
    "            curr_file_vg_states_eeglab = cfg['sleep_states']\n",
    "        elif file_type == 'wake':\n",
    "            curr_file_vg_states_eeglab =  cfg['wake_states']\n",
    "\n",
    "        for vg_i, curr_vg in enumerate(curr_file_vg_states_eeglab):\n",
    "            for toneTy_i, curr_toneTy in enumerate(cfg['TOA'] ):\n",
    "                for toneHi_i, curr_toneHi in enumerate(cfg['toneHeights'] ):\n",
    "                    for trialPos_i, curr_trialPos in enumerate(cfg['trialPositions']):\n",
    "                        if      curr_vg == 'Wn': curr_vg_eeglabaname = ''\n",
    "                        else:   curr_vg_eeglabaname = curr_vg\n",
    "\n",
    "                        if curr_vg == 'REM':\n",
    "                            event_str1 = f\"{'Rp'}{curr_toneTy}{curr_toneHi}_{curr_trialPos}\"\n",
    "                            event_str2 = f\"{'Rt'}{curr_toneTy}{curr_toneHi}_{curr_trialPos}\"\n",
    "                            curr_event_df = events_eeglab_df[(events_eeglab_df['type'] == event_str1) | (events_eeglab_df['type'] == event_str2)]\n",
    "                        else:\n",
    "                            event_str = f\"{curr_vg_eeglabaname}{curr_toneTy}{curr_toneHi}_{curr_trialPos}\"\n",
    "                            curr_event_df = events_eeglab_df[(events_eeglab_df['type'] == event_str)]\n",
    "\n",
    "                        curr_event_epochs_eeglab_ids = np.asarray(curr_event_df['epoch'])\n",
    "\n",
    "                        ## handles WnT1428_4,WnT1428_3 issue by taking every first WnT1428_3 event only\n",
    "                        if event_str == 'T1428_3':\n",
    "                            i = 0\n",
    "                            while i<len(curr_event_epochs_eeglab_ids)-1:\n",
    "                                if curr_event_epochs_eeglab_ids[i] == curr_event_epochs_eeglab_ids[i+1]-1:\n",
    "                                    curr_event_epochs_eeglab_ids = np.delete(curr_event_epochs_eeglab_ids,i+1)\n",
    "                                else:\n",
    "                                    i+=1\n",
    "\n",
    "                        sample_in_cond = len(curr_event_epochs_eeglab_ids)\n",
    "                        if sample_in_cond > 0:\n",
    "                            allEpochs_perCond[f\"{curr_row_num}\"] = epochs_eeglabStruct[:,:,curr_event_epochs_eeglab_ids - 1]  ## matlab start counting from 1\n",
    "                        allEvents_arr[curr_row_num, :] = [curr_row_num, sub, curr_vg, curr_toneTy, curr_toneHi, curr_trialPos, sample_in_cond,curr_event_epochs_eeglab_ids]\n",
    "\n",
    "                        curr_row_num += 1"
   ]
  },
  {
   "cell_type": "code",
   "execution_count": 64,
   "metadata": {
    "collapsed": false,
    "pycharm": {
     "name": "#%%\n"
    }
   },
   "outputs": [
    {
     "data": {
      "text/plain": "      Cond_id Subject Vigilance TOA ToneHeight TrialPosition SamplesCount  \\\n0           0      08        Wn   T        650             0           24   \n1           1      08        Wn   T        650             1           24   \n2           2      08        Wn   T        650             2           24   \n3           3      08        Wn   T        650             3           24   \n4           4      08        Wn   T        650             4           24   \n...       ...     ...       ...  ..        ...           ...          ...   \n30235   30235      38       REM   A       5302             5            0   \n30236   30236      38       REM   A       5302             6            0   \n30237   30237      38       REM   A       5302             7            0   \n30238   30238      38       REM   A       5302             8            0   \n30239   30239      38       REM   A       5302             9            0   \n\n                                        Epoch_eeglab_ids  \n0      [142, 262, 422, 682, 942, 1062, 1262, 1582, 16...  \n1      [144, 264, 424, 684, 944, 1064, 1264, 1584, 16...  \n2      [146, 266, 426, 686, 946, 1066, 1266, 1586, 16...  \n3      [148, 268, 428, 688, 948, 1068, 1268, 1588, 16...  \n4      [150, 270, 430, 690, 950, 1070, 1270, 1590, 16...  \n...                                                  ...  \n30235                                                 []  \n30236                                                 []  \n30237                                                 []  \n30238                                                 []  \n30239                                                 []  \n\n[30240 rows x 8 columns]",
      "text/html": "<div>\n<style scoped>\n    .dataframe tbody tr th:only-of-type {\n        vertical-align: middle;\n    }\n\n    .dataframe tbody tr th {\n        vertical-align: top;\n    }\n\n    .dataframe thead th {\n        text-align: right;\n    }\n</style>\n<table border=\"1\" class=\"dataframe\">\n  <thead>\n    <tr style=\"text-align: right;\">\n      <th></th>\n      <th>Cond_id</th>\n      <th>Subject</th>\n      <th>Vigilance</th>\n      <th>TOA</th>\n      <th>ToneHeight</th>\n      <th>TrialPosition</th>\n      <th>SamplesCount</th>\n      <th>Epoch_eeglab_ids</th>\n    </tr>\n  </thead>\n  <tbody>\n    <tr>\n      <th>0</th>\n      <td>0</td>\n      <td>08</td>\n      <td>Wn</td>\n      <td>T</td>\n      <td>650</td>\n      <td>0</td>\n      <td>24</td>\n      <td>[142, 262, 422, 682, 942, 1062, 1262, 1582, 16...</td>\n    </tr>\n    <tr>\n      <th>1</th>\n      <td>1</td>\n      <td>08</td>\n      <td>Wn</td>\n      <td>T</td>\n      <td>650</td>\n      <td>1</td>\n      <td>24</td>\n      <td>[144, 264, 424, 684, 944, 1064, 1264, 1584, 16...</td>\n    </tr>\n    <tr>\n      <th>2</th>\n      <td>2</td>\n      <td>08</td>\n      <td>Wn</td>\n      <td>T</td>\n      <td>650</td>\n      <td>2</td>\n      <td>24</td>\n      <td>[146, 266, 426, 686, 946, 1066, 1266, 1586, 16...</td>\n    </tr>\n    <tr>\n      <th>3</th>\n      <td>3</td>\n      <td>08</td>\n      <td>Wn</td>\n      <td>T</td>\n      <td>650</td>\n      <td>3</td>\n      <td>24</td>\n      <td>[148, 268, 428, 688, 948, 1068, 1268, 1588, 16...</td>\n    </tr>\n    <tr>\n      <th>4</th>\n      <td>4</td>\n      <td>08</td>\n      <td>Wn</td>\n      <td>T</td>\n      <td>650</td>\n      <td>4</td>\n      <td>24</td>\n      <td>[150, 270, 430, 690, 950, 1070, 1270, 1590, 16...</td>\n    </tr>\n    <tr>\n      <th>...</th>\n      <td>...</td>\n      <td>...</td>\n      <td>...</td>\n      <td>...</td>\n      <td>...</td>\n      <td>...</td>\n      <td>...</td>\n      <td>...</td>\n    </tr>\n    <tr>\n      <th>30235</th>\n      <td>30235</td>\n      <td>38</td>\n      <td>REM</td>\n      <td>A</td>\n      <td>5302</td>\n      <td>5</td>\n      <td>0</td>\n      <td>[]</td>\n    </tr>\n    <tr>\n      <th>30236</th>\n      <td>30236</td>\n      <td>38</td>\n      <td>REM</td>\n      <td>A</td>\n      <td>5302</td>\n      <td>6</td>\n      <td>0</td>\n      <td>[]</td>\n    </tr>\n    <tr>\n      <th>30237</th>\n      <td>30237</td>\n      <td>38</td>\n      <td>REM</td>\n      <td>A</td>\n      <td>5302</td>\n      <td>7</td>\n      <td>0</td>\n      <td>[]</td>\n    </tr>\n    <tr>\n      <th>30238</th>\n      <td>30238</td>\n      <td>38</td>\n      <td>REM</td>\n      <td>A</td>\n      <td>5302</td>\n      <td>8</td>\n      <td>0</td>\n      <td>[]</td>\n    </tr>\n    <tr>\n      <th>30239</th>\n      <td>30239</td>\n      <td>38</td>\n      <td>REM</td>\n      <td>A</td>\n      <td>5302</td>\n      <td>9</td>\n      <td>0</td>\n      <td>[]</td>\n    </tr>\n  </tbody>\n</table>\n<p>30240 rows × 8 columns</p>\n</div>"
     },
     "execution_count": 64,
     "metadata": {},
     "output_type": "execute_result"
    }
   ],
   "source": [
    "allEvents_df = pd.DataFrame(allEvents_arr, columns=['Cond_id', 'Subject', 'Vigilance', 'TOA', 'ToneHeight', 'TrialPosition', 'SamplesCount','Epoch_eeglab_ids'])\n",
    "allEvents_df = allEvents_df[allEvents_df.Subject != 0]\n",
    "allEvents_df"
   ]
  },
  {
   "cell_type": "code",
   "execution_count": 65,
   "metadata": {
    "collapsed": false,
    "pycharm": {
     "name": "#%%\n"
    }
   },
   "outputs": [
    {
     "data": {
      "text/plain": "      Cond_id Subject Vigilance TOA ToneHeight TrialPosition SamplesCount  \\\n0           0      08        Wn   T        650             0           24   \n1           1      08        Wn   T        650             1           24   \n2           2      08        Wn   T        650             2           24   \n3           3      08        Wn   T        650             3           24   \n4           4      08        Wn   T        650             4           24   \n...       ...     ...       ...  ..        ...           ...          ...   \n30235   30235      38       REM   A       5302             5            0   \n30236   30236      38       REM   A       5302             6            0   \n30237   30237      38       REM   A       5302             7            0   \n30238   30238      38       REM   A       5302             8            0   \n30239   30239      38       REM   A       5302             9            0   \n\n                                        Epoch_eeglab_ids TOA_cond  \n0      [142, 262, 422, 682, 942, 1062, 1262, 1582, 16...        T  \n1      [144, 264, 424, 684, 944, 1064, 1264, 1584, 16...        T  \n2      [146, 266, 426, 686, 946, 1066, 1266, 1586, 16...        T  \n3      [148, 268, 428, 688, 948, 1068, 1268, 1588, 16...        T  \n4      [150, 270, 430, 690, 950, 1070, 1270, 1590, 16...        T  \n...                                                  ...      ...  \n30235                                                 []        A  \n30236                                                 []        A  \n30237                                                 []        A  \n30238                                                 []        A  \n30239                                                 []        A  \n\n[30240 rows x 9 columns]",
      "text/html": "<div>\n<style scoped>\n    .dataframe tbody tr th:only-of-type {\n        vertical-align: middle;\n    }\n\n    .dataframe tbody tr th {\n        vertical-align: top;\n    }\n\n    .dataframe thead th {\n        text-align: right;\n    }\n</style>\n<table border=\"1\" class=\"dataframe\">\n  <thead>\n    <tr style=\"text-align: right;\">\n      <th></th>\n      <th>Cond_id</th>\n      <th>Subject</th>\n      <th>Vigilance</th>\n      <th>TOA</th>\n      <th>ToneHeight</th>\n      <th>TrialPosition</th>\n      <th>SamplesCount</th>\n      <th>Epoch_eeglab_ids</th>\n      <th>TOA_cond</th>\n    </tr>\n  </thead>\n  <tbody>\n    <tr>\n      <th>0</th>\n      <td>0</td>\n      <td>08</td>\n      <td>Wn</td>\n      <td>T</td>\n      <td>650</td>\n      <td>0</td>\n      <td>24</td>\n      <td>[142, 262, 422, 682, 942, 1062, 1262, 1582, 16...</td>\n      <td>T</td>\n    </tr>\n    <tr>\n      <th>1</th>\n      <td>1</td>\n      <td>08</td>\n      <td>Wn</td>\n      <td>T</td>\n      <td>650</td>\n      <td>1</td>\n      <td>24</td>\n      <td>[144, 264, 424, 684, 944, 1064, 1264, 1584, 16...</td>\n      <td>T</td>\n    </tr>\n    <tr>\n      <th>2</th>\n      <td>2</td>\n      <td>08</td>\n      <td>Wn</td>\n      <td>T</td>\n      <td>650</td>\n      <td>2</td>\n      <td>24</td>\n      <td>[146, 266, 426, 686, 946, 1066, 1266, 1586, 16...</td>\n      <td>T</td>\n    </tr>\n    <tr>\n      <th>3</th>\n      <td>3</td>\n      <td>08</td>\n      <td>Wn</td>\n      <td>T</td>\n      <td>650</td>\n      <td>3</td>\n      <td>24</td>\n      <td>[148, 268, 428, 688, 948, 1068, 1268, 1588, 16...</td>\n      <td>T</td>\n    </tr>\n    <tr>\n      <th>4</th>\n      <td>4</td>\n      <td>08</td>\n      <td>Wn</td>\n      <td>T</td>\n      <td>650</td>\n      <td>4</td>\n      <td>24</td>\n      <td>[150, 270, 430, 690, 950, 1070, 1270, 1590, 16...</td>\n      <td>T</td>\n    </tr>\n    <tr>\n      <th>...</th>\n      <td>...</td>\n      <td>...</td>\n      <td>...</td>\n      <td>...</td>\n      <td>...</td>\n      <td>...</td>\n      <td>...</td>\n      <td>...</td>\n      <td>...</td>\n    </tr>\n    <tr>\n      <th>30235</th>\n      <td>30235</td>\n      <td>38</td>\n      <td>REM</td>\n      <td>A</td>\n      <td>5302</td>\n      <td>5</td>\n      <td>0</td>\n      <td>[]</td>\n      <td>A</td>\n    </tr>\n    <tr>\n      <th>30236</th>\n      <td>30236</td>\n      <td>38</td>\n      <td>REM</td>\n      <td>A</td>\n      <td>5302</td>\n      <td>6</td>\n      <td>0</td>\n      <td>[]</td>\n      <td>A</td>\n    </tr>\n    <tr>\n      <th>30237</th>\n      <td>30237</td>\n      <td>38</td>\n      <td>REM</td>\n      <td>A</td>\n      <td>5302</td>\n      <td>7</td>\n      <td>0</td>\n      <td>[]</td>\n      <td>A</td>\n    </tr>\n    <tr>\n      <th>30238</th>\n      <td>30238</td>\n      <td>38</td>\n      <td>REM</td>\n      <td>A</td>\n      <td>5302</td>\n      <td>8</td>\n      <td>0</td>\n      <td>[]</td>\n      <td>A</td>\n    </tr>\n    <tr>\n      <th>30239</th>\n      <td>30239</td>\n      <td>38</td>\n      <td>REM</td>\n      <td>A</td>\n      <td>5302</td>\n      <td>9</td>\n      <td>0</td>\n      <td>[]</td>\n      <td>A</td>\n    </tr>\n  </tbody>\n</table>\n<p>30240 rows × 9 columns</p>\n</div>"
     },
     "execution_count": 65,
     "metadata": {},
     "output_type": "execute_result"
    }
   ],
   "source": [
    "## add auxiliary column\n",
    "def TOA_type(row):\n",
    "    if row['TOA'] == 'O' and (row['TrialPosition'] == '6' or row['TrialPosition'] == '7' or row['TrialPosition'] == '8'):\n",
    "        return 'Rand'\n",
    "    elif row['TOA'] == 'O' and row['TrialPosition']=='9':\n",
    "        return 'Fixed'\n",
    "    else:\n",
    "        return row['TOA']\n",
    "allEvents_df['TOA_cond'] = allEvents_df.apply(lambda row: TOA_type(row), axis=1)\n",
    "allEvents_df"
   ]
  },
  {
   "cell_type": "code",
   "execution_count": 66,
   "metadata": {
    "collapsed": false,
    "pycharm": {
     "name": "#%%\n"
    }
   },
   "outputs": [],
   "source": [
    "# output: [#conds, #elect, #times]\n",
    "def getEpochsPerConstraint(constraints):\n",
    "    curr_df =allEvents_df.copy(deep=True)\n",
    "    # apply constraints\n",
    "    for key in constraints: curr_df = curr_df[(curr_df[key] == constraints[key])]\n",
    "\n",
    "    curr_df = curr_df[(curr_df.SamplesCount > 0)] # discard cond with 0 enough samples\n",
    "    epochsPerCond = {}\n",
    "    for key in curr_df.Cond_id:\n",
    "        epochsPerCond[str(key)] = allEpochs_perCond[str(key)]\n",
    "\n",
    "    ## load the metadata first and them the data. More time efficient\n",
    "    epochs_name_in_const = []\n",
    "    epochs_trial_num_per_cond = []\n",
    "    for cond in epochsPerCond:\n",
    "        for curr_cond_trial in range( epochsPerCond[cond].shape[2]):\n",
    "            if len(epochs_name_in_const)==0:\n",
    "                epochs_name_in_const =[cond]\n",
    "                epochs_trial_num_per_cond =[curr_cond_trial]\n",
    "            else:\n",
    "                epochs_name_in_const = np.append(epochs_name_in_const,cond)\n",
    "                epochs_trial_num_per_cond = np.append(epochs_trial_num_per_cond,curr_cond_trial)\n",
    "\n",
    "    epochs_in_const = np.zeros((len(epochs_name_in_const),len(cfg['electrodes']),len(cfg['times'])))\n",
    "    trial = 0\n",
    "    for cond in epochsPerCond:\n",
    "        for curr_cond_trial in range( epochsPerCond[cond].shape[2]):\n",
    "            epochs_in_const[trial,:,:] = epochsPerCond[cond][:,:,curr_cond_trial]\n",
    "            trial+=1\n",
    "\n",
    "    return epochs_in_const, epochs_name_in_const, epochs_trial_num_per_cond"
   ]
  },
  {
   "cell_type": "code",
   "execution_count": 67,
   "outputs": [
    {
     "data": {
      "text/plain": "0it [00:00, ?it/s]",
      "application/vnd.jupyter.widget-view+json": {
       "version_major": 2,
       "version_minor": 0,
       "model_id": "60316f42b90a4b98b03eb07061a5c265"
      }
     },
     "metadata": {},
     "output_type": "display_data"
    }
   ],
   "source": [
    "#### Remove outlier trials\n",
    "# outlier trials are trials which have a time-point with a value which exceeds (thresh*std)s from the subject's time-point at his mean erp\n",
    "toa_cond_arr = ['T','Rand','Fixed']\n",
    "trial_outliers_numOfRows = len(subs) * len(toa_cond_arr) * len(cfg['vigi_states'])\n",
    "trial_outliers_arr = np.zeros((trial_outliers_numOfRows, 6), dtype=object)\n",
    "\n",
    "const={}\n",
    "allEpochs_perCond_trialFilt =copy.deepcopy(allEpochs_perCond)\n",
    "allEvents_df_trialFilt = allEvents_df.copy(deep=True)\n",
    "std_thresh = 3\n",
    "subs_reg_trials_perc = np.zeros(len(cfg['subs']))\n",
    "curr_row_num = 0\n",
    "for sub_i,sub in tqdm_notebook(enumerate(cfg['subs'])):\n",
    "    sub_rej_trials = 0\n",
    "    sub_trials = 0\n",
    "    for vigi in cfg['vigi_states']:\n",
    "        for curr_toa_Cond in toa_cond_arr:\n",
    "            subVigiTOA_rej_trials = 0\n",
    "            subVigiTOA_trials = 0\n",
    "            ## get the mean and std of the current sub\n",
    "            const= {'Subject': sub, 'Vigilance': vigi, 'TOA_cond': curr_toa_Cond}\n",
    "            epochs_in_const, epochs_name_in_const,epochs_trial_num_per_cond = getEpochsPerConstraint(const)\n",
    "            mean_sub = np.nanmean(epochs_in_const, axis=0)\n",
    "            std_sub = np.nanstd(epochs_in_const, axis=0)\n",
    "            min_allowed_trial = mean_sub - (std_thresh * std_sub)\n",
    "            max_allowed_trial = mean_sub + (std_thresh * std_sub)\n",
    "            currSub_allEvents = allEvents_df[(allEvents_df[\"Subject\"]== sub) & (allEvents_df[\"Vigilance\"]== vigi) & (allEvents_df[\"TOA_cond\"]== curr_toa_Cond)]\n",
    "\n",
    "            ## create df and epochs_dict with removed outliers\n",
    "            for cond in currSub_allEvents.Cond_id:\n",
    "                bad_trials = []\n",
    "                if str(cond) not in allEpochs_perCond: continue\n",
    "                number_of_trials = allEpochs_perCond[str(cond)].shape[2]\n",
    "                sub_trials+=number_of_trials\n",
    "                for trial_i in range(number_of_trials):\n",
    "                    currTrial_goodElectrCount = len(cfg['electrodes'])\n",
    "\n",
    "                    for electrode_i in range(len(cfg['electrodes'])):\n",
    "                        curr_trial = allEpochs_perCond[str(cond)][electrode_i,:,trial_i]\n",
    "                        if np.any(np.less(curr_trial,min_allowed_trial[electrode_i,:])) or np.any(np.greater(curr_trial,max_allowed_trial[electrode_i,:])):\n",
    "                            currTrial_goodElectrCount -= 1\n",
    "                    if currTrial_goodElectrCount < len(cfg['electrodes'])/2:\n",
    "                        bad_trials = np.append(bad_trials,trial_i)\n",
    "                if len(bad_trials)!=0: # remove trials without any good electrodes samples\n",
    "                    #print(f'sub: {sub}, cond: {cond}, bad trials:{bad_trials}')\n",
    "                    sub_rej_trials +=len(bad_trials)\n",
    "                    allEpochs_perCond_trialFilt[str(cond)] = np.delete(allEpochs_perCond_trialFilt[str(cond)],bad_trials.astype(int),2)\n",
    "                allEvents_df_trialFilt.loc[allEvents_df_trialFilt.Cond_id == int(cond), \"SamplesCount\"] = number_of_trials - len(bad_trials)\n",
    "\n",
    "                subVigiTOA_rej_trials+=len(bad_trials)\n",
    "                subVigiTOA_trials+=number_of_trials\n",
    "\n",
    "            trial_outliers_arr[curr_row_num, :] = [sub, vigi, curr_toa_Cond,subVigiTOA_trials, subVigiTOA_rej_trials, subVigiTOA_rej_trials/subVigiTOA_trials ]\n",
    "            curr_row_num+=1\n",
    "\n",
    "    # subs_reg_trials_perc[sub_i] =  sub_rej_trials / sub_trials\n",
    "    # print(f'sub:{sub}, reg_trials_perc{subs_reg_trials_perc[sub_i]}')\n"
   ],
   "metadata": {
    "collapsed": false,
    "pycharm": {
     "name": "#%%\n"
    }
   }
  },
  {
   "cell_type": "code",
   "execution_count": 72,
   "outputs": [
    {
     "data": {
      "text/plain": "    Subject Vigilance    TOA #samples #badSamples badSamplesRatio\n0        08        Wn      T     1920         205        0.106771\n1        08        Wn   Rand       85           8        0.094118\n2        08        Wn  Fixed      108          10        0.092593\n3        08        N2      T     5310         643        0.121092\n4        08        N2   Rand      220          19        0.086364\n..      ...       ...    ...      ...         ...             ...\n331      38        N3   Rand       40           2            0.05\n332      38        N3  Fixed       84           7        0.083333\n333      38       REM      T     1633         153        0.093693\n334      38       REM   Rand       64           5        0.078125\n335      38       REM  Fixed       92           5        0.054348\n\n[336 rows x 6 columns]",
      "text/html": "<div>\n<style scoped>\n    .dataframe tbody tr th:only-of-type {\n        vertical-align: middle;\n    }\n\n    .dataframe tbody tr th {\n        vertical-align: top;\n    }\n\n    .dataframe thead th {\n        text-align: right;\n    }\n</style>\n<table border=\"1\" class=\"dataframe\">\n  <thead>\n    <tr style=\"text-align: right;\">\n      <th></th>\n      <th>Subject</th>\n      <th>Vigilance</th>\n      <th>TOA</th>\n      <th>#samples</th>\n      <th>#badSamples</th>\n      <th>badSamplesRatio</th>\n    </tr>\n  </thead>\n  <tbody>\n    <tr>\n      <th>0</th>\n      <td>08</td>\n      <td>Wn</td>\n      <td>T</td>\n      <td>1920</td>\n      <td>205</td>\n      <td>0.106771</td>\n    </tr>\n    <tr>\n      <th>1</th>\n      <td>08</td>\n      <td>Wn</td>\n      <td>Rand</td>\n      <td>85</td>\n      <td>8</td>\n      <td>0.094118</td>\n    </tr>\n    <tr>\n      <th>2</th>\n      <td>08</td>\n      <td>Wn</td>\n      <td>Fixed</td>\n      <td>108</td>\n      <td>10</td>\n      <td>0.092593</td>\n    </tr>\n    <tr>\n      <th>3</th>\n      <td>08</td>\n      <td>N2</td>\n      <td>T</td>\n      <td>5310</td>\n      <td>643</td>\n      <td>0.121092</td>\n    </tr>\n    <tr>\n      <th>4</th>\n      <td>08</td>\n      <td>N2</td>\n      <td>Rand</td>\n      <td>220</td>\n      <td>19</td>\n      <td>0.086364</td>\n    </tr>\n    <tr>\n      <th>...</th>\n      <td>...</td>\n      <td>...</td>\n      <td>...</td>\n      <td>...</td>\n      <td>...</td>\n      <td>...</td>\n    </tr>\n    <tr>\n      <th>331</th>\n      <td>38</td>\n      <td>N3</td>\n      <td>Rand</td>\n      <td>40</td>\n      <td>2</td>\n      <td>0.05</td>\n    </tr>\n    <tr>\n      <th>332</th>\n      <td>38</td>\n      <td>N3</td>\n      <td>Fixed</td>\n      <td>84</td>\n      <td>7</td>\n      <td>0.083333</td>\n    </tr>\n    <tr>\n      <th>333</th>\n      <td>38</td>\n      <td>REM</td>\n      <td>T</td>\n      <td>1633</td>\n      <td>153</td>\n      <td>0.093693</td>\n    </tr>\n    <tr>\n      <th>334</th>\n      <td>38</td>\n      <td>REM</td>\n      <td>Rand</td>\n      <td>64</td>\n      <td>5</td>\n      <td>0.078125</td>\n    </tr>\n    <tr>\n      <th>335</th>\n      <td>38</td>\n      <td>REM</td>\n      <td>Fixed</td>\n      <td>92</td>\n      <td>5</td>\n      <td>0.054348</td>\n    </tr>\n  </tbody>\n</table>\n<p>336 rows × 6 columns</p>\n</div>"
     },
     "execution_count": 72,
     "metadata": {},
     "output_type": "execute_result"
    }
   ],
   "source": [
    "trial_outliers_df = pd.DataFrame(trial_outliers_arr, columns=['Subject', 'Vigilance', 'TOA', '#samples','#badSamples','badSamplesRatio'])\n",
    "trial_outliers_df.to_excel(f'{fig_output_dir}\\\\trialExclusion_Rule-halfOrMoreAreBad_stdThresh-{std_thresh}.xlsx')\n",
    "trial_outliers_df"
   ],
   "metadata": {
    "collapsed": false,
    "pycharm": {
     "name": "#%%\n"
    }
   }
  },
  {
   "cell_type": "code",
   "execution_count": null,
   "outputs": [],
   "source": [
    "print(f\"subs_reg_trials_perc:{subs_reg_trials_perc}\\n std_thresh: {std_thresh}\")\n",
    "allEvents_df_trialFilt\n",
    "\n",
    "###########  >.5 of the electrodes are bad\n",
    "# std_thresh: 2.5,\n",
    "# subs_reg_trials_perc:[0.22581514 0.20094256 0.20960281 0.22697529 0.207311   0.25902335\n",
    "#                       0.21629709 0.17558491 0.18446274 0.20757117 0.18769824 0.18699242\n",
    "#                       0.19572465 0.22811686 0.21958012 0.20276727 0.2414294  0.21967275\n",
    "#                       0.20134828 0.19242373 0.21948897 0.22386446 0.18225313 0.21511018\n",
    "#                       0.20734725 0.21284665 0.22323141 0.21843222],\n",
    "# std_thresh: 3\n",
    "# subs_reg_trials_perc:[0.10572173 0.09234342 0.09850056 0.1004981  0.10404665 0.10658174\n",
    "#                       0.09936316 0.07971068 0.08287293 0.09557844 0.08856272 0.08953709\n",
    "#                       0.0993332  0.11131242 0.10447015 0.08829385 0.09166182 0.11171713\n",
    "#                       0.09658114 0.09601073 0.1133947  0.10373107 0.09168289 0.09796814\n",
    "#                       0.09543697 0.10393458 0.0972853  0.10305068]\n",
    "\n",
    "###########  1 electrode or more is bad\n",
    "# std_thresh: 2.5\n",
    "# subs_reg_trials_perc:[0.38004132 0.36944198 0.37310576 0.40570368 0.34755707 0.5985138\n",
    "#                       0.44479398 0.35426969 0.36700868 0.44990915 0.34840475 0.36031402\n",
    "#                       0.33673269 0.37447628 0.38124821 0.36203464 0.44334689 0.36129396\n",
    "#                       0.37511178 0.34327858 0.34708776 0.55055876 0.34052851 0.38157016\n",
    "#                       0.36465584 0.38622896 0.41820567 0.36448074],\n",
    "\n",
    "# std_thresh: 3\n",
    "# subs_reg_trials_perc:[0.20479655 0.1930879  0.20497687 0.21144643 0.19415404 0.32356688\n",
    "#                       0.25351032 0.19174847 0.20532191 0.24778922 0.18645438 0.19761776\n",
    "#                       0.19356737 0.2040539  0.21822336 0.18574557 0.22327135 0.21070779\n",
    "#                       0.20609479 0.18940664 0.20036502 0.32993872 0.18408901 0.19917962\n",
    "#                       0.18917247 0.21628348 0.22131396 0.19601249],\n",
    "\n",
    "###########  all electrodes are bad\n",
    "# std_thresh: 2.5,\n",
    "# subs_reg_trials_perc:[0.11569209 0.10265692 0.10488116 0.11260865 0.11478558 0.09363057\n",
    "#                       0.07059004 0.07912023 0.08580449 0.09927317 0.09416008 0.09244721\n",
    "#                       0.11345362 0.12971351 0.11525278 0.10362333 0.10778617 0.12958435\n",
    "#                       0.10084612 0.10224606 0.12712268 0.07056597 0.09680111 0.11046456\n",
    "#                       0.11051817 0.10227542 0.10576244 0.12146689]\n",
    "# std_thresh: 3,\n",
    "# subs_reg_trials_perc:[0.04985179 0.04098081 0.04673792 0.04473093 0.05284119 0.02908705\n",
    "#                       0.0249367  0.03114621 0.03675724 0.03894609 0.04272654 0.04331348\n",
    "#                       0.05373603 0.05282527 0.04970009 0.04011547 0.0363161  0.0571751\n",
    "#                       0.04409438 0.04767013 0.06348199 0.02586518 0.047121   0.04636077\n",
    "#                       0.0479505  0.04835269 0.04228479 0.05156538],"
   ],
   "metadata": {
    "collapsed": false,
    "pycharm": {
     "name": "#%%\n"
    }
   }
  },
  {
   "cell_type": "code",
   "execution_count": null,
   "outputs": [],
   "source": [
    "# #### Remove outlier trials\n",
    "\"\"\" remove trials only if all electrodes are bad.\n",
    "If less than all electrodes are bad in a trial, these electrodes data will be \"nan\" in those trials.\n",
    "\"\"\"\n",
    "# # outlier trials are trials which have a time-point with a value which exceeds (thresh*std)s from the subject's time-point at his mean erp\n",
    "# const={}\n",
    "# allEpochs_perCond_trialFilt =copy.deepcopy(allEpochs_perCond)\n",
    "# allEvents_df_trialFilt = allEvents_df.copy(deep=True)\n",
    "# std_thresh = 3\n",
    "# deleted_trials_count = 0\n",
    "# for sub in tqdm_notebook(cfg['subs']):\n",
    "#     for vigi in cfg['vigi_states']:\n",
    "#         ## get the mean and std of the current sub\n",
    "#         const= {'Subject': sub, 'Vigilance': vigi}\n",
    "#         epochs_in_const, epochs_name_in_const,epochs_trial_num_per_cond = getEpochsPerConstraint(const)\n",
    "#         mean_sub = np.nanmean(epochs_in_const, axis=0)\n",
    "#         std_sub = np.nanstd(epochs_in_const, axis=0)\n",
    "#         min_allowed_trial = mean_sub - (std_thresh * std_sub)\n",
    "#         max_allowed_trial = mean_sub + (std_thresh * std_sub)\n",
    "#         currSub_allEvents = allEvents_df[(allEvents_df[\"Subject\"]== sub) & (allEvents_df[\"Vigilance\"]== vigi)]\n",
    "\n",
    "#         ## create df and epochs_dict with removed outliers\n",
    "#         for cond in currSub_allEvents.Cond_id:\n",
    "#             bad_trials = []\n",
    "#             if str(cond) not in allEpochs_perCond: continue\n",
    "#             number_of_trials = allEpochs_perCond[str(cond)].shape[2]\n",
    "#             for trial_i in range(number_of_trials):\n",
    "#                 currTrial_goodElectrCount = len(cfg['electrodes'])\n",
    "#                 for electrode_i in range(len(cfg['electrodes'])):\n",
    "#                     curr_trial = allEpochs_perCond[str(cond)][electrode_i,:,trial_i]\n",
    "#                     if np.any(np.less(curr_trial,min_allowed_trial[electrode_i,:])) or np.any(np.greater(curr_trial,max_allowed_trial[electrode_i,:])):\n",
    "#                         allEpochs_perCond_trialFilt[str(cond)][electrode_i,:,trial_i]=np.nan # mark bad trials per electrode with nan\n",
    "#                         currTrial_goodElectrCount -= 1\n",
    "#                 if currTrial_goodElectrCount == 0:\n",
    "#                     bad_trials = np.append(bad_trials,trial_i)\n",
    "#             if len(bad_trials)!=0: # remove trials without any good electrodes samples\n",
    "#                 #print(f'sub: {sub}, cond: {cond}, bad trials:{bad_trials}')\n",
    "#                 deleted_trials_count +=len(bad_trials)\n",
    "#                 allEpochs_perCond_trialFilt[str(cond)] = np.delete(allEpochs_perCond_trialFilt[str(cond)],bad_trials.astype(int),2)\n",
    "#             allEvents_df_trialFilt.loc[allEvents_df_trialFilt.Cond_id == int(cond), \"SamplesCount\"] = number_of_trials - len(bad_trials)\n",
    "\n",
    "# print(f\"deleted_trials_count:{deleted_trials_count}, std_thresh: {std_thresh}\") #(2.5 --> 36629) #(3 --> 15727)\n",
    "# allEvents_df_trialFilt"
   ],
   "metadata": {
    "collapsed": false,
    "pycharm": {
     "name": "#%%\n"
    }
   }
  },
  {
   "cell_type": "markdown",
   "source": [
    "## Save"
   ],
   "metadata": {
    "collapsed": false,
    "pycharm": {
     "name": "#%% md\n"
    }
   }
  },
  {
   "cell_type": "code",
   "execution_count": 78,
   "metadata": {
    "collapsed": false,
    "pycharm": {
     "name": "#%%\n"
    }
   },
   "outputs": [],
   "source": [
    "with open(f'{epochs_dir}\\\\{import_type}.pkl', 'wb') as file:\n",
    "    pickle.dump([allEvents_df, allEpochs_perCond,cfg], file)\n",
    "\n",
    "with open(f'{epochs_dir}\\\\{import_type}_excOulierTrials-{std_thresh}.pkl', 'wb') as file:\n",
    "    pickle.dump([allEvents_df_trialFilt, allEpochs_perCond_trialFilt,cfg], file)\n",
    "\n",
    "# Load\n",
    "# with open(f'{epochs_dir}\\\\{import_type}_allEvents_df.pkl', 'rb') as file:\n",
    "#     _allEvents_df = pickle.load(file)\n",
    "# with open(f'{epochs_dir}\\\\{import_type}_allEpochs.pkl', 'rb') as file:\n",
    "#     _allEpochs_perCond = pickle.load(file)"
   ]
  },
  {
   "cell_type": "markdown",
   "metadata": {
    "collapsed": false,
    "pycharm": {
     "name": "#%% md\n"
    }
   },
   "source": [
    "# Tests"
   ]
  },
  {
   "cell_type": "markdown",
   "source": [
    "NOTICE: It seems that all the events WnT1428_4 are encoded WnT1428_3.\n",
    "Such that WnT1428_4 have 0 samples and WnT1428_3 double the normal\n"
   ],
   "metadata": {
    "collapsed": false,
    "pycharm": {
     "name": "#%% md\n"
    }
   }
  },
  {
   "cell_type": "code",
   "execution_count": null,
   "outputs": [],
   "source": [
    "allEvents_df[(allEvents_df[\"ToneHeight\"]=='1428') &\n",
    "             (allEvents_df[\"Vigilance\"]=='Wn')&\n",
    "             (allEvents_df[\"TOA\"]=='T')&\n",
    "             (allEvents_df[\"TrialPosition\"]=='4')\n",
    "            ]\n",
    "\n",
    "# allEvents_df[(allEvents_df[\"ToneHeight\"]=='1428') &\n",
    "#              (allEvents_df[\"Vigilance\"]=='Wn')&\n",
    "#              (allEvents_df[\"TOA\"]=='T')&\n",
    "#              (allEvents_df[\"TrialPosition\"]=='3')\n",
    "#              ]"
   ],
   "metadata": {
    "collapsed": false,
    "pycharm": {
     "name": "#%%\n"
    }
   }
  },
  {
   "cell_type": "code",
   "execution_count": null,
   "metadata": {
    "collapsed": false,
    "pycharm": {
     "name": "#%%\n"
    }
   },
   "outputs": [],
   "source": [
    "# test whether creating df and data matrix distorts the data\n",
    "epochs_ids = ['2','3','4','10','11','12','13','14','20','21','22','23']\n",
    "sum_arr = np.mean(allEpochs_perCond['1'],axis=(0,2))\n",
    "for epochs_id in epochs_ids:\n",
    "    add_arr = np.mean(allEpochs_perCond[epochs_id],axis=(0,2))\n",
    "    sum_arr = np.sum((sum_arr,add_arr), axis=0)\n",
    "plt.plot(cfg['times'],sum_arr)\n",
    "plt.show()"
   ]
  },
  {
   "cell_type": "code",
   "execution_count": null,
   "metadata": {
    "collapsed": false,
    "pycharm": {
     "name": "#%%\n"
    }
   },
   "outputs": [],
   "source": [
    "## test whether scipy.io.loadmat \"simplify_cells=True\" is distorting the data\n",
    "## test individual epochs\n",
    "sub_load_filepath = f'{epochs_dir}\\\\epochs_sub32_{prepro_name}_{import_type}.mat'\n",
    "try: matlabImport = scipy.io.loadmat(sub_load_filepath, simplify_cells=True)\n",
    "except Exception: print(f'Error importing sub file at: {sub_load_filepath}')\n",
    "epochs_import =  matlabImport['subAllEpochs_wake'] # #elecrd, #times, #epochs"
   ]
  },
  {
   "cell_type": "code",
   "execution_count": null,
   "metadata": {
    "collapsed": false,
    "pycharm": {
     "name": "#%%\n"
    }
   },
   "outputs": [],
   "source": [
    "arr = epochs_import[0,:,1674]\n",
    "plt.plot(cfg['times'],arr)"
   ]
  },
  {
   "cell_type": "code",
   "execution_count": null,
   "metadata": {
    "collapsed": false,
    "pycharm": {
     "name": "#%%\n"
    }
   },
   "outputs": [],
   "source": [
    "#### Test a whole condition (in this case: 32, Wn, T5302_)\n",
    "c_1 = [42,282,561,641,960,1140,1297,1455,1669,1880,2118,2214,2543,2621,2790,3103,3143,3401,3641,4118,4218,4335,4555];\n",
    "c_2 = [44,284,563,643,962,1142,1299,1457,1671,1882,2120,2216,2545,2622,2792,3105,3145,3403,3643,3841,4120,4220,4337,4557];\n",
    "c_3 = [46,285,565,645,964,1144,1301,1459,1673,1884,2122,2218,2547,2624,3107,3147,3405,3645,3843,4122,4222,4339,4559];\n",
    "c_4 = [48,287,567,647,966,1146,1303,1461,1675,1886,2124,2220,2549,2795,3109,3149,3407,3647,3845,4124,4224,4341,4561];\n",
    "c_5 = [50,289,569,649,968,1148,1305,1463,1677,1888,2126,2222,2550,2627,2797,3111,3151,3409,3649,3847,4126,4226,4343,4563];\n",
    "c_6 = [52,291,571,651,970,1150,1307,1465,1679,1890,2128,2224,2552,2629,2799,3113,3153,3651,3849,4128,4345,4565];\n",
    "c_7 = [54,293,573,653,972,1152,1309,1467,1681,1892,2130,2226,2554,2631,2801,3115,3413,3653,3851,4130,4229,4567];\n",
    "c_8 = [56,295,575,655,974,1154,1311,1683,2132,2228,2556,2633,2803,3117,3157,3415,3655,3853,4132,4231,4349];\n",
    "c_9 = [58,297,577,657,1313,1471,1685,1896,2558,2635,2805,3119,3159,3417,3657,4134,4233,4351,4571];\n",
    "c_10 = [978,1158,1473,1898,2136,2232,3161,3419,3857,4235,4353,4573];\n",
    "\n",
    "cs = [c_1,c_2,c_3,c_4,c_5,c_6,c_7,c_8,c_8,c_10]\n",
    "\n",
    "meannnnn = np.zeros((10, len(cfg['times'])))\n",
    "\n",
    "for c_i, c in enumerate(cs):\n",
    "    c_plus_1 = np.add(c,-1)\n",
    "    currEventEpochs = epochs_import[0,:,c_plus_1]\n",
    "    currEventEpochs_meanelectrods = np.nanmean(currEventEpochs,axis=0)\n",
    "    meannnnn[c_i,:] = currEventEpochs_meanelectrods\n",
    "    plt.plot(cfg['times'],currEventEpochs_meanelectrods)\n",
    "plt.show()\n",
    "plt.plot(cfg['times'],np.mean(meannnnn,axis=0))\n",
    "plt.show()"
   ]
  },
  {
   "cell_type": "code",
   "execution_count": null,
   "metadata": {
    "collapsed": false,
    "pycharm": {
     "name": "#%%\n"
    }
   },
   "outputs": [],
   "source": []
  }
 ],
 "metadata": {
  "kernelspec": {
   "display_name": "Python 3.9.6 64-bit",
   "language": "python",
   "name": "python3"
  },
  "language_info": {
   "codemirror_mode": {
    "name": "ipython",
    "version": 3
   },
   "file_extension": ".py",
   "mimetype": "text/x-python",
   "name": "python",
   "nbconvert_exporter": "python",
   "pygments_lexer": "ipython3",
   "version": "3.9.6"
  },
  "vscode": {
   "interpreter": {
    "hash": "946b629e9a35e0bdbfd20594fab2712eb62be0364242a9946815d6a663dae4aa"
   }
  }
 },
 "nbformat": 4,
 "nbformat_minor": 0
}